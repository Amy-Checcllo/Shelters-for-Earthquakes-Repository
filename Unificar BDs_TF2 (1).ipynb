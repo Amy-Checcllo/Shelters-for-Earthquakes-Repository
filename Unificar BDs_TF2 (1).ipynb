{
 "cells": [
  {
   "cell_type": "code",
   "execution_count": 1,
   "id": "b88da338-af61-47c0-8e47-f77959e1f824",
   "metadata": {},
   "outputs": [],
   "source": [
    "import pandas as pd\n",
    "import numpy as np"
   ]
  },
  {
   "cell_type": "code",
   "execution_count": 4,
   "id": "2a65b0fb-15a0-4981-9320-fa56a4f8cc5c",
   "metadata": {},
   "outputs": [],
   "source": [
    "tsunami = pd.ExcelFile('Zonas vulnerables ante tsunami.xlsx')\n",
    "vuln = pd.ExcelFile('Zonas con vulnerabilidad ante sismos (PLANMET 2040).xlsx')\n",
    "riesgo = pd.ExcelFile('Zonas con riesgo ante sismos.xlsx')\n",
    "densidad = pd.ExcelFile('Población Manzana Densidad 2017 (PLANMET 2040).xlsx')\n",
    "infraestructura = pd.ExcelFile('Infraestructura (PLANMET 2040).xlsx')\n",
    "deportivo = pd.ExcelFile('Equipamiento deportivo (PLANMET 2040).xlsx')\n",
    "salud = pd.ExcelFile('Equipamiento de salud (PLANMET 2040) (653 entidades).xlsx')\n",
    "recreacion = pd.ExcelFile('Equipamiento de recreación pública (PLANMET 2040).xlsx')\n",
    "electricidad = pd.ExcelFile('Cobertura eléctrica.xlsx')\n",
    "agua = pd.ExcelFile('Cobertura de Agua.xlsx')\n",
    "areas_verdes = pd.ExcelFile('Areas verdes.xlsx')"
   ]
  },
  {
   "cell_type": "code",
   "execution_count": 7,
   "id": "2534f040-a216-4080-af43-3104ab278d70",
   "metadata": {},
   "outputs": [
    {
     "name": "stdout",
     "output_type": "stream",
     "text": [
      "['Sheet1'] ['Sheet1'] ['Sheet1'] ['Sheet1'] ['Hoja 1'] ['Hoja 1'] ['Hoja 1'] ['Hoja 1'] ['Sheet1'] ['Sheet1'] ['Sheet1']\n"
     ]
    }
   ],
   "source": [
    "print(tsunami.sheet_names, \n",
    "      vuln.sheet_names,\n",
    "     riesgo.sheet_names,\n",
    "     densidad.sheet_names,\n",
    "     infraestructura.sheet_names,\n",
    "     deportivo.sheet_names,\n",
    "     salud.sheet_names,\n",
    "     recreacion.sheet_names,\n",
    "     electricidad.sheet_names,\n",
    "     agua.sheet_names,\n",
    "     areas_verdes.sheet_names)"
   ]
  },
  {
   "cell_type": "code",
   "execution_count": 10,
   "id": "11380d18-eba6-47b8-970e-e2f54a96d999",
   "metadata": {},
   "outputs": [],
   "source": [
    "# Cargar cada hoja (tabla) en un dataframe\n",
    "tsu = tsunami.parse('Sheet1')\n",
    "vul = vuln.parse('Sheet1')\n",
    "risk = riesgo.parse('Sheet1')\n",
    "dens = densidad.parse('Sheet1')\n",
    "inf = infraestructura.parse('Hoja 1')\n",
    "dep = deportivo.parse('Hoja 1')\n",
    "sal = salud.parse('Hoja 1')\n",
    "rec = recreacion.parse('Hoja 1')\n",
    "elec = electricidad.parse('Sheet1')\n",
    "agua = agua.parse('Sheet1')\n",
    "verde = areas_verdes.parse('Sheet1')"
   ]
  },
  {
   "cell_type": "markdown",
   "id": "2d84fd32-54d0-470e-9bd2-bd02868da2bf",
   "metadata": {},
   "source": [
    "## Vulnerabilidad ante tsunami"
   ]
  },
  {
   "cell_type": "code",
   "execution_count": 25,
   "id": "aac12f16-a6f2-493b-b47b-9fd59afa46fc",
   "metadata": {},
   "outputs": [
    {
     "name": "stdout",
     "output_type": "stream",
     "text": [
      "<class 'pandas.core.frame.DataFrame'>\n",
      "RangeIndex: 114084 entries, 0 to 114083\n",
      "Data columns (total 13 columns):\n",
      " #   Column        Non-Null Count   Dtype  \n",
      "---  ------        --------------   -----  \n",
      " 0   OBJECTID      114084 non-null  int64  \n",
      " 1   ID_MANZANA    114080 non-null  object \n",
      " 2   COD_VULNE     114084 non-null  object \n",
      " 3   TIPO_VULNE    114084 non-null  object \n",
      " 4   NIV_VULNE     114084 non-null  object \n",
      " 5   DESC_VULNE    114084 non-null  object \n",
      " 6   NOM_PELI      114084 non-null  object \n",
      " 7   NOMBDIST      114084 non-null  object \n",
      " 8   NOMBPROV      114084 non-null  object \n",
      " 9   NOMBDEP       114084 non-null  object \n",
      " 10  AREA_HAS      114084 non-null  float64\n",
      " 11  SHAPE_AREA    114084 non-null  float64\n",
      " 12  SHAPE_LENGHT  114084 non-null  float64\n",
      "dtypes: float64(3), int64(1), object(9)\n",
      "memory usage: 11.3+ MB\n"
     ]
    }
   ],
   "source": [
    "tsu.info()"
   ]
  },
  {
   "cell_type": "code",
   "execution_count": 28,
   "id": "c42c7c2c-9e22-44b2-903e-3a482a64241d",
   "metadata": {},
   "outputs": [
    {
     "data": {
      "text/plain": [
       "106993"
      ]
     },
     "execution_count": 28,
     "metadata": {},
     "output_type": "execute_result"
    }
   ],
   "source": [
    "tsu['ID_MANZANA'].nunique()"
   ]
  },
  {
   "cell_type": "code",
   "execution_count": 31,
   "id": "d068812e-b863-4772-b715-4d394b29ce63",
   "metadata": {},
   "outputs": [],
   "source": [
    "eliminar = tsu[(tsu['ID_MANZANA'].isnull()) | (tsu['ID_MANZANA'].astype(str).str.len() < 5)].index"
   ]
  },
  {
   "cell_type": "code",
   "execution_count": 34,
   "id": "c1e5e638-ab0b-4f63-9221-388c8208be77",
   "metadata": {},
   "outputs": [],
   "source": [
    "tsu.drop(eliminar, inplace=True)"
   ]
  },
  {
   "cell_type": "code",
   "execution_count": 37,
   "id": "219edba1-69e0-4ddf-a68b-d95e588bd227",
   "metadata": {},
   "outputs": [
    {
     "data": {
      "text/plain": [
       "106992"
      ]
     },
     "execution_count": 37,
     "metadata": {},
     "output_type": "execute_result"
    }
   ],
   "source": [
    "tsu['ID_MANZANA'].nunique()"
   ]
  },
  {
   "cell_type": "code",
   "execution_count": 43,
   "id": "cd9789db-d426-4bfb-b25b-daff66bfe4ba",
   "metadata": {},
   "outputs": [
    {
     "data": {
      "text/plain": [
       "(108814, 13)"
      ]
     },
     "execution_count": 43,
     "metadata": {},
     "output_type": "execute_result"
    }
   ],
   "source": [
    "tsu.shape"
   ]
  },
  {
   "cell_type": "markdown",
   "id": "356324e3-e816-4b61-8baf-085302728656",
   "metadata": {},
   "source": [
    "## Vulnerabilidad ante sismos"
   ]
  },
  {
   "cell_type": "code",
   "execution_count": 46,
   "id": "a53fe02d-53aa-412c-bcfd-17a1907f6c6b",
   "metadata": {},
   "outputs": [
    {
     "name": "stdout",
     "output_type": "stream",
     "text": [
      "<class 'pandas.core.frame.DataFrame'>\n",
      "RangeIndex: 114084 entries, 0 to 114083\n",
      "Data columns (total 13 columns):\n",
      " #   Column        Non-Null Count   Dtype  \n",
      "---  ------        --------------   -----  \n",
      " 0   OBJECTID      114084 non-null  int64  \n",
      " 1   ID_MANZANA    114077 non-null  object \n",
      " 2   COD_VULNE     114084 non-null  object \n",
      " 3   TIPO_VULNE    114084 non-null  object \n",
      " 4   NIV_VULNE     114084 non-null  object \n",
      " 5   DESC_VULNE    114084 non-null  object \n",
      " 6   NOM_PELI      114084 non-null  object \n",
      " 7   NOMBDIST      114084 non-null  object \n",
      " 8   NOMBPROV      114084 non-null  object \n",
      " 9   NOMBDEP       114084 non-null  object \n",
      " 10  AREA_HAS      114084 non-null  float64\n",
      " 11  SHAPE_AREA    114084 non-null  float64\n",
      " 12  SHAPE_LENGHT  114084 non-null  float64\n",
      "dtypes: float64(3), int64(1), object(9)\n",
      "memory usage: 11.3+ MB\n"
     ]
    }
   ],
   "source": [
    "vul.info()"
   ]
  },
  {
   "cell_type": "code",
   "execution_count": 49,
   "id": "952351e0-abed-4612-b7e5-73941698e091",
   "metadata": {},
   "outputs": [
    {
     "data": {
      "text/plain": [
       "106992"
      ]
     },
     "execution_count": 49,
     "metadata": {},
     "output_type": "execute_result"
    }
   ],
   "source": [
    "vul['ID_MANZANA'].nunique()"
   ]
  },
  {
   "cell_type": "code",
   "execution_count": 52,
   "id": "01c00f2b-97a5-4a80-83a9-100e169b0b51",
   "metadata": {},
   "outputs": [
    {
     "data": {
      "text/plain": [
       "106991"
      ]
     },
     "execution_count": 52,
     "metadata": {},
     "output_type": "execute_result"
    }
   ],
   "source": [
    "eliminar = vul[(vul['ID_MANZANA'].isnull()) | (vul['ID_MANZANA'].astype(str).str.len() < 5)].index\n",
    "vul.drop(eliminar, inplace=True)\n",
    "vul['ID_MANZANA'].nunique()"
   ]
  },
  {
   "cell_type": "code",
   "execution_count": 55,
   "id": "f91140a5-d33f-4aaa-8766-d422c9400bb8",
   "metadata": {},
   "outputs": [
    {
     "data": {
      "text/plain": [
       "(108816, 13)"
      ]
     },
     "execution_count": 55,
     "metadata": {},
     "output_type": "execute_result"
    }
   ],
   "source": [
    "vul.shape"
   ]
  },
  {
   "cell_type": "markdown",
   "id": "004c4569-9485-43a8-8681-8678429e9c21",
   "metadata": {},
   "source": [
    "## Riesgo ante sismos"
   ]
  },
  {
   "cell_type": "code",
   "execution_count": 58,
   "id": "bc349ba4-f5c9-490f-a172-12d4b0f19ca5",
   "metadata": {},
   "outputs": [
    {
     "name": "stdout",
     "output_type": "stream",
     "text": [
      "<class 'pandas.core.frame.DataFrame'>\n",
      "RangeIndex: 114084 entries, 0 to 114083\n",
      "Data columns (total 12 columns):\n",
      " #   Column        Non-Null Count   Dtype  \n",
      "---  ------        --------------   -----  \n",
      " 0   OBJECTID      114084 non-null  int64  \n",
      " 1   ID_MANZANA    114076 non-null  object \n",
      " 2   COD_RIESGO    114084 non-null  object \n",
      " 3   NIV_RIESGO    114084 non-null  object \n",
      " 4   NOM_PELI      114084 non-null  object \n",
      " 5   DESC_RIESG    114084 non-null  object \n",
      " 6   NOMBDIST      114084 non-null  object \n",
      " 7   NOMBPROV      114084 non-null  object \n",
      " 8   NOMBDEP       114084 non-null  object \n",
      " 9   AREA_HAS      114084 non-null  float64\n",
      " 10  SHAPE_AREA    114084 non-null  float64\n",
      " 11  SHAPE_LENGHT  114084 non-null  float64\n",
      "dtypes: float64(3), int64(1), object(8)\n",
      "memory usage: 10.4+ MB\n"
     ]
    }
   ],
   "source": [
    "risk.info()"
   ]
  },
  {
   "cell_type": "code",
   "execution_count": 61,
   "id": "6ee58977-0a41-4ae2-aa40-57ab1d3a71b8",
   "metadata": {},
   "outputs": [
    {
     "data": {
      "text/plain": [
       "106992"
      ]
     },
     "execution_count": 61,
     "metadata": {},
     "output_type": "execute_result"
    }
   ],
   "source": [
    "risk['ID_MANZANA'].nunique()"
   ]
  },
  {
   "cell_type": "code",
   "execution_count": 64,
   "id": "ee397e8a-4cfd-48d5-8b06-363f30cd5a5c",
   "metadata": {},
   "outputs": [
    {
     "data": {
      "text/plain": [
       "106991"
      ]
     },
     "execution_count": 64,
     "metadata": {},
     "output_type": "execute_result"
    }
   ],
   "source": [
    "eliminar = risk[(risk['ID_MANZANA'].isnull()) | (risk['ID_MANZANA'].astype(str).str.len() < 5)].index\n",
    "risk.drop(eliminar, inplace=True)\n",
    "risk['ID_MANZANA'].nunique()"
   ]
  },
  {
   "cell_type": "code",
   "execution_count": 67,
   "id": "3715dba6-35e9-4f40-b2ce-538ad94f24dc",
   "metadata": {},
   "outputs": [
    {
     "data": {
      "text/plain": [
       "(108815, 12)"
      ]
     },
     "execution_count": 67,
     "metadata": {},
     "output_type": "execute_result"
    }
   ],
   "source": [
    "risk.shape"
   ]
  },
  {
   "cell_type": "markdown",
   "id": "bc0f5bc0-dbdf-409a-956d-dcadf98d673c",
   "metadata": {},
   "source": [
    "## Densidad poblacional"
   ]
  },
  {
   "cell_type": "code",
   "execution_count": 70,
   "id": "82020117-e011-44f7-852c-c89cc5eb4189",
   "metadata": {},
   "outputs": [
    {
     "name": "stdout",
     "output_type": "stream",
     "text": [
      "<class 'pandas.core.frame.DataFrame'>\n",
      "RangeIndex: 112261 entries, 0 to 112260\n",
      "Data columns (total 10 columns):\n",
      " #   Column        Non-Null Count   Dtype  \n",
      "---  ------        --------------   -----  \n",
      " 0   OBJECTID      112261 non-null  int64  \n",
      " 1   ID_MANZANA    112261 non-null  object \n",
      " 2   IDMZNAR       112261 non-null  object \n",
      " 3   AREA_M2       112261 non-null  float64\n",
      " 4   TOT_POB17     112261 non-null  int64  \n",
      " 5   TOT_POB20     112261 non-null  int64  \n",
      " 6   DENS_POB17    112261 non-null  float64\n",
      " 7   DENS_POB20    112261 non-null  float64\n",
      " 8   SHAPE_AREA    112261 non-null  float64\n",
      " 9   SHAPE_LENGHT  112261 non-null  float64\n",
      "dtypes: float64(5), int64(3), object(2)\n",
      "memory usage: 8.6+ MB\n"
     ]
    }
   ],
   "source": [
    "dens.info()"
   ]
  },
  {
   "cell_type": "code",
   "execution_count": 73,
   "id": "3819afd7-ca83-48ce-9f78-fd340ab2ef74",
   "metadata": {},
   "outputs": [
    {
     "data": {
      "text/plain": [
       "106989"
      ]
     },
     "execution_count": 73,
     "metadata": {},
     "output_type": "execute_result"
    }
   ],
   "source": [
    "eliminar = dens[(dens['ID_MANZANA'].isnull()) | (dens['ID_MANZANA'].astype(str).str.len() < 5)].index\n",
    "dens.drop(eliminar, inplace=True)\n",
    "dens['ID_MANZANA'].nunique()"
   ]
  },
  {
   "cell_type": "code",
   "execution_count": 76,
   "id": "af117983-03af-4739-95e0-b2ddbdca8836",
   "metadata": {},
   "outputs": [
    {
     "data": {
      "text/plain": [
       "(106989, 10)"
      ]
     },
     "execution_count": 76,
     "metadata": {},
     "output_type": "execute_result"
    }
   ],
   "source": [
    "dens.shape"
   ]
  },
  {
   "cell_type": "markdown",
   "id": "08f034e3-8c85-4f69-bf4c-6859da93f66a",
   "metadata": {},
   "source": [
    "## Infraestructura"
   ]
  },
  {
   "cell_type": "code",
   "execution_count": 134,
   "id": "783df225-7671-4b7b-9e85-1b94047d509c",
   "metadata": {},
   "outputs": [
    {
     "name": "stdout",
     "output_type": "stream",
     "text": [
      "<class 'pandas.core.frame.DataFrame'>\n",
      "RangeIndex: 3525 entries, 0 to 3524\n",
      "Data columns (total 11 columns):\n",
      " #   Column        Non-Null Count  Dtype  \n",
      "---  ------        --------------  -----  \n",
      " 0   OBJECTID      3525 non-null   int64  \n",
      " 1   COD_INF       3525 non-null   object \n",
      " 2   TIPO          3525 non-null   object \n",
      " 3   SUBTIPO       3525 non-null   object \n",
      " 4   NOM_INF       3525 non-null   object \n",
      " 5   AREA_M2       3522 non-null   float64\n",
      " 6   NOMBDIST      3525 non-null   object \n",
      " 7   NOMBPROV      3525 non-null   object \n",
      " 8   NOMBDEP       3525 non-null   object \n",
      " 9   Shape_Area    3525 non-null   float64\n",
      " 10  Shape_Length  3525 non-null   float64\n",
      "dtypes: float64(3), int64(1), object(7)\n",
      "memory usage: 303.1+ KB\n"
     ]
    }
   ],
   "source": [
    "inf.info()"
   ]
  },
  {
   "cell_type": "code",
   "execution_count": 140,
   "id": "8257ca16-a749-4c7f-b69c-fc71e70499ab",
   "metadata": {},
   "outputs": [],
   "source": [
    "inf['AREA_M2'] = inf['AREA_M2'].fillna('') #esto es solo para pasarlo a SQL"
   ]
  },
  {
   "cell_type": "code",
   "execution_count": 142,
   "id": "8c9aec85-aa49-4726-8324-644f518bce20",
   "metadata": {},
   "outputs": [
    {
     "name": "stdout",
     "output_type": "stream",
     "text": [
      "<class 'pandas.core.frame.DataFrame'>\n",
      "RangeIndex: 3525 entries, 0 to 3524\n",
      "Data columns (total 11 columns):\n",
      " #   Column        Non-Null Count  Dtype  \n",
      "---  ------        --------------  -----  \n",
      " 0   OBJECTID      3525 non-null   int64  \n",
      " 1   COD_INF       3525 non-null   object \n",
      " 2   TIPO          3525 non-null   object \n",
      " 3   SUBTIPO       3525 non-null   object \n",
      " 4   NOM_INF       3525 non-null   object \n",
      " 5   AREA_M2       3525 non-null   object \n",
      " 6   NOMBDIST      3525 non-null   object \n",
      " 7   NOMBPROV      3525 non-null   object \n",
      " 8   NOMBDEP       3525 non-null   object \n",
      " 9   Shape_Area    3525 non-null   float64\n",
      " 10  Shape_Length  3525 non-null   float64\n",
      "dtypes: float64(2), int64(1), object(8)\n",
      "memory usage: 303.1+ KB\n"
     ]
    }
   ],
   "source": [
    "inf.info()"
   ]
  },
  {
   "cell_type": "markdown",
   "id": "e0314bbd-cc9e-42f3-8a21-9d0afdf570af",
   "metadata": {},
   "source": [
    "## Equipamiento deportivo"
   ]
  },
  {
   "cell_type": "code",
   "execution_count": 80,
   "id": "86799f83-9655-4de6-a9e6-c9eda82a0876",
   "metadata": {},
   "outputs": [
    {
     "name": "stdout",
     "output_type": "stream",
     "text": [
      "<class 'pandas.core.frame.DataFrame'>\n",
      "RangeIndex: 4216 entries, 0 to 4215\n",
      "Data columns (total 17 columns):\n",
      " #   Column        Non-Null Count  Dtype  \n",
      "---  ------        --------------  -----  \n",
      " 0   OBJECTID      4216 non-null   int64  \n",
      " 1   COD_EQ        4216 non-null   object \n",
      " 2   ID_MANZANA    3939 non-null   object \n",
      " 3   IDLOTE        0 non-null      float64\n",
      " 4   IDMZNAR       0 non-null      float64\n",
      " 5   COD_SECT      0 non-null      float64\n",
      " 6   TIPO_EQ       4216 non-null   object \n",
      " 7   SUBTIPO_EQ    4216 non-null   object \n",
      " 8   NOM_EQ        370 non-null    object \n",
      " 9   AREA_M2       4216 non-null   float64\n",
      " 10  OBSERV        0 non-null      float64\n",
      " 11  NOMBDIST      4216 non-null   object \n",
      " 12  NOMBPROV      4216 non-null   object \n",
      " 13  NOMBDEP       4216 non-null   object \n",
      " 14  NOM_UA        0 non-null      float64\n",
      " 15  Shape_Area    4216 non-null   float64\n",
      " 16  Shape_Length  4216 non-null   float64\n",
      "dtypes: float64(8), int64(1), object(8)\n",
      "memory usage: 560.1+ KB\n"
     ]
    }
   ],
   "source": [
    "dep.info()"
   ]
  },
  {
   "cell_type": "code",
   "execution_count": 83,
   "id": "dfae704a-4327-47d3-92fd-648ca023bb53",
   "metadata": {},
   "outputs": [
    {
     "data": {
      "text/plain": [
       "3368"
      ]
     },
     "execution_count": 83,
     "metadata": {},
     "output_type": "execute_result"
    }
   ],
   "source": [
    "dep['ID_MANZANA'].nunique()"
   ]
  },
  {
   "cell_type": "code",
   "execution_count": 86,
   "id": "c0cf1128-7d04-4880-b96b-b1e787f55034",
   "metadata": {},
   "outputs": [
    {
     "data": {
      "text/plain": [
       "3368"
      ]
     },
     "execution_count": 86,
     "metadata": {},
     "output_type": "execute_result"
    }
   ],
   "source": [
    "eliminar = dep[(dep['ID_MANZANA'].isnull()) | (dep['ID_MANZANA'].astype(str).str.len() < 5)].index\n",
    "dep.drop(eliminar, inplace=True)\n",
    "dep['ID_MANZANA'].nunique()"
   ]
  },
  {
   "cell_type": "code",
   "execution_count": 89,
   "id": "2091e151-a67a-4561-b1a4-8cd7d8bebcdc",
   "metadata": {},
   "outputs": [
    {
     "data": {
      "text/plain": [
       "(3939, 17)"
      ]
     },
     "execution_count": 89,
     "metadata": {},
     "output_type": "execute_result"
    }
   ],
   "source": [
    "dep.shape"
   ]
  },
  {
   "cell_type": "code",
   "execution_count": 92,
   "id": "35ee4115-3e53-407a-9b43-a67dd5733ae5",
   "metadata": {},
   "outputs": [
    {
     "name": "stdout",
     "output_type": "stream",
     "text": [
      "<class 'pandas.core.frame.DataFrame'>\n",
      "Index: 3939 entries, 2 to 4215\n",
      "Data columns (total 17 columns):\n",
      " #   Column        Non-Null Count  Dtype  \n",
      "---  ------        --------------  -----  \n",
      " 0   OBJECTID      3939 non-null   int64  \n",
      " 1   COD_EQ        3939 non-null   object \n",
      " 2   ID_MANZANA    3939 non-null   object \n",
      " 3   IDLOTE        0 non-null      float64\n",
      " 4   IDMZNAR       0 non-null      float64\n",
      " 5   COD_SECT      0 non-null      float64\n",
      " 6   TIPO_EQ       3939 non-null   object \n",
      " 7   SUBTIPO_EQ    3939 non-null   object \n",
      " 8   NOM_EQ        358 non-null    object \n",
      " 9   AREA_M2       3939 non-null   float64\n",
      " 10  OBSERV        0 non-null      float64\n",
      " 11  NOMBDIST      3939 non-null   object \n",
      " 12  NOMBPROV      3939 non-null   object \n",
      " 13  NOMBDEP       3939 non-null   object \n",
      " 14  NOM_UA        0 non-null      float64\n",
      " 15  Shape_Area    3939 non-null   float64\n",
      " 16  Shape_Length  3939 non-null   float64\n",
      "dtypes: float64(8), int64(1), object(8)\n",
      "memory usage: 553.9+ KB\n"
     ]
    }
   ],
   "source": [
    "dep.info()"
   ]
  },
  {
   "cell_type": "markdown",
   "id": "520400b8-ef17-46b5-9858-66c222698004",
   "metadata": {},
   "source": [
    "#### Esta parte es para incluirla en SQL"
   ]
  },
  {
   "cell_type": "code",
   "execution_count": 95,
   "id": "9ea95952-2fa1-4994-8cef-a9ed19168c1d",
   "metadata": {},
   "outputs": [],
   "source": [
    "dep['NOM_EQ'] = dep['NOM_EQ'].fillna('')"
   ]
  },
  {
   "cell_type": "code",
   "execution_count": 98,
   "id": "76cdc91d-8d6a-4827-91c4-2f1572ebe278",
   "metadata": {},
   "outputs": [
    {
     "data": {
      "text/plain": [
       "(3939, 17)"
      ]
     },
     "execution_count": 98,
     "metadata": {},
     "output_type": "execute_result"
    }
   ],
   "source": [
    "dep.shape"
   ]
  },
  {
   "cell_type": "markdown",
   "id": "11de5cbb-c940-45fc-bd66-5aad17f3b111",
   "metadata": {},
   "source": [
    "## Equipamiento de salud"
   ]
  },
  {
   "cell_type": "code",
   "execution_count": 101,
   "id": "348899dd-cb6c-43bd-9ea9-4e121de31616",
   "metadata": {},
   "outputs": [
    {
     "name": "stdout",
     "output_type": "stream",
     "text": [
      "<class 'pandas.core.frame.DataFrame'>\n",
      "RangeIndex: 653 entries, 0 to 652\n",
      "Data columns (total 23 columns):\n",
      " #   Column        Non-Null Count  Dtype  \n",
      "---  ------        --------------  -----  \n",
      " 0   OBJECT_ID     653 non-null    int64  \n",
      " 1   COD_EQ        653 non-null    object \n",
      " 2   ID_MANZANA    647 non-null    object \n",
      " 3   IDLOTE        0 non-null      float64\n",
      " 4   IZMNZR        5 non-null      object \n",
      " 5   COD_SECT      0 non-null      float64\n",
      " 6   COD_ES        653 non-null    int64  \n",
      " 7   TIP_EQ        653 non-null    object \n",
      " 8   INSTITUTO_ES  653 non-null    object \n",
      " 9   NIV_AT_ES     653 non-null    object \n",
      " 10  GEST_ES       653 non-null    object \n",
      " 11  CAT_ES        653 non-null    object \n",
      " 12  NCAT_ES       653 non-null    object \n",
      " 13  CAPAC_ES      0 non-null      float64\n",
      " 14  NOM_EQ        653 non-null    object \n",
      " 15  POB_ATEN_20   653 non-null    int64  \n",
      " 16  AREA_M2       653 non-null    float64\n",
      " 17  NOMBDIST      653 non-null    object \n",
      " 18  NOMBPROV      653 non-null    object \n",
      " 19  NOMBDEP       653 non-null    object \n",
      " 20  NOM_UA        0 non-null      float64\n",
      " 21  SHAPE_AREA    653 non-null    float64\n",
      " 22  SHAPE_LENGTH  653 non-null    float64\n",
      "dtypes: float64(7), int64(3), object(13)\n",
      "memory usage: 117.5+ KB\n"
     ]
    }
   ],
   "source": [
    "sal.info()"
   ]
  },
  {
   "cell_type": "code",
   "execution_count": 104,
   "id": "6c65af75-dd58-47d8-95f8-7344a1651793",
   "metadata": {},
   "outputs": [
    {
     "data": {
      "text/plain": [
       "611"
      ]
     },
     "execution_count": 104,
     "metadata": {},
     "output_type": "execute_result"
    }
   ],
   "source": [
    "sal['ID_MANZANA'].nunique()"
   ]
  },
  {
   "cell_type": "code",
   "execution_count": 107,
   "id": "c8959848-8e0e-49cb-9a2b-5436f3ba2ddd",
   "metadata": {},
   "outputs": [
    {
     "data": {
      "text/plain": [
       "611"
      ]
     },
     "execution_count": 107,
     "metadata": {},
     "output_type": "execute_result"
    }
   ],
   "source": [
    "eliminar = sal[(sal['ID_MANZANA'].isnull()) | (sal['ID_MANZANA'].astype(str).str.len() < 5)].index\n",
    "sal.drop(eliminar, inplace=True)\n",
    "sal['ID_MANZANA'].nunique()"
   ]
  },
  {
   "cell_type": "code",
   "execution_count": 110,
   "id": "23edf2c0-f3e6-4eb8-a1f2-d389dafda1ef",
   "metadata": {},
   "outputs": [
    {
     "data": {
      "text/plain": [
       "(647, 23)"
      ]
     },
     "execution_count": 110,
     "metadata": {},
     "output_type": "execute_result"
    }
   ],
   "source": [
    "sal.shape"
   ]
  },
  {
   "cell_type": "markdown",
   "id": "d03148a9-7f92-4c83-a99d-00051a680dea",
   "metadata": {},
   "source": [
    "## Equipamiento de recreación pública"
   ]
  },
  {
   "cell_type": "code",
   "execution_count": 113,
   "id": "8f4a70f5-dd4e-4f9e-af76-8cbc9d70e2f7",
   "metadata": {},
   "outputs": [
    {
     "name": "stdout",
     "output_type": "stream",
     "text": [
      "<class 'pandas.core.frame.DataFrame'>\n",
      "RangeIndex: 6655 entries, 0 to 6654\n",
      "Data columns (total 17 columns):\n",
      " #   Column         Non-Null Count  Dtype  \n",
      "---  ------         --------------  -----  \n",
      " 0   Unnamed: 0     0 non-null      float64\n",
      " 1   OBJECTID       6655 non-null   int64  \n",
      " 2   COD_EQ         6654 non-null   object \n",
      " 3   ID_MANZANA     5530 non-null   object \n",
      " 4   IDLOTE         0 non-null      float64\n",
      " 5   IDMZNAR        169 non-null    object \n",
      " 6   COD_SECT       0 non-null      float64\n",
      " 7   TIPO_EQ        6654 non-null   object \n",
      " 8   SUBTIPO_EQ     6655 non-null   object \n",
      " 9   NOM_EQ         3019 non-null   object \n",
      " 10  AREA_M2        6655 non-null   float64\n",
      " 11  OBSERV         6654 non-null   object \n",
      " 12  NOMBDIST       6655 non-null   object \n",
      " 13  NOMBPROV       6654 non-null   object \n",
      " 14  NOMBDEP        6654 non-null   object \n",
      " 15  Shape__Area    6655 non-null   float64\n",
      " 16  Shape__Length  6655 non-null   float64\n",
      "dtypes: float64(6), int64(1), object(10)\n",
      "memory usage: 884.0+ KB\n"
     ]
    }
   ],
   "source": [
    "rec.info()"
   ]
  },
  {
   "cell_type": "code",
   "execution_count": 116,
   "id": "411824ad-6683-4d91-a313-e7b237b763f2",
   "metadata": {},
   "outputs": [
    {
     "data": {
      "text/plain": [
       "5402"
      ]
     },
     "execution_count": 116,
     "metadata": {},
     "output_type": "execute_result"
    }
   ],
   "source": [
    "rec['ID_MANZANA'].nunique()"
   ]
  },
  {
   "cell_type": "code",
   "execution_count": 119,
   "id": "794944a1-f51d-4133-b9be-88042a07ccc4",
   "metadata": {},
   "outputs": [
    {
     "data": {
      "text/plain": [
       "5402"
      ]
     },
     "execution_count": 119,
     "metadata": {},
     "output_type": "execute_result"
    }
   ],
   "source": [
    "eliminar = rec[(rec['ID_MANZANA'].isnull()) | (rec['ID_MANZANA'].astype(str).str.len() < 5)].index\n",
    "rec.drop(eliminar, inplace=True)\n",
    "rec['ID_MANZANA'].nunique()"
   ]
  },
  {
   "cell_type": "code",
   "execution_count": 122,
   "id": "1c191873-33f9-41b8-81f0-a0784bca9249",
   "metadata": {},
   "outputs": [
    {
     "data": {
      "text/plain": [
       "(5530, 17)"
      ]
     },
     "execution_count": 122,
     "metadata": {},
     "output_type": "execute_result"
    }
   ],
   "source": [
    "rec.shape"
   ]
  },
  {
   "cell_type": "code",
   "execution_count": 124,
   "id": "06c961e9-f21b-40dc-a1a2-d3bf317a85f3",
   "metadata": {},
   "outputs": [
    {
     "name": "stdout",
     "output_type": "stream",
     "text": [
      "<class 'pandas.core.frame.DataFrame'>\n",
      "Index: 5530 entries, 0 to 6653\n",
      "Data columns (total 17 columns):\n",
      " #   Column         Non-Null Count  Dtype  \n",
      "---  ------         --------------  -----  \n",
      " 0   Unnamed: 0     0 non-null      float64\n",
      " 1   OBJECTID       5530 non-null   int64  \n",
      " 2   COD_EQ         5530 non-null   object \n",
      " 3   ID_MANZANA     5530 non-null   object \n",
      " 4   IDLOTE         0 non-null      float64\n",
      " 5   IDMZNAR        0 non-null      object \n",
      " 6   COD_SECT       0 non-null      float64\n",
      " 7   TIPO_EQ        5530 non-null   object \n",
      " 8   SUBTIPO_EQ     5530 non-null   object \n",
      " 9   NOM_EQ         2803 non-null   object \n",
      " 10  AREA_M2        5530 non-null   float64\n",
      " 11  OBSERV         5530 non-null   object \n",
      " 12  NOMBDIST       5530 non-null   object \n",
      " 13  NOMBPROV       5530 non-null   object \n",
      " 14  NOMBDEP        5530 non-null   object \n",
      " 15  Shape__Area    5530 non-null   float64\n",
      " 16  Shape__Length  5530 non-null   float64\n",
      "dtypes: float64(6), int64(1), object(10)\n",
      "memory usage: 777.7+ KB\n"
     ]
    }
   ],
   "source": [
    "rec.info()"
   ]
  },
  {
   "cell_type": "markdown",
   "id": "cc54a54e-2ab2-432f-b9fe-cfa142d71308",
   "metadata": {},
   "source": [
    "#### Esta parte es para inluirla en SQL"
   ]
  },
  {
   "cell_type": "code",
   "execution_count": 128,
   "id": "8904491e-60b7-4ffd-a7f5-2d0b5c1eebdb",
   "metadata": {},
   "outputs": [],
   "source": [
    "rec['NOM_EQ'] = rec['NOM_EQ'].fillna('')"
   ]
  },
  {
   "cell_type": "code",
   "execution_count": 130,
   "id": "ab58d2f7-87b4-40f3-85ef-b0f954c06c26",
   "metadata": {},
   "outputs": [
    {
     "name": "stdout",
     "output_type": "stream",
     "text": [
      "<class 'pandas.core.frame.DataFrame'>\n",
      "Index: 5530 entries, 0 to 6653\n",
      "Data columns (total 17 columns):\n",
      " #   Column         Non-Null Count  Dtype  \n",
      "---  ------         --------------  -----  \n",
      " 0   Unnamed: 0     0 non-null      float64\n",
      " 1   OBJECTID       5530 non-null   int64  \n",
      " 2   COD_EQ         5530 non-null   object \n",
      " 3   ID_MANZANA     5530 non-null   object \n",
      " 4   IDLOTE         0 non-null      float64\n",
      " 5   IDMZNAR        0 non-null      object \n",
      " 6   COD_SECT       0 non-null      float64\n",
      " 7   TIPO_EQ        5530 non-null   object \n",
      " 8   SUBTIPO_EQ     5530 non-null   object \n",
      " 9   NOM_EQ         5530 non-null   object \n",
      " 10  AREA_M2        5530 non-null   float64\n",
      " 11  OBSERV         5530 non-null   object \n",
      " 12  NOMBDIST       5530 non-null   object \n",
      " 13  NOMBPROV       5530 non-null   object \n",
      " 14  NOMBDEP        5530 non-null   object \n",
      " 15  Shape__Area    5530 non-null   float64\n",
      " 16  Shape__Length  5530 non-null   float64\n",
      "dtypes: float64(6), int64(1), object(10)\n",
      "memory usage: 777.7+ KB\n"
     ]
    }
   ],
   "source": [
    "rec.info()"
   ]
  },
  {
   "cell_type": "markdown",
   "id": "04ea489a-9212-41e9-befc-a0a75c8094f5",
   "metadata": {},
   "source": [
    "## Cobertura eléctrica"
   ]
  },
  {
   "cell_type": "code",
   "execution_count": 144,
   "id": "a17c18a1-104c-451b-a1b9-7925b806ca7a",
   "metadata": {},
   "outputs": [
    {
     "name": "stdout",
     "output_type": "stream",
     "text": [
      "<class 'pandas.core.frame.DataFrame'>\n",
      "RangeIndex: 112261 entries, 0 to 112260\n",
      "Data columns (total 10 columns):\n",
      " #   Column        Non-Null Count   Dtype  \n",
      "---  ------        --------------   -----  \n",
      " 0   OBJECTID      112261 non-null  int64  \n",
      " 1   ID_MANZANA    106989 non-null  object \n",
      " 2   COB_EE17      112261 non-null  object \n",
      " 3   TIPO_EE17     102256 non-null  float64\n",
      " 4   NOMBDIST      112261 non-null  object \n",
      " 5   NOMBPROV      112261 non-null  object \n",
      " 6   NOMBDEP       112261 non-null  object \n",
      " 7   AREA_M2       112261 non-null  float64\n",
      " 8   SHAPE_AREA    112261 non-null  float64\n",
      " 9   SHAPE_LENGTH  112261 non-null  float64\n",
      "dtypes: float64(4), int64(1), object(5)\n",
      "memory usage: 8.6+ MB\n"
     ]
    }
   ],
   "source": [
    "elec.info()"
   ]
  },
  {
   "cell_type": "code",
   "execution_count": 146,
   "id": "bc2d76c1-4502-4955-80f9-496b6f984e64",
   "metadata": {},
   "outputs": [
    {
     "data": {
      "text/plain": [
       "106989"
      ]
     },
     "execution_count": 146,
     "metadata": {},
     "output_type": "execute_result"
    }
   ],
   "source": [
    "elec['ID_MANZANA'].nunique()"
   ]
  },
  {
   "cell_type": "code",
   "execution_count": 148,
   "id": "f7ca2d50-3ea9-4a83-b7cd-0a7b75b80c92",
   "metadata": {},
   "outputs": [
    {
     "data": {
      "text/plain": [
       "106989"
      ]
     },
     "execution_count": 148,
     "metadata": {},
     "output_type": "execute_result"
    }
   ],
   "source": [
    "eliminar = elec[(elec['ID_MANZANA'].isnull()) | (elec['ID_MANZANA'].astype(str).str.len() < 5)].index\n",
    "elec.drop(eliminar, inplace=True)\n",
    "elec['ID_MANZANA'].nunique()"
   ]
  },
  {
   "cell_type": "code",
   "execution_count": 150,
   "id": "6823348b-c589-46cb-a582-dda1a356183d",
   "metadata": {},
   "outputs": [
    {
     "data": {
      "text/plain": [
       "(106989, 10)"
      ]
     },
     "execution_count": 150,
     "metadata": {},
     "output_type": "execute_result"
    }
   ],
   "source": [
    "elec.shape"
   ]
  },
  {
   "cell_type": "code",
   "execution_count": 152,
   "id": "e86692df-0207-455d-8735-f6ec4ded419e",
   "metadata": {},
   "outputs": [
    {
     "name": "stdout",
     "output_type": "stream",
     "text": [
      "<class 'pandas.core.frame.DataFrame'>\n",
      "Index: 106989 entries, 0 to 107073\n",
      "Data columns (total 10 columns):\n",
      " #   Column        Non-Null Count   Dtype  \n",
      "---  ------        --------------   -----  \n",
      " 0   OBJECTID      106989 non-null  int64  \n",
      " 1   ID_MANZANA    106989 non-null  object \n",
      " 2   COB_EE17      106989 non-null  object \n",
      " 3   TIPO_EE17     96984 non-null   float64\n",
      " 4   NOMBDIST      106989 non-null  object \n",
      " 5   NOMBPROV      106989 non-null  object \n",
      " 6   NOMBDEP       106989 non-null  object \n",
      " 7   AREA_M2       106989 non-null  float64\n",
      " 8   SHAPE_AREA    106989 non-null  float64\n",
      " 9   SHAPE_LENGTH  106989 non-null  float64\n",
      "dtypes: float64(4), int64(1), object(5)\n",
      "memory usage: 9.0+ MB\n"
     ]
    }
   ],
   "source": [
    "elec.info()"
   ]
  },
  {
   "cell_type": "markdown",
   "id": "4d348361-2749-47d4-b1ad-40d5bdcfae38",
   "metadata": {},
   "source": [
    "#### Esta parte solo es para SQL"
   ]
  },
  {
   "cell_type": "code",
   "execution_count": 158,
   "id": "cad06e0d-2042-4c79-a588-aa877542188b",
   "metadata": {},
   "outputs": [],
   "source": [
    "elec['TIPO_EE17'] = elec['TIPO_EE17'].fillna('')"
   ]
  },
  {
   "cell_type": "markdown",
   "id": "c38da15d-9035-4d78-86be-adc6e071c931",
   "metadata": {},
   "source": [
    "## Cobertura de agua"
   ]
  },
  {
   "cell_type": "code",
   "execution_count": 160,
   "id": "24d1d202-df6f-435a-9d6b-94845552eb85",
   "metadata": {},
   "outputs": [
    {
     "name": "stdout",
     "output_type": "stream",
     "text": [
      "<class 'pandas.core.frame.DataFrame'>\n",
      "RangeIndex: 112261 entries, 0 to 112260\n",
      "Data columns (total 14 columns):\n",
      " #   Column        Non-Null Count   Dtype  \n",
      "---  ------        --------------   -----  \n",
      " 0   OBJECTID      112261 non-null  int64  \n",
      " 1   CODLOTE       0 non-null       float64\n",
      " 2   IDLOTE        0 non-null       float64\n",
      " 3   ID_MANZANA    106989 non-null  object \n",
      " 4   IDMAZNAR      5272 non-null    object \n",
      " 5   COB_AP17      112261 non-null  object \n",
      " 6   AREA_M2       112261 non-null  float64\n",
      " 7   NOMBDIST      112261 non-null  object \n",
      " 8   NOMBPROV      112261 non-null  object \n",
      " 9   NOMBDEP       112261 non-null  object \n",
      " 10  ID_SECT       0 non-null       float64\n",
      " 11  NOM_UA        0 non-null       float64\n",
      " 12  SHAPE_AREA    112261 non-null  float64\n",
      " 13  SHAPE_LENGHT  112261 non-null  float64\n",
      "dtypes: float64(7), int64(1), object(6)\n",
      "memory usage: 12.0+ MB\n"
     ]
    }
   ],
   "source": [
    "agua.info()"
   ]
  },
  {
   "cell_type": "code",
   "execution_count": 162,
   "id": "38cea5e4-c9ab-4d6d-a8fc-cb58c7a97939",
   "metadata": {},
   "outputs": [
    {
     "data": {
      "text/plain": [
       "106989"
      ]
     },
     "execution_count": 162,
     "metadata": {},
     "output_type": "execute_result"
    }
   ],
   "source": [
    "agua['ID_MANZANA'].nunique()"
   ]
  },
  {
   "cell_type": "code",
   "execution_count": 164,
   "id": "1ee7522b-60ac-4adb-9884-338ea824ff56",
   "metadata": {},
   "outputs": [
    {
     "data": {
      "text/plain": [
       "106989"
      ]
     },
     "execution_count": 164,
     "metadata": {},
     "output_type": "execute_result"
    }
   ],
   "source": [
    "eliminar = agua[(agua['ID_MANZANA'].isnull()) | (agua['ID_MANZANA'].astype(str).str.len() < 5)].index\n",
    "agua.drop(eliminar, inplace=True)\n",
    "agua['ID_MANZANA'].nunique()"
   ]
  },
  {
   "cell_type": "code",
   "execution_count": 166,
   "id": "5784f2d7-cd4b-4e2f-ac37-c48cf6e40b6a",
   "metadata": {},
   "outputs": [
    {
     "data": {
      "text/plain": [
       "(106989, 14)"
      ]
     },
     "execution_count": 166,
     "metadata": {},
     "output_type": "execute_result"
    }
   ],
   "source": [
    "agua.shape"
   ]
  },
  {
   "cell_type": "code",
   "execution_count": 168,
   "id": "c0a0a0ba-f352-4f74-b520-54bbf1997cbc",
   "metadata": {},
   "outputs": [
    {
     "name": "stdout",
     "output_type": "stream",
     "text": [
      "<class 'pandas.core.frame.DataFrame'>\n",
      "Index: 106989 entries, 0 to 107073\n",
      "Data columns (total 14 columns):\n",
      " #   Column        Non-Null Count   Dtype  \n",
      "---  ------        --------------   -----  \n",
      " 0   OBJECTID      106989 non-null  int64  \n",
      " 1   CODLOTE       0 non-null       float64\n",
      " 2   IDLOTE        0 non-null       float64\n",
      " 3   ID_MANZANA    106989 non-null  object \n",
      " 4   IDMAZNAR      0 non-null       object \n",
      " 5   COB_AP17      106989 non-null  object \n",
      " 6   AREA_M2       106989 non-null  float64\n",
      " 7   NOMBDIST      106989 non-null  object \n",
      " 8   NOMBPROV      106989 non-null  object \n",
      " 9   NOMBDEP       106989 non-null  object \n",
      " 10  ID_SECT       0 non-null       float64\n",
      " 11  NOM_UA        0 non-null       float64\n",
      " 12  SHAPE_AREA    106989 non-null  float64\n",
      " 13  SHAPE_LENGHT  106989 non-null  float64\n",
      "dtypes: float64(7), int64(1), object(6)\n",
      "memory usage: 12.2+ MB\n"
     ]
    }
   ],
   "source": [
    "agua.info()"
   ]
  },
  {
   "cell_type": "markdown",
   "id": "1b52f2b2-fddb-41af-8285-1d9e3354c1b7",
   "metadata": {},
   "source": [
    "## Áreas verdes"
   ]
  },
  {
   "cell_type": "code",
   "execution_count": 170,
   "id": "c8d69e31-88c2-4edc-8bf9-36e6ffa67ce6",
   "metadata": {},
   "outputs": [
    {
     "name": "stdout",
     "output_type": "stream",
     "text": [
      "<class 'pandas.core.frame.DataFrame'>\n",
      "RangeIndex: 8337 entries, 0 to 8336\n",
      "Data columns (total 10 columns):\n",
      " #   Column        Non-Null Count  Dtype  \n",
      "---  ------        --------------  -----  \n",
      " 0   OBJECTID      8337 non-null   int64  \n",
      " 1   COD_AV        8337 non-null   object \n",
      " 2   NOM_AV        8337 non-null   object \n",
      " 3   AREA_HAS      8337 non-null   float64\n",
      " 4   NOMBDIST      8337 non-null   object \n",
      " 5   NOMBPROV      8337 non-null   object \n",
      " 6   NOMBDEP       8337 non-null   object \n",
      " 7   NOM_EQ        8325 non-null   object \n",
      " 8   SHAPE_AREA    8337 non-null   float64\n",
      " 9   SHAPE_LENGHT  8337 non-null   float64\n",
      "dtypes: float64(3), int64(1), object(6)\n",
      "memory usage: 651.5+ KB\n"
     ]
    }
   ],
   "source": [
    "verde.info()"
   ]
  },
  {
   "cell_type": "code",
   "execution_count": 174,
   "id": "cc277f68-7220-4f56-bde7-b49e1edc15d1",
   "metadata": {},
   "outputs": [],
   "source": [
    "verde['NOM_EQ'] = verde['NOM_EQ'].fillna('') #esto solo para SQL"
   ]
  },
  {
   "cell_type": "markdown",
   "id": "2c3e59fa-2898-493d-b292-087872e3d51f",
   "metadata": {},
   "source": [
    "#### UNIFICAR Bases de datos con ID_Manzana\n",
    "En esta primera parte solo se unificarán las siguientes bases de datos:\n",
    "\n",
    "* Vulnerabilidad ante sismos\n",
    "* Riesgo ante sismos\n",
    "* Densidad poblacional\n",
    "* Equipamiento de salud\n",
    "* Cobertura de agua\n",
    "* Cobertura eléctrica"
   ]
  },
  {
   "cell_type": "markdown",
   "id": "0b5e7b06-d96d-4139-a4c8-845c75f31dd7",
   "metadata": {},
   "source": [
    "##### Cambio de nombres de columnas"
   ]
  },
  {
   "cell_type": "code",
   "execution_count": 388,
   "id": "c712f08b-85d3-4f19-b8ff-f0a7a0b93a5d",
   "metadata": {},
   "outputs": [],
   "source": [
    "vul.rename(columns={'AREA_HAS': 'AREA_HAS_VULN','NOM_PELI':'NOM_PELI_VULN','NOMBDIST':'NOMBDIST_VULN',\n",
    "                    'NOMBPROV':'NOMBPROV_VULN','NOMBDEP':'NOMBDEP_VULN',\n",
    "                    'SHAPE_AREA':'SHAPE_AREA_VULN','SHAPE_LENGHT':'SHAPE_LENGHT_VULN'},inplace=True)"
   ]
  },
  {
   "cell_type": "code",
   "execution_count": 396,
   "id": "a3c26af7-cbd7-46b8-b9cd-f4727dbd85d8",
   "metadata": {},
   "outputs": [],
   "source": [
    "vul.rename(columns={'SHAPE_LENGHT':'SHAPE_LENGHT_VULN','AREA_HAS': 'AREA_HAS_VULN'},inplace=True)"
   ]
  },
  {
   "cell_type": "code",
   "execution_count": 402,
   "id": "1693be03-85ef-4f4f-a253-c1ee37ccc471",
   "metadata": {},
   "outputs": [],
   "source": [
    "risk.rename(columns={'NOM_PELI':'NOM_PELI_RIESG','NOMBDIST':'NOMBDIST_RIESG',\n",
    "                    'NOMBPROV':'NOMBPROV_RIESG','NOMBDEP':'NOMBDEP_RIESG','AREA_HAS':'AREA_HAS_RIESG',\n",
    "                    'SHAPE_AREA':'SHAPE_AREA_RIESG','SHAPE_LENGHT':'SHAPE_LENGHT_RIESG'},inplace=True)"
   ]
  },
  {
   "cell_type": "code",
   "execution_count": 408,
   "id": "9cdd2f7b-05b5-46b9-84ea-1007077a11f0",
   "metadata": {},
   "outputs": [],
   "source": [
    "dens.rename(columns={'SHAPE_AREA':'SHAPE_AREA_DENS','SHAPE_LENGHT':'SHAPE_LENGHT_DENS'},inplace=True)"
   ]
  },
  {
   "cell_type": "code",
   "execution_count": 418,
   "id": "bc034b8c-07f2-4691-be2b-43c9ce6c2f5a",
   "metadata": {},
   "outputs": [],
   "source": [
    "sal.rename(columns={'AREA_M2':'AREA_M2_SAL','NOMBDIST':'NOMBDIST_SAL',\n",
    "                    'NOMBPROV':'NOMBPROV_SAL','NOMBDEP':'NOMBDEP_SAL',\n",
    "                    'SHAPE_AREA':'SHAPE_AREA_SAL','SHAPE_LENGHT':'SHAPE_LENGHT_SAL'},inplace=True)"
   ]
  },
  {
   "cell_type": "code",
   "execution_count": 424,
   "id": "2204ebf7-5d07-4a80-bc0d-0dc2eb270d30",
   "metadata": {},
   "outputs": [],
   "source": [
    "agua.rename(columns={'AREA_M2':'AREA_M2_AGUA','NOMBDIST':'NOMBDIST_AGUA',\n",
    "                    'NOMBPROV':'NOMBPROV_AGUA','NOMBDEP':'NOMBDEP_AGUA',\n",
    "                    'SHAPE_AREA':'SHAPE_AREA_AGUA','SHAPE_LENGHT':'SHAPE_LENGHT_AGUA'},inplace=True)"
   ]
  },
  {
   "cell_type": "code",
   "execution_count": 430,
   "id": "aad28b98-bd23-4c8b-a838-b79ebb50e5d1",
   "metadata": {},
   "outputs": [],
   "source": [
    "elec.rename(columns={'AREA_M2':'AREA_M2_ELEC','NOMBDIST':'NOMBDIST_ELEC',\n",
    "                    'NOMBPROV':'NOMBPROV_ELEC','NOMBDEP':'NOMBDEP_ELEC',\n",
    "                    'SHAPE_AREA':'SHAPE_AREA_ELEC','SHAPE_LENGTH':'SHAPE_LENGHT_ELEC'},inplace=True)"
   ]
  },
  {
   "cell_type": "code",
   "execution_count": 446,
   "id": "34f4697a-58da-49af-86e2-5de7c2970a11",
   "metadata": {},
   "outputs": [],
   "source": [
    "vul['ID_MANZANA'] = vul['ID_MANZANA'].astype(str)\n",
    "risk['ID_MANZANA'] = risk['ID_MANZANA'].astype(str)\n",
    "dens['ID_MANZANA'] = dens['ID_MANZANA'].astype(str)\n",
    "sal['ID_MANZANA'] = sal['ID_MANZANA'].astype(str)\n",
    "agua['ID_MANZANA'] = agua['ID_MANZANA'].astype(str)\n",
    "elec['ID_MANZANA'] = elec['ID_MANZANA'].astype(str)"
   ]
  },
  {
   "cell_type": "code",
   "execution_count": 537,
   "id": "1acc05b1-5d7c-4705-abdd-253bea2913f8",
   "metadata": {},
   "outputs": [],
   "source": [
    "vul_selected = vul[['ID_MANZANA', 'COD_VULNE', 'TIPO_VULNE','NIV_VULNE','DESC_VULNE','AREA_HAS_VULN',\n",
    "                    'NOMBDIST_VULN', 'NOMBPROV_VULN','NOMBDEP_VULN','SHAPE_AREA_VULN','SHAPE_LENGHT_VULN']].copy()\n",
    "risk_selected = risk[['ID_MANZANA', 'COD_RIESGO', 'NIV_RIESGO','NOM_PELI_RIESG','DESC_RIESG','AREA_HAS_RIESG',\n",
    "                     'NOMBDIST_RIESG','NOMBPROV_RIESG','NOMBDEP_RIESG','SHAPE_AREA_RIESG','SHAPE_LENGHT_RIESG']].copy()\n",
    "dens_selected = dens[['ID_MANZANA', 'AREA_M2','TOT_POB17','TOT_POB20','DENS_POB17','DENS_POB20',\n",
    "                     'SHAPE_AREA_DENS','SHAPE_LENGHT_DENS']].copy()\n",
    "sal_selected = sal[['ID_MANZANA', 'COD_ES', 'TIP_EQ','INSTITUTO_ES','NIV_AT_ES','GEST_ES','CAT_ES','NCAT_ES',\n",
    "                    'NOM_EQ','POB_ATEN_20','AREA_M2_SAL','NOMBDIST_SAL','NOMBPROV_SAL','NOMBDEP_SAL',\n",
    "                    'SHAPE_AREA_SAL','SHAPE_LENGHT_SAL']].copy()\n",
    "agua_selected = agua[['ID_MANZANA', 'COB_AP17','AREA_M2_AGUA','NOMBDIST_AGUA',\n",
    "                      'NOMBPROV_AGUA','NOMBDEP_AGUA','SHAPE_AREA_AGUA','SHAPE_LENGHT_AGUA']].copy()\n",
    "elec_selected = elec[['ID_MANZANA', 'COB_EE17', 'TIPO_EE17','AREA_M2_ELEC','NOMBDIST_ELEC',\n",
    "                      'NOMBPROV_ELEC','NOMBDEP_ELEC','SHAPE_AREA_ELEC','SHAPE_LENGHT_ELEC']].copy()"
   ]
  },
  {
   "cell_type": "code",
   "execution_count": 438,
   "id": "52f78e55-531a-4144-951d-dbb62c02d760",
   "metadata": {},
   "outputs": [
    {
     "name": "stdout",
     "output_type": "stream",
     "text": [
      "(108816, 13) (108815, 12) (647, 23) (106989, 14) (106989, 10)\n"
     ]
    }
   ],
   "source": [
    "print(vul.shape,risk.shape,sal.shape,agua.shape,elec.shape)"
   ]
  },
  {
   "cell_type": "code",
   "execution_count": 450,
   "id": "572896c8-cd9d-4a2f-b170-ec8855ba69d0",
   "metadata": {},
   "outputs": [],
   "source": [
    "from functools import reduce\n",
    "\n",
    "# Lista de los DataFrames seleccionados que quieres unir\n",
    "dataframes_selected = [vul_selected, risk_selected, dens_selected, sal_selected, agua_selected, elec_selected]\n",
    "\n",
    "# Realiza la unión de todos los DataFrames usando un outer join en la columna 'ID_Manzana'\n",
    "df_unido_seleccionado = reduce(lambda left, right: pd.merge(left, right, on='ID_MANZANA', how='outer'), dataframes_selected)"
   ]
  },
  {
   "cell_type": "code",
   "execution_count": 442,
   "id": "94ebd22d-6a62-4160-912a-fb9a7890448d",
   "metadata": {},
   "outputs": [
    {
     "data": {
      "text/plain": [
       "(113392, 58)"
      ]
     },
     "execution_count": 442,
     "metadata": {},
     "output_type": "execute_result"
    }
   ],
   "source": [
    "df_unido_seleccionado.shape"
   ]
  },
  {
   "cell_type": "code",
   "execution_count": 539,
   "id": "94e84cd1-71ce-472c-9fce-c30ed6dae8f2",
   "metadata": {},
   "outputs": [],
   "source": [
    "#df_unido_seleccionado"
   ]
  },
  {
   "cell_type": "code",
   "execution_count": 459,
   "id": "a7a45847-07bb-4a0f-81f1-bd6cb59f6983",
   "metadata": {},
   "outputs": [],
   "source": [
    "df_unido_seleccionado.to_excel('BD1_integrada.xlsx',index=False)"
   ]
  },
  {
   "cell_type": "markdown",
   "id": "0ee5fc0a-b1e6-4035-9c98-5c7a9dc9b82f",
   "metadata": {},
   "source": [
    "#### PRUEBAS INICIALES"
   ]
  },
  {
   "cell_type": "code",
   "execution_count": 264,
   "id": "52d7c41b-5fe9-4934-ac5e-51a633dca887",
   "metadata": {},
   "outputs": [],
   "source": [
    "sal.rename(columns={'SHAPE_LENGTH': 'SHAPE_LENGHT'},inplace=True)"
   ]
  },
  {
   "cell_type": "code",
   "execution_count": 282,
   "id": "159a04f4-f06c-4af1-af4e-afb8c6513a3d",
   "metadata": {},
   "outputs": [],
   "source": [
    "df1 = vul[['ID_MANZANA','NOMBDIST','NOMBPROV','NOMBDEP','SHAPE_AREA','SHAPE_LENGHT']].copy()"
   ]
  },
  {
   "cell_type": "code",
   "execution_count": 284,
   "id": "a2d5def8-509e-473c-a1fc-55437d041aa2",
   "metadata": {},
   "outputs": [],
   "source": [
    "df1['SHAPE_AREA'] = df1['SHAPE_AREA'].astype(str)\n",
    "df1['SHAPE_LENGHT'] = df1['SHAPE_LENGHT'].astype(str)"
   ]
  },
  {
   "cell_type": "code",
   "execution_count": 286,
   "id": "83800115-0c63-43cb-a170-2485f5b06f51",
   "metadata": {},
   "outputs": [],
   "source": [
    "df2 = sal[['ID_MANZANA','NOMBDIST','NOMBPROV','NOMBDEP','SHAPE_AREA','SHAPE_LENGHT']].copy()"
   ]
  },
  {
   "cell_type": "code",
   "execution_count": 292,
   "id": "d1c218c8-b5f9-43da-83e4-4e168238f51a",
   "metadata": {},
   "outputs": [],
   "source": [
    "df2['ID_MANZANA'] = df2['ID_MANZANA'].astype(str)\n",
    "df2['SHAPE_AREA'] = df2['SHAPE_AREA'].astype(str)\n",
    "df2['SHAPE_LENGHT'] = df2['SHAPE_LENGHT'].astype(str)"
   ]
  },
  {
   "cell_type": "markdown",
   "id": "81de5057-ee04-4230-9431-db2b8441b7f9",
   "metadata": {},
   "source": [
    "## -----------------------------------------------------------"
   ]
  },
  {
   "cell_type": "code",
   "execution_count": 541,
   "id": "6a6d90d4-a25e-4697-9145-837a86211cbe",
   "metadata": {},
   "outputs": [
    {
     "data": {
      "text/plain": [
       "array(['ALTA', 'SIN VULNE', 'MUY ALTA', 'MEDIA', 'BAJA'], dtype=object)"
      ]
     },
     "execution_count": 541,
     "metadata": {},
     "output_type": "execute_result"
    }
   ],
   "source": [
    "vul_selected['NIV_VULNE'].unique()"
   ]
  },
  {
   "cell_type": "code",
   "execution_count": 543,
   "id": "e140a6c2-ca2a-43ab-9330-15083f108e69",
   "metadata": {},
   "outputs": [],
   "source": [
    "# Diccionario de mapeo\n",
    "mapa_vulne = {\n",
    "    'SIN VULNE': 0,\n",
    "    'BAJA': 1,\n",
    "    'MEDIA': 2,\n",
    "    'ALTA': 3,\n",
    "    'MUY ALTA': 4\n",
    "}\n",
    "\n",
    "# Asignar valores a 'CLASE' usando el diccionario\n",
    "vul_selected['CLASE'] = vul_selected['NIV_VULNE'].map(mapa_vulne)\n",
    "\n",
    "# Reemplazar los valores que no estén en el diccionario por None (opcional)\n",
    "vul_selected['CLASE'] = vul_selected['CLASE'].fillna(np.nan)"
   ]
  },
  {
   "cell_type": "code",
   "execution_count": 547,
   "id": "573ca75c-910d-45ef-887a-eeba75f83755",
   "metadata": {},
   "outputs": [
    {
     "data": {
      "text/html": [
       "<div>\n",
       "<style scoped>\n",
       "    .dataframe tbody tr th:only-of-type {\n",
       "        vertical-align: middle;\n",
       "    }\n",
       "\n",
       "    .dataframe tbody tr th {\n",
       "        vertical-align: top;\n",
       "    }\n",
       "\n",
       "    .dataframe thead th {\n",
       "        text-align: right;\n",
       "    }\n",
       "</style>\n",
       "<table border=\"1\" class=\"dataframe\">\n",
       "  <thead>\n",
       "    <tr style=\"text-align: right;\">\n",
       "      <th></th>\n",
       "      <th>ID_MANZANA</th>\n",
       "      <th>COD_VULNE</th>\n",
       "      <th>TIPO_VULNE</th>\n",
       "      <th>NIV_VULNE</th>\n",
       "      <th>DESC_VULNE</th>\n",
       "      <th>AREA_HAS_VULN</th>\n",
       "      <th>NOMBDIST_VULN</th>\n",
       "      <th>NOMBPROV_VULN</th>\n",
       "      <th>NOMBDEP_VULN</th>\n",
       "      <th>SHAPE_AREA_VULN</th>\n",
       "      <th>SHAPE_LENGHT_VULN</th>\n",
       "      <th>CLASE</th>\n",
       "    </tr>\n",
       "  </thead>\n",
       "  <tbody>\n",
       "    <tr>\n",
       "      <th>0</th>\n",
       "      <td>15010300200031C</td>\n",
       "      <td>VSISIS-000001</td>\n",
       "      <td>SINTESIS</td>\n",
       "      <td>ALTA</td>\n",
       "      <td>VULNERABILIDAD SINTESIS DEL MEDIO URBANO ANTE ...</td>\n",
       "      <td>0.013762</td>\n",
       "      <td>ATE</td>\n",
       "      <td>LIMA</td>\n",
       "      <td>LIMA</td>\n",
       "      <td>137.62</td>\n",
       "      <td>52.76</td>\n",
       "      <td>3</td>\n",
       "    </tr>\n",
       "    <tr>\n",
       "      <th>1</th>\n",
       "      <td>15010302600036B</td>\n",
       "      <td>VSISIS-000002</td>\n",
       "      <td>SINTESIS</td>\n",
       "      <td>ALTA</td>\n",
       "      <td>VULNERABILIDAD SINTESIS DEL MEDIO URBANO ANTE ...</td>\n",
       "      <td>0.201682</td>\n",
       "      <td>ATE</td>\n",
       "      <td>LIMA</td>\n",
       "      <td>LIMA</td>\n",
       "      <td>2016.82</td>\n",
       "      <td>262.12</td>\n",
       "      <td>3</td>\n",
       "    </tr>\n",
       "    <tr>\n",
       "      <th>2</th>\n",
       "      <td>150111001000010</td>\n",
       "      <td>VSISIS-000003</td>\n",
       "      <td>SINTESIS</td>\n",
       "      <td>SIN VULNE</td>\n",
       "      <td>SIN VULNERABILIDAD</td>\n",
       "      <td>0.266720</td>\n",
       "      <td>EL AGUSTINO</td>\n",
       "      <td>LIMA</td>\n",
       "      <td>LIMA</td>\n",
       "      <td>2667.20</td>\n",
       "      <td>210.90</td>\n",
       "      <td>0</td>\n",
       "    </tr>\n",
       "    <tr>\n",
       "      <th>3</th>\n",
       "      <td>150111001000030</td>\n",
       "      <td>VSISIS-000004</td>\n",
       "      <td>SINTESIS</td>\n",
       "      <td>ALTA</td>\n",
       "      <td>VULNERABILIDAD SINTESIS DEL MEDIO URBANO ANTE ...</td>\n",
       "      <td>0.177740</td>\n",
       "      <td>EL AGUSTINO</td>\n",
       "      <td>LIMA</td>\n",
       "      <td>LIMA</td>\n",
       "      <td>1777.40</td>\n",
       "      <td>170.11</td>\n",
       "      <td>3</td>\n",
       "    </tr>\n",
       "    <tr>\n",
       "      <th>4</th>\n",
       "      <td>150111001000040</td>\n",
       "      <td>VSISIS-000005</td>\n",
       "      <td>SINTESIS</td>\n",
       "      <td>MUY ALTA</td>\n",
       "      <td>VULNERABILIDAD SINTESIS DEL MEDIO URBANO ANTE ...</td>\n",
       "      <td>0.139178</td>\n",
       "      <td>EL AGUSTINO</td>\n",
       "      <td>LIMA</td>\n",
       "      <td>LIMA</td>\n",
       "      <td>1391.78</td>\n",
       "      <td>148.00</td>\n",
       "      <td>4</td>\n",
       "    </tr>\n",
       "  </tbody>\n",
       "</table>\n",
       "</div>"
      ],
      "text/plain": [
       "        ID_MANZANA      COD_VULNE TIPO_VULNE  NIV_VULNE  \\\n",
       "0  15010300200031C  VSISIS-000001   SINTESIS       ALTA   \n",
       "1  15010302600036B  VSISIS-000002   SINTESIS       ALTA   \n",
       "2  150111001000010  VSISIS-000003   SINTESIS  SIN VULNE   \n",
       "3  150111001000030  VSISIS-000004   SINTESIS       ALTA   \n",
       "4  150111001000040  VSISIS-000005   SINTESIS   MUY ALTA   \n",
       "\n",
       "                                          DESC_VULNE  AREA_HAS_VULN  \\\n",
       "0  VULNERABILIDAD SINTESIS DEL MEDIO URBANO ANTE ...       0.013762   \n",
       "1  VULNERABILIDAD SINTESIS DEL MEDIO URBANO ANTE ...       0.201682   \n",
       "2                                 SIN VULNERABILIDAD       0.266720   \n",
       "3  VULNERABILIDAD SINTESIS DEL MEDIO URBANO ANTE ...       0.177740   \n",
       "4  VULNERABILIDAD SINTESIS DEL MEDIO URBANO ANTE ...       0.139178   \n",
       "\n",
       "  NOMBDIST_VULN NOMBPROV_VULN NOMBDEP_VULN  SHAPE_AREA_VULN  \\\n",
       "0           ATE          LIMA         LIMA           137.62   \n",
       "1           ATE          LIMA         LIMA          2016.82   \n",
       "2   EL AGUSTINO          LIMA         LIMA          2667.20   \n",
       "3   EL AGUSTINO          LIMA         LIMA          1777.40   \n",
       "4   EL AGUSTINO          LIMA         LIMA          1391.78   \n",
       "\n",
       "   SHAPE_LENGHT_VULN  CLASE  \n",
       "0              52.76      3  \n",
       "1             262.12      3  \n",
       "2             210.90      0  \n",
       "3             170.11      3  \n",
       "4             148.00      4  "
      ]
     },
     "execution_count": 547,
     "metadata": {},
     "output_type": "execute_result"
    }
   ],
   "source": [
    "vul_selected.head()"
   ]
  },
  {
   "cell_type": "code",
   "execution_count": 549,
   "id": "f57543fc-8902-4902-82d2-6bdc49995383",
   "metadata": {},
   "outputs": [],
   "source": [
    "# Agrupar por ID_MANZANA y mantener solo la fila con la CLASE más alta\n",
    "vul_agrupado = vul_selected.loc[vul_selected.groupby('ID_MANZANA')['CLASE'].idxmax()]\n",
    "\n",
    "# Reiniciar el índice si es necesario\n",
    "#vul_selected = vul_selected.reset_index(drop=True)"
   ]
  },
  {
   "cell_type": "code",
   "execution_count": 553,
   "id": "f8c887c0-4495-4745-8b33-e90d979e2d66",
   "metadata": {},
   "outputs": [
    {
     "data": {
      "text/plain": [
       "ID_MANZANA           106991\n",
       "COD_VULNE            106991\n",
       "TIPO_VULNE                1\n",
       "NIV_VULNE                 5\n",
       "DESC_VULNE                2\n",
       "AREA_HAS_VULN         99388\n",
       "NOMBDIST_VULN            43\n",
       "NOMBPROV_VULN             1\n",
       "NOMBDEP_VULN              1\n",
       "SHAPE_AREA_VULN       99375\n",
       "SHAPE_LENGHT_VULN     44785\n",
       "CLASE                     5\n",
       "dtype: int64"
      ]
     },
     "execution_count": 553,
     "metadata": {},
     "output_type": "execute_result"
    }
   ],
   "source": [
    "vul_agrupado.nunique()"
   ]
  },
  {
   "cell_type": "code",
   "execution_count": 555,
   "id": "6ea19d32-f7ce-4e1b-851a-923ac949967a",
   "metadata": {},
   "outputs": [
    {
     "data": {
      "text/plain": [
       "(106991, 12)"
      ]
     },
     "execution_count": 555,
     "metadata": {},
     "output_type": "execute_result"
    }
   ],
   "source": [
    "vul_agrupado.shape"
   ]
  },
  {
   "cell_type": "markdown",
   "id": "7079de5a-ac2e-44be-ae6d-0857d48e92a6",
   "metadata": {},
   "source": [
    "### ------------------------------------------------------------------------------"
   ]
  },
  {
   "cell_type": "code",
   "execution_count": 564,
   "id": "167ce861-d0cf-475c-9901-e1b36fa0c2e9",
   "metadata": {},
   "outputs": [
    {
     "data": {
      "text/plain": [
       "array(['ALTO', 'SIN RIESGO', 'MEDIO', 'MUY ALTO', 'BAJO'], dtype=object)"
      ]
     },
     "execution_count": 564,
     "metadata": {},
     "output_type": "execute_result"
    }
   ],
   "source": [
    "risk_selected['NIV_RIESGO'].unique()"
   ]
  },
  {
   "cell_type": "code",
   "execution_count": 568,
   "id": "7b837f76-eba1-4022-a78a-8e63bd80ae88",
   "metadata": {},
   "outputs": [],
   "source": [
    "# Diccionario de mapeo\n",
    "mapa_risk = {\n",
    "    'SIN RIESGO': 0,\n",
    "    'BAJO': 1,\n",
    "    'MEDIO': 2,\n",
    "    'ALTO': 3,\n",
    "    'MUY ALTO': 4\n",
    "}\n",
    "\n",
    "# Asignar valores a 'CLASE' usando el diccionario\n",
    "risk_selected['CLASE'] = risk_selected['NIV_RIESGO'].map(mapa_risk)\n",
    "\n",
    "# Reemplazar los valores que no estén en el diccionario por None (opcional)\n",
    "risk_selected['CLASE'] = risk_selected['CLASE'].fillna(np.nan)"
   ]
  },
  {
   "cell_type": "code",
   "execution_count": 570,
   "id": "406b07bd-7d4d-4585-ac09-31e27e7e96e6",
   "metadata": {},
   "outputs": [],
   "source": [
    "# Agrupar por ID_MANZANA y mantener solo la fila con la CLASE más alta\n",
    "risk_agrupado = risk_selected.loc[risk_selected.groupby('ID_MANZANA')['CLASE'].idxmax()]"
   ]
  },
  {
   "cell_type": "code",
   "execution_count": 576,
   "id": "4349a42e-2d04-4ebe-9b5e-9ad5ca217600",
   "metadata": {},
   "outputs": [
    {
     "data": {
      "text/plain": [
       "106991"
      ]
     },
     "execution_count": 576,
     "metadata": {},
     "output_type": "execute_result"
    }
   ],
   "source": [
    "risk_agrupado['ID_MANZANA'].nunique()"
   ]
  },
  {
   "cell_type": "code",
   "execution_count": 578,
   "id": "6444cabc-1528-4f3e-afb6-35ae9505e12c",
   "metadata": {},
   "outputs": [
    {
     "data": {
      "text/plain": [
       "(106991, 12)"
      ]
     },
     "execution_count": 578,
     "metadata": {},
     "output_type": "execute_result"
    }
   ],
   "source": [
    "risk_agrupado.shape"
   ]
  },
  {
   "cell_type": "markdown",
   "id": "f2f731ff-694e-4788-a871-53766f4e159a",
   "metadata": {},
   "source": [
    "### BASE DE DATOS 3"
   ]
  },
  {
   "cell_type": "code",
   "execution_count": 611,
   "id": "1f0db246-1f4e-4d61-b61c-233034d1eeae",
   "metadata": {},
   "outputs": [],
   "source": [
    "from functools import reduce\n",
    "\n",
    "# Lista de los DataFrames seleccionados que quieres unir\n",
    "dataframes_selected_1 = [vul_agrupado, risk_agrupado, dens_selected, agua_selected, elec_selected]\n",
    "\n",
    "# Realiza la unión de todos los DataFrames usando un outer join en la columna 'ID_Manzana'\n",
    "df_unido_seleccionado_1 = reduce(lambda left, right: pd.merge(left, right, on='ID_MANZANA', how='outer'), dataframes_selected_1)"
   ]
  },
  {
   "cell_type": "code",
   "execution_count": 613,
   "id": "f1cff41a-5414-4d4b-914b-0e23e7c50976",
   "metadata": {},
   "outputs": [
    {
     "data": {
      "text/html": [
       "<div>\n",
       "<style scoped>\n",
       "    .dataframe tbody tr th:only-of-type {\n",
       "        vertical-align: middle;\n",
       "    }\n",
       "\n",
       "    .dataframe tbody tr th {\n",
       "        vertical-align: top;\n",
       "    }\n",
       "\n",
       "    .dataframe thead th {\n",
       "        text-align: right;\n",
       "    }\n",
       "</style>\n",
       "<table border=\"1\" class=\"dataframe\">\n",
       "  <thead>\n",
       "    <tr style=\"text-align: right;\">\n",
       "      <th></th>\n",
       "      <th>ID_MANZANA</th>\n",
       "      <th>COD_VULNE</th>\n",
       "      <th>TIPO_VULNE</th>\n",
       "      <th>NIV_VULNE</th>\n",
       "      <th>DESC_VULNE</th>\n",
       "      <th>AREA_HAS_VULN</th>\n",
       "      <th>NOMBDIST_VULN</th>\n",
       "      <th>NOMBPROV_VULN</th>\n",
       "      <th>NOMBDEP_VULN</th>\n",
       "      <th>SHAPE_AREA_VULN</th>\n",
       "      <th>...</th>\n",
       "      <th>SHAPE_AREA_AGUA</th>\n",
       "      <th>SHAPE_LENGHT_AGUA</th>\n",
       "      <th>COB_EE17</th>\n",
       "      <th>TIPO_EE17</th>\n",
       "      <th>AREA_M2_ELEC</th>\n",
       "      <th>NOMBDIST_ELEC</th>\n",
       "      <th>NOMBPROV_ELEC</th>\n",
       "      <th>NOMBDEP_ELEC</th>\n",
       "      <th>SHAPE_AREA_ELEC</th>\n",
       "      <th>SHAPE_LENGHT_ELEC</th>\n",
       "    </tr>\n",
       "  </thead>\n",
       "  <tbody>\n",
       "    <tr>\n",
       "      <th>0</th>\n",
       "      <td>150101001000010</td>\n",
       "      <td>VSISIS-108707</td>\n",
       "      <td>SINTESIS</td>\n",
       "      <td>BAJA</td>\n",
       "      <td>VULNERABILIDAD SINTESIS DEL MEDIO URBANO ANTE ...</td>\n",
       "      <td>0.250972</td>\n",
       "      <td>LIMA</td>\n",
       "      <td>LIMA</td>\n",
       "      <td>LIMA</td>\n",
       "      <td>2509.72</td>\n",
       "      <td>...</td>\n",
       "      <td>2509.72</td>\n",
       "      <td>231.66</td>\n",
       "      <td>CON COBERTURA</td>\n",
       "      <td>1.0</td>\n",
       "      <td>2509.72</td>\n",
       "      <td>LIMA CERCADO</td>\n",
       "      <td>LIMA</td>\n",
       "      <td>LIMA</td>\n",
       "      <td>2509.72</td>\n",
       "      <td>231.66</td>\n",
       "    </tr>\n",
       "    <tr>\n",
       "      <th>1</th>\n",
       "      <td>150101001000020</td>\n",
       "      <td>VSISIS-108708</td>\n",
       "      <td>SINTESIS</td>\n",
       "      <td>SIN VULNE</td>\n",
       "      <td>SIN VULNERABILIDAD</td>\n",
       "      <td>0.201530</td>\n",
       "      <td>LIMA</td>\n",
       "      <td>LIMA</td>\n",
       "      <td>LIMA</td>\n",
       "      <td>2015.30</td>\n",
       "      <td>...</td>\n",
       "      <td>2015.30</td>\n",
       "      <td>201.90</td>\n",
       "      <td>CON COBERTURA</td>\n",
       "      <td>1.0</td>\n",
       "      <td>2015.30</td>\n",
       "      <td>LIMA CERCADO</td>\n",
       "      <td>LIMA</td>\n",
       "      <td>LIMA</td>\n",
       "      <td>2015.30</td>\n",
       "      <td>201.90</td>\n",
       "    </tr>\n",
       "    <tr>\n",
       "      <th>2</th>\n",
       "      <td>150101001000030</td>\n",
       "      <td>VSISIS-108709</td>\n",
       "      <td>SINTESIS</td>\n",
       "      <td>SIN VULNE</td>\n",
       "      <td>SIN VULNERABILIDAD</td>\n",
       "      <td>0.971006</td>\n",
       "      <td>LIMA</td>\n",
       "      <td>LIMA</td>\n",
       "      <td>LIMA</td>\n",
       "      <td>9710.06</td>\n",
       "      <td>...</td>\n",
       "      <td>9710.06</td>\n",
       "      <td>793.55</td>\n",
       "      <td>CON COBERTURA</td>\n",
       "      <td>1.0</td>\n",
       "      <td>9710.06</td>\n",
       "      <td>LIMA CERCADO</td>\n",
       "      <td>LIMA</td>\n",
       "      <td>LIMA</td>\n",
       "      <td>9710.06</td>\n",
       "      <td>793.55</td>\n",
       "    </tr>\n",
       "    <tr>\n",
       "      <th>3</th>\n",
       "      <td>150101001000040</td>\n",
       "      <td>VSISIS-070998</td>\n",
       "      <td>SINTESIS</td>\n",
       "      <td>MEDIA</td>\n",
       "      <td>VULNERABILIDAD SINTESIS DEL MEDIO URBANO ANTE ...</td>\n",
       "      <td>0.540858</td>\n",
       "      <td>LIMA</td>\n",
       "      <td>LIMA</td>\n",
       "      <td>LIMA</td>\n",
       "      <td>5408.58</td>\n",
       "      <td>...</td>\n",
       "      <td>5408.58</td>\n",
       "      <td>303.74</td>\n",
       "      <td>CON COBERTURA</td>\n",
       "      <td>1.0</td>\n",
       "      <td>5408.58</td>\n",
       "      <td>LIMA CERCADO</td>\n",
       "      <td>LIMA</td>\n",
       "      <td>LIMA</td>\n",
       "      <td>5408.58</td>\n",
       "      <td>303.74</td>\n",
       "    </tr>\n",
       "    <tr>\n",
       "      <th>4</th>\n",
       "      <td>150101001000050</td>\n",
       "      <td>VSISIS-070999</td>\n",
       "      <td>SINTESIS</td>\n",
       "      <td>ALTA</td>\n",
       "      <td>VULNERABILIDAD SINTESIS DEL MEDIO URBANO ANTE ...</td>\n",
       "      <td>0.506666</td>\n",
       "      <td>LIMA</td>\n",
       "      <td>LIMA</td>\n",
       "      <td>LIMA</td>\n",
       "      <td>5066.67</td>\n",
       "      <td>...</td>\n",
       "      <td>5066.67</td>\n",
       "      <td>301.88</td>\n",
       "      <td>CON COBERTURA</td>\n",
       "      <td>1.0</td>\n",
       "      <td>5066.66</td>\n",
       "      <td>LIMA CERCADO</td>\n",
       "      <td>LIMA</td>\n",
       "      <td>LIMA</td>\n",
       "      <td>5066.67</td>\n",
       "      <td>301.88</td>\n",
       "    </tr>\n",
       "    <tr>\n",
       "      <th>...</th>\n",
       "      <td>...</td>\n",
       "      <td>...</td>\n",
       "      <td>...</td>\n",
       "      <td>...</td>\n",
       "      <td>...</td>\n",
       "      <td>...</td>\n",
       "      <td>...</td>\n",
       "      <td>...</td>\n",
       "      <td>...</td>\n",
       "      <td>...</td>\n",
       "      <td>...</td>\n",
       "      <td>...</td>\n",
       "      <td>...</td>\n",
       "      <td>...</td>\n",
       "      <td>...</td>\n",
       "      <td>...</td>\n",
       "      <td>...</td>\n",
       "      <td>...</td>\n",
       "      <td>...</td>\n",
       "      <td>...</td>\n",
       "      <td>...</td>\n",
       "    </tr>\n",
       "    <tr>\n",
       "      <th>107081</th>\n",
       "      <td>15013213902022</td>\n",
       "      <td>NaN</td>\n",
       "      <td>NaN</td>\n",
       "      <td>NaN</td>\n",
       "      <td>NaN</td>\n",
       "      <td>NaN</td>\n",
       "      <td>NaN</td>\n",
       "      <td>NaN</td>\n",
       "      <td>NaN</td>\n",
       "      <td>NaN</td>\n",
       "      <td>...</td>\n",
       "      <td>NaN</td>\n",
       "      <td>NaN</td>\n",
       "      <td>NaN</td>\n",
       "      <td>NaN</td>\n",
       "      <td>NaN</td>\n",
       "      <td>NaN</td>\n",
       "      <td>NaN</td>\n",
       "      <td>NaN</td>\n",
       "      <td>NaN</td>\n",
       "      <td>NaN</td>\n",
       "    </tr>\n",
       "    <tr>\n",
       "      <th>107082</th>\n",
       "      <td>15013213903011</td>\n",
       "      <td>NaN</td>\n",
       "      <td>NaN</td>\n",
       "      <td>NaN</td>\n",
       "      <td>NaN</td>\n",
       "      <td>NaN</td>\n",
       "      <td>NaN</td>\n",
       "      <td>NaN</td>\n",
       "      <td>NaN</td>\n",
       "      <td>NaN</td>\n",
       "      <td>...</td>\n",
       "      <td>NaN</td>\n",
       "      <td>NaN</td>\n",
       "      <td>NaN</td>\n",
       "      <td>NaN</td>\n",
       "      <td>NaN</td>\n",
       "      <td>NaN</td>\n",
       "      <td>NaN</td>\n",
       "      <td>NaN</td>\n",
       "      <td>NaN</td>\n",
       "      <td>NaN</td>\n",
       "    </tr>\n",
       "    <tr>\n",
       "      <th>107083</th>\n",
       "      <td>15014300700024</td>\n",
       "      <td>NaN</td>\n",
       "      <td>NaN</td>\n",
       "      <td>NaN</td>\n",
       "      <td>NaN</td>\n",
       "      <td>NaN</td>\n",
       "      <td>NaN</td>\n",
       "      <td>NaN</td>\n",
       "      <td>NaN</td>\n",
       "      <td>NaN</td>\n",
       "      <td>...</td>\n",
       "      <td>NaN</td>\n",
       "      <td>NaN</td>\n",
       "      <td>NaN</td>\n",
       "      <td>NaN</td>\n",
       "      <td>NaN</td>\n",
       "      <td>NaN</td>\n",
       "      <td>NaN</td>\n",
       "      <td>NaN</td>\n",
       "      <td>NaN</td>\n",
       "      <td>NaN</td>\n",
       "    </tr>\n",
       "    <tr>\n",
       "      <th>107084</th>\n",
       "      <td>15014304500018</td>\n",
       "      <td>NaN</td>\n",
       "      <td>NaN</td>\n",
       "      <td>NaN</td>\n",
       "      <td>NaN</td>\n",
       "      <td>NaN</td>\n",
       "      <td>NaN</td>\n",
       "      <td>NaN</td>\n",
       "      <td>NaN</td>\n",
       "      <td>NaN</td>\n",
       "      <td>...</td>\n",
       "      <td>NaN</td>\n",
       "      <td>NaN</td>\n",
       "      <td>NaN</td>\n",
       "      <td>NaN</td>\n",
       "      <td>NaN</td>\n",
       "      <td>NaN</td>\n",
       "      <td>NaN</td>\n",
       "      <td>NaN</td>\n",
       "      <td>NaN</td>\n",
       "      <td>NaN</td>\n",
       "    </tr>\n",
       "    <tr>\n",
       "      <th>107085</th>\n",
       "      <td>15014304803001</td>\n",
       "      <td>NaN</td>\n",
       "      <td>NaN</td>\n",
       "      <td>NaN</td>\n",
       "      <td>NaN</td>\n",
       "      <td>NaN</td>\n",
       "      <td>NaN</td>\n",
       "      <td>NaN</td>\n",
       "      <td>NaN</td>\n",
       "      <td>NaN</td>\n",
       "      <td>...</td>\n",
       "      <td>NaN</td>\n",
       "      <td>NaN</td>\n",
       "      <td>NaN</td>\n",
       "      <td>NaN</td>\n",
       "      <td>NaN</td>\n",
       "      <td>NaN</td>\n",
       "      <td>NaN</td>\n",
       "      <td>NaN</td>\n",
       "      <td>NaN</td>\n",
       "      <td>NaN</td>\n",
       "    </tr>\n",
       "  </tbody>\n",
       "</table>\n",
       "<p>107086 rows × 45 columns</p>\n",
       "</div>"
      ],
      "text/plain": [
       "             ID_MANZANA      COD_VULNE TIPO_VULNE  NIV_VULNE  \\\n",
       "0       150101001000010  VSISIS-108707   SINTESIS       BAJA   \n",
       "1       150101001000020  VSISIS-108708   SINTESIS  SIN VULNE   \n",
       "2       150101001000030  VSISIS-108709   SINTESIS  SIN VULNE   \n",
       "3       150101001000040  VSISIS-070998   SINTESIS      MEDIA   \n",
       "4       150101001000050  VSISIS-070999   SINTESIS       ALTA   \n",
       "...                 ...            ...        ...        ...   \n",
       "107081   15013213902022            NaN        NaN        NaN   \n",
       "107082   15013213903011            NaN        NaN        NaN   \n",
       "107083   15014300700024            NaN        NaN        NaN   \n",
       "107084   15014304500018            NaN        NaN        NaN   \n",
       "107085   15014304803001            NaN        NaN        NaN   \n",
       "\n",
       "                                               DESC_VULNE  AREA_HAS_VULN  \\\n",
       "0       VULNERABILIDAD SINTESIS DEL MEDIO URBANO ANTE ...       0.250972   \n",
       "1                                      SIN VULNERABILIDAD       0.201530   \n",
       "2                                      SIN VULNERABILIDAD       0.971006   \n",
       "3       VULNERABILIDAD SINTESIS DEL MEDIO URBANO ANTE ...       0.540858   \n",
       "4       VULNERABILIDAD SINTESIS DEL MEDIO URBANO ANTE ...       0.506666   \n",
       "...                                                   ...            ...   \n",
       "107081                                                NaN            NaN   \n",
       "107082                                                NaN            NaN   \n",
       "107083                                                NaN            NaN   \n",
       "107084                                                NaN            NaN   \n",
       "107085                                                NaN            NaN   \n",
       "\n",
       "       NOMBDIST_VULN NOMBPROV_VULN NOMBDEP_VULN  SHAPE_AREA_VULN  ...  \\\n",
       "0               LIMA          LIMA         LIMA          2509.72  ...   \n",
       "1               LIMA          LIMA         LIMA          2015.30  ...   \n",
       "2               LIMA          LIMA         LIMA          9710.06  ...   \n",
       "3               LIMA          LIMA         LIMA          5408.58  ...   \n",
       "4               LIMA          LIMA         LIMA          5066.67  ...   \n",
       "...              ...           ...          ...              ...  ...   \n",
       "107081           NaN           NaN          NaN              NaN  ...   \n",
       "107082           NaN           NaN          NaN              NaN  ...   \n",
       "107083           NaN           NaN          NaN              NaN  ...   \n",
       "107084           NaN           NaN          NaN              NaN  ...   \n",
       "107085           NaN           NaN          NaN              NaN  ...   \n",
       "\n",
       "        SHAPE_AREA_AGUA  SHAPE_LENGHT_AGUA       COB_EE17 TIPO_EE17  \\\n",
       "0               2509.72             231.66  CON COBERTURA       1.0   \n",
       "1               2015.30             201.90  CON COBERTURA       1.0   \n",
       "2               9710.06             793.55  CON COBERTURA       1.0   \n",
       "3               5408.58             303.74  CON COBERTURA       1.0   \n",
       "4               5066.67             301.88  CON COBERTURA       1.0   \n",
       "...                 ...                ...            ...       ...   \n",
       "107081              NaN                NaN            NaN       NaN   \n",
       "107082              NaN                NaN            NaN       NaN   \n",
       "107083              NaN                NaN            NaN       NaN   \n",
       "107084              NaN                NaN            NaN       NaN   \n",
       "107085              NaN                NaN            NaN       NaN   \n",
       "\n",
       "       AREA_M2_ELEC NOMBDIST_ELEC  NOMBPROV_ELEC NOMBDEP_ELEC SHAPE_AREA_ELEC  \\\n",
       "0           2509.72  LIMA CERCADO           LIMA         LIMA         2509.72   \n",
       "1           2015.30  LIMA CERCADO           LIMA         LIMA         2015.30   \n",
       "2           9710.06  LIMA CERCADO           LIMA         LIMA         9710.06   \n",
       "3           5408.58  LIMA CERCADO           LIMA         LIMA         5408.58   \n",
       "4           5066.66  LIMA CERCADO           LIMA         LIMA         5066.67   \n",
       "...             ...           ...            ...          ...             ...   \n",
       "107081          NaN           NaN            NaN          NaN             NaN   \n",
       "107082          NaN           NaN            NaN          NaN             NaN   \n",
       "107083          NaN           NaN            NaN          NaN             NaN   \n",
       "107084          NaN           NaN            NaN          NaN             NaN   \n",
       "107085          NaN           NaN            NaN          NaN             NaN   \n",
       "\n",
       "       SHAPE_LENGHT_ELEC  \n",
       "0                 231.66  \n",
       "1                 201.90  \n",
       "2                 793.55  \n",
       "3                 303.74  \n",
       "4                 301.88  \n",
       "...                  ...  \n",
       "107081               NaN  \n",
       "107082               NaN  \n",
       "107083               NaN  \n",
       "107084               NaN  \n",
       "107085               NaN  \n",
       "\n",
       "[107086 rows x 45 columns]"
      ]
     },
     "execution_count": 613,
     "metadata": {},
     "output_type": "execute_result"
    }
   ],
   "source": [
    "df_unido_seleccionado_1"
   ]
  },
  {
   "cell_type": "code",
   "execution_count": 615,
   "id": "c718f18c-2908-446d-911e-48e29e24bad3",
   "metadata": {},
   "outputs": [],
   "source": [
    "df1 = df_unido_seleccionado_1.drop(columns=['SHAPE_AREA_VULN','SHAPE_LENGHT_VULN','SHAPE_AREA_RIESG',\n",
    "                 'SHAPE_LENGHT_RIESG','SHAPE_AREA_DENS','SHAPE_LENGHT_DENS',\n",
    "                'SHAPE_AREA_AGUA', 'SHAPE_LENGHT_AGUA','SHAPE_AREA_ELEC','SHAPE_LENGHT_ELEC',\n",
    "                'COD_VULNE','TIPO_VULNE','NOMBPROV_VULN','NOMBDEP_VULN','NOM_PELI_RIESG','NOMBPROV_RIESG',\n",
    "                'NOMBDEP_RIESG','NOMBPROV_AGUA','NOMBDEP_AGUA',\n",
    "                'NOMBPROV_ELEC','NOMBDEP_ELEC','AREA_HAS_VULN','COD_RIESGO','AREA_HAS_RIESG',\n",
    "                      'AREA_M2','AREA_M2_AGUA','AREA_M2_ELEC']).copy()"
   ]
  },
  {
   "cell_type": "code",
   "execution_count": 617,
   "id": "3d3947f2-3751-44f9-b7bb-663d894b6c61",
   "metadata": {},
   "outputs": [
    {
     "data": {
      "text/html": [
       "<div>\n",
       "<style scoped>\n",
       "    .dataframe tbody tr th:only-of-type {\n",
       "        vertical-align: middle;\n",
       "    }\n",
       "\n",
       "    .dataframe tbody tr th {\n",
       "        vertical-align: top;\n",
       "    }\n",
       "\n",
       "    .dataframe thead th {\n",
       "        text-align: right;\n",
       "    }\n",
       "</style>\n",
       "<table border=\"1\" class=\"dataframe\">\n",
       "  <thead>\n",
       "    <tr style=\"text-align: right;\">\n",
       "      <th></th>\n",
       "      <th>ID_MANZANA</th>\n",
       "      <th>NIV_VULNE</th>\n",
       "      <th>DESC_VULNE</th>\n",
       "      <th>NOMBDIST_VULN</th>\n",
       "      <th>CLASE_x</th>\n",
       "      <th>NIV_RIESGO</th>\n",
       "      <th>DESC_RIESG</th>\n",
       "      <th>NOMBDIST_RIESG</th>\n",
       "      <th>CLASE_y</th>\n",
       "      <th>TOT_POB17</th>\n",
       "      <th>TOT_POB20</th>\n",
       "      <th>DENS_POB17</th>\n",
       "      <th>DENS_POB20</th>\n",
       "      <th>COB_AP17</th>\n",
       "      <th>NOMBDIST_AGUA</th>\n",
       "      <th>COB_EE17</th>\n",
       "      <th>TIPO_EE17</th>\n",
       "      <th>NOMBDIST_ELEC</th>\n",
       "    </tr>\n",
       "  </thead>\n",
       "  <tbody>\n",
       "    <tr>\n",
       "      <th>0</th>\n",
       "      <td>150101001000010</td>\n",
       "      <td>BAJA</td>\n",
       "      <td>VULNERABILIDAD SINTESIS DEL MEDIO URBANO ANTE ...</td>\n",
       "      <td>LIMA</td>\n",
       "      <td>1.0</td>\n",
       "      <td>MEDIO</td>\n",
       "      <td>RIESGO DEL MEDIO URBANO ANTE SISMO</td>\n",
       "      <td>LIMA</td>\n",
       "      <td>2.0</td>\n",
       "      <td>164.0</td>\n",
       "      <td>170.0</td>\n",
       "      <td>0.065346</td>\n",
       "      <td>0.065346</td>\n",
       "      <td>CON COBERTURA</td>\n",
       "      <td>LIMA CERCADO</td>\n",
       "      <td>CON COBERTURA</td>\n",
       "      <td>1.0</td>\n",
       "      <td>LIMA CERCADO</td>\n",
       "    </tr>\n",
       "    <tr>\n",
       "      <th>1</th>\n",
       "      <td>150101001000020</td>\n",
       "      <td>SIN VULNE</td>\n",
       "      <td>SIN VULNERABILIDAD</td>\n",
       "      <td>LIMA</td>\n",
       "      <td>0.0</td>\n",
       "      <td>SIN RIESGO</td>\n",
       "      <td>SIN RIESGO</td>\n",
       "      <td>LIMA</td>\n",
       "      <td>0.0</td>\n",
       "      <td>4.0</td>\n",
       "      <td>4.0</td>\n",
       "      <td>0.001985</td>\n",
       "      <td>0.001985</td>\n",
       "      <td>CON COBERTURA</td>\n",
       "      <td>LIMA CERCADO</td>\n",
       "      <td>CON COBERTURA</td>\n",
       "      <td>1.0</td>\n",
       "      <td>LIMA CERCADO</td>\n",
       "    </tr>\n",
       "    <tr>\n",
       "      <th>2</th>\n",
       "      <td>150101001000030</td>\n",
       "      <td>SIN VULNE</td>\n",
       "      <td>SIN VULNERABILIDAD</td>\n",
       "      <td>LIMA</td>\n",
       "      <td>0.0</td>\n",
       "      <td>SIN RIESGO</td>\n",
       "      <td>SIN RIESGO</td>\n",
       "      <td>LIMA</td>\n",
       "      <td>0.0</td>\n",
       "      <td>56.0</td>\n",
       "      <td>58.0</td>\n",
       "      <td>0.005767</td>\n",
       "      <td>0.005767</td>\n",
       "      <td>CON COBERTURA</td>\n",
       "      <td>LIMA CERCADO</td>\n",
       "      <td>CON COBERTURA</td>\n",
       "      <td>1.0</td>\n",
       "      <td>LIMA CERCADO</td>\n",
       "    </tr>\n",
       "    <tr>\n",
       "      <th>3</th>\n",
       "      <td>150101001000040</td>\n",
       "      <td>MEDIA</td>\n",
       "      <td>VULNERABILIDAD SINTESIS DEL MEDIO URBANO ANTE ...</td>\n",
       "      <td>LIMA</td>\n",
       "      <td>2.0</td>\n",
       "      <td>MEDIO</td>\n",
       "      <td>RIESGO DEL MEDIO URBANO ANTE SISMO</td>\n",
       "      <td>LIMA</td>\n",
       "      <td>2.0</td>\n",
       "      <td>235.0</td>\n",
       "      <td>244.0</td>\n",
       "      <td>0.043450</td>\n",
       "      <td>0.043450</td>\n",
       "      <td>CON COBERTURA</td>\n",
       "      <td>LIMA CERCADO</td>\n",
       "      <td>CON COBERTURA</td>\n",
       "      <td>1.0</td>\n",
       "      <td>LIMA CERCADO</td>\n",
       "    </tr>\n",
       "    <tr>\n",
       "      <th>4</th>\n",
       "      <td>150101001000050</td>\n",
       "      <td>ALTA</td>\n",
       "      <td>VULNERABILIDAD SINTESIS DEL MEDIO URBANO ANTE ...</td>\n",
       "      <td>LIMA</td>\n",
       "      <td>3.0</td>\n",
       "      <td>ALTO</td>\n",
       "      <td>RIESGO DEL MEDIO URBANO ANTE SISMO</td>\n",
       "      <td>LIMA</td>\n",
       "      <td>3.0</td>\n",
       "      <td>361.0</td>\n",
       "      <td>374.0</td>\n",
       "      <td>0.071250</td>\n",
       "      <td>0.071250</td>\n",
       "      <td>CON COBERTURA</td>\n",
       "      <td>LIMA CERCADO</td>\n",
       "      <td>CON COBERTURA</td>\n",
       "      <td>1.0</td>\n",
       "      <td>LIMA CERCADO</td>\n",
       "    </tr>\n",
       "    <tr>\n",
       "      <th>...</th>\n",
       "      <td>...</td>\n",
       "      <td>...</td>\n",
       "      <td>...</td>\n",
       "      <td>...</td>\n",
       "      <td>...</td>\n",
       "      <td>...</td>\n",
       "      <td>...</td>\n",
       "      <td>...</td>\n",
       "      <td>...</td>\n",
       "      <td>...</td>\n",
       "      <td>...</td>\n",
       "      <td>...</td>\n",
       "      <td>...</td>\n",
       "      <td>...</td>\n",
       "      <td>...</td>\n",
       "      <td>...</td>\n",
       "      <td>...</td>\n",
       "      <td>...</td>\n",
       "    </tr>\n",
       "    <tr>\n",
       "      <th>106986</th>\n",
       "      <td>150143088000470</td>\n",
       "      <td>ALTA</td>\n",
       "      <td>VULNERABILIDAD SINTESIS DEL MEDIO URBANO ANTE ...</td>\n",
       "      <td>VILLA MARIA DEL TRIUNFO</td>\n",
       "      <td>3.0</td>\n",
       "      <td>MUY ALTO</td>\n",
       "      <td>RIESGO DEL MEDIO URBANO ANTE SISMO</td>\n",
       "      <td>VILLA MARIA DEL TRIUNFO</td>\n",
       "      <td>4.0</td>\n",
       "      <td>10.0</td>\n",
       "      <td>10.0</td>\n",
       "      <td>0.008153</td>\n",
       "      <td>0.008153</td>\n",
       "      <td>SIN COBERTURA</td>\n",
       "      <td>VILLA MARIA DEL TRIUNFO</td>\n",
       "      <td>CON COBERTURA</td>\n",
       "      <td>1.0</td>\n",
       "      <td>VILLA MARIA DEL TRIUNFO</td>\n",
       "    </tr>\n",
       "    <tr>\n",
       "      <th>106987</th>\n",
       "      <td>150143088000480</td>\n",
       "      <td>ALTA</td>\n",
       "      <td>VULNERABILIDAD SINTESIS DEL MEDIO URBANO ANTE ...</td>\n",
       "      <td>VILLA MARIA DEL TRIUNFO</td>\n",
       "      <td>3.0</td>\n",
       "      <td>MUY ALTO</td>\n",
       "      <td>RIESGO DEL MEDIO URBANO ANTE SISMO</td>\n",
       "      <td>VILLA MARIA DEL TRIUNFO</td>\n",
       "      <td>4.0</td>\n",
       "      <td>42.0</td>\n",
       "      <td>44.0</td>\n",
       "      <td>0.015187</td>\n",
       "      <td>0.015187</td>\n",
       "      <td>SIN COBERTURA</td>\n",
       "      <td>VILLA MARIA DEL TRIUNFO</td>\n",
       "      <td>CON COBERTURA</td>\n",
       "      <td>1.0</td>\n",
       "      <td>VILLA MARIA DEL TRIUNFO</td>\n",
       "    </tr>\n",
       "    <tr>\n",
       "      <th>106988</th>\n",
       "      <td>150143088000490</td>\n",
       "      <td>ALTA</td>\n",
       "      <td>VULNERABILIDAD SINTESIS DEL MEDIO URBANO ANTE ...</td>\n",
       "      <td>VILLA MARIA DEL TRIUNFO</td>\n",
       "      <td>3.0</td>\n",
       "      <td>MUY ALTO</td>\n",
       "      <td>RIESGO DEL MEDIO URBANO ANTE SISMO</td>\n",
       "      <td>VILLA MARIA DEL TRIUNFO</td>\n",
       "      <td>4.0</td>\n",
       "      <td>57.0</td>\n",
       "      <td>59.0</td>\n",
       "      <td>0.017048</td>\n",
       "      <td>0.017048</td>\n",
       "      <td>SIN COBERTURA</td>\n",
       "      <td>VILLA MARIA DEL TRIUNFO</td>\n",
       "      <td>CON COBERTURA</td>\n",
       "      <td>1.0</td>\n",
       "      <td>VILLA MARIA DEL TRIUNFO</td>\n",
       "    </tr>\n",
       "    <tr>\n",
       "      <th>106989</th>\n",
       "      <td>150143088000500</td>\n",
       "      <td>ALTA</td>\n",
       "      <td>VULNERABILIDAD SINTESIS DEL MEDIO URBANO ANTE ...</td>\n",
       "      <td>VILLA MARIA DEL TRIUNFO</td>\n",
       "      <td>3.0</td>\n",
       "      <td>MUY ALTO</td>\n",
       "      <td>RIESGO DEL MEDIO URBANO ANTE SISMO</td>\n",
       "      <td>VILLA MARIA DEL TRIUNFO</td>\n",
       "      <td>4.0</td>\n",
       "      <td>61.0</td>\n",
       "      <td>63.0</td>\n",
       "      <td>0.021286</td>\n",
       "      <td>0.021286</td>\n",
       "      <td>SIN COBERTURA</td>\n",
       "      <td>VILLA MARIA DEL TRIUNFO</td>\n",
       "      <td>CON COBERTURA</td>\n",
       "      <td>1.0</td>\n",
       "      <td>VILLA MARIA DEL TRIUNFO</td>\n",
       "    </tr>\n",
       "    <tr>\n",
       "      <th>106990</th>\n",
       "      <td>15014308800050A</td>\n",
       "      <td>ALTA</td>\n",
       "      <td>VULNERABILIDAD SINTESIS DEL MEDIO URBANO ANTE ...</td>\n",
       "      <td>VILLA MARIA DEL TRIUNFO</td>\n",
       "      <td>3.0</td>\n",
       "      <td>MUY ALTO</td>\n",
       "      <td>RIESGO DEL MEDIO URBANO ANTE SISMO</td>\n",
       "      <td>VILLA MARIA DEL TRIUNFO</td>\n",
       "      <td>4.0</td>\n",
       "      <td>26.0</td>\n",
       "      <td>27.0</td>\n",
       "      <td>0.011280</td>\n",
       "      <td>0.011280</td>\n",
       "      <td>SIN COBERTURA</td>\n",
       "      <td>VILLA MARIA DEL TRIUNFO</td>\n",
       "      <td>CON COBERTURA</td>\n",
       "      <td>1.0</td>\n",
       "      <td>VILLA MARIA DEL TRIUNFO</td>\n",
       "    </tr>\n",
       "  </tbody>\n",
       "</table>\n",
       "<p>106991 rows × 18 columns</p>\n",
       "</div>"
      ],
      "text/plain": [
       "             ID_MANZANA  NIV_VULNE  \\\n",
       "0       150101001000010       BAJA   \n",
       "1       150101001000020  SIN VULNE   \n",
       "2       150101001000030  SIN VULNE   \n",
       "3       150101001000040      MEDIA   \n",
       "4       150101001000050       ALTA   \n",
       "...                 ...        ...   \n",
       "106986  150143088000470       ALTA   \n",
       "106987  150143088000480       ALTA   \n",
       "106988  150143088000490       ALTA   \n",
       "106989  150143088000500       ALTA   \n",
       "106990  15014308800050A       ALTA   \n",
       "\n",
       "                                               DESC_VULNE  \\\n",
       "0       VULNERABILIDAD SINTESIS DEL MEDIO URBANO ANTE ...   \n",
       "1                                      SIN VULNERABILIDAD   \n",
       "2                                      SIN VULNERABILIDAD   \n",
       "3       VULNERABILIDAD SINTESIS DEL MEDIO URBANO ANTE ...   \n",
       "4       VULNERABILIDAD SINTESIS DEL MEDIO URBANO ANTE ...   \n",
       "...                                                   ...   \n",
       "106986  VULNERABILIDAD SINTESIS DEL MEDIO URBANO ANTE ...   \n",
       "106987  VULNERABILIDAD SINTESIS DEL MEDIO URBANO ANTE ...   \n",
       "106988  VULNERABILIDAD SINTESIS DEL MEDIO URBANO ANTE ...   \n",
       "106989  VULNERABILIDAD SINTESIS DEL MEDIO URBANO ANTE ...   \n",
       "106990  VULNERABILIDAD SINTESIS DEL MEDIO URBANO ANTE ...   \n",
       "\n",
       "                  NOMBDIST_VULN  CLASE_x  NIV_RIESGO  \\\n",
       "0                          LIMA      1.0       MEDIO   \n",
       "1                          LIMA      0.0  SIN RIESGO   \n",
       "2                          LIMA      0.0  SIN RIESGO   \n",
       "3                          LIMA      2.0       MEDIO   \n",
       "4                          LIMA      3.0        ALTO   \n",
       "...                         ...      ...         ...   \n",
       "106986  VILLA MARIA DEL TRIUNFO      3.0    MUY ALTO   \n",
       "106987  VILLA MARIA DEL TRIUNFO      3.0    MUY ALTO   \n",
       "106988  VILLA MARIA DEL TRIUNFO      3.0    MUY ALTO   \n",
       "106989  VILLA MARIA DEL TRIUNFO      3.0    MUY ALTO   \n",
       "106990  VILLA MARIA DEL TRIUNFO      3.0    MUY ALTO   \n",
       "\n",
       "                                DESC_RIESG           NOMBDIST_RIESG  CLASE_y  \\\n",
       "0       RIESGO DEL MEDIO URBANO ANTE SISMO                     LIMA      2.0   \n",
       "1                               SIN RIESGO                     LIMA      0.0   \n",
       "2                               SIN RIESGO                     LIMA      0.0   \n",
       "3       RIESGO DEL MEDIO URBANO ANTE SISMO                     LIMA      2.0   \n",
       "4       RIESGO DEL MEDIO URBANO ANTE SISMO                     LIMA      3.0   \n",
       "...                                    ...                      ...      ...   \n",
       "106986  RIESGO DEL MEDIO URBANO ANTE SISMO  VILLA MARIA DEL TRIUNFO      4.0   \n",
       "106987  RIESGO DEL MEDIO URBANO ANTE SISMO  VILLA MARIA DEL TRIUNFO      4.0   \n",
       "106988  RIESGO DEL MEDIO URBANO ANTE SISMO  VILLA MARIA DEL TRIUNFO      4.0   \n",
       "106989  RIESGO DEL MEDIO URBANO ANTE SISMO  VILLA MARIA DEL TRIUNFO      4.0   \n",
       "106990  RIESGO DEL MEDIO URBANO ANTE SISMO  VILLA MARIA DEL TRIUNFO      4.0   \n",
       "\n",
       "        TOT_POB17  TOT_POB20  DENS_POB17  DENS_POB20       COB_AP17  \\\n",
       "0           164.0      170.0    0.065346    0.065346  CON COBERTURA   \n",
       "1             4.0        4.0    0.001985    0.001985  CON COBERTURA   \n",
       "2            56.0       58.0    0.005767    0.005767  CON COBERTURA   \n",
       "3           235.0      244.0    0.043450    0.043450  CON COBERTURA   \n",
       "4           361.0      374.0    0.071250    0.071250  CON COBERTURA   \n",
       "...           ...        ...         ...         ...            ...   \n",
       "106986       10.0       10.0    0.008153    0.008153  SIN COBERTURA   \n",
       "106987       42.0       44.0    0.015187    0.015187  SIN COBERTURA   \n",
       "106988       57.0       59.0    0.017048    0.017048  SIN COBERTURA   \n",
       "106989       61.0       63.0    0.021286    0.021286  SIN COBERTURA   \n",
       "106990       26.0       27.0    0.011280    0.011280  SIN COBERTURA   \n",
       "\n",
       "                  NOMBDIST_AGUA       COB_EE17 TIPO_EE17  \\\n",
       "0                  LIMA CERCADO  CON COBERTURA       1.0   \n",
       "1                  LIMA CERCADO  CON COBERTURA       1.0   \n",
       "2                  LIMA CERCADO  CON COBERTURA       1.0   \n",
       "3                  LIMA CERCADO  CON COBERTURA       1.0   \n",
       "4                  LIMA CERCADO  CON COBERTURA       1.0   \n",
       "...                         ...            ...       ...   \n",
       "106986  VILLA MARIA DEL TRIUNFO  CON COBERTURA       1.0   \n",
       "106987  VILLA MARIA DEL TRIUNFO  CON COBERTURA       1.0   \n",
       "106988  VILLA MARIA DEL TRIUNFO  CON COBERTURA       1.0   \n",
       "106989  VILLA MARIA DEL TRIUNFO  CON COBERTURA       1.0   \n",
       "106990  VILLA MARIA DEL TRIUNFO  CON COBERTURA       1.0   \n",
       "\n",
       "                  NOMBDIST_ELEC  \n",
       "0                  LIMA CERCADO  \n",
       "1                  LIMA CERCADO  \n",
       "2                  LIMA CERCADO  \n",
       "3                  LIMA CERCADO  \n",
       "4                  LIMA CERCADO  \n",
       "...                         ...  \n",
       "106986  VILLA MARIA DEL TRIUNFO  \n",
       "106987  VILLA MARIA DEL TRIUNFO  \n",
       "106988  VILLA MARIA DEL TRIUNFO  \n",
       "106989  VILLA MARIA DEL TRIUNFO  \n",
       "106990  VILLA MARIA DEL TRIUNFO  \n",
       "\n",
       "[106991 rows x 18 columns]"
      ]
     },
     "execution_count": 617,
     "metadata": {},
     "output_type": "execute_result"
    }
   ],
   "source": [
    "df_clean = df1.dropna(subset=['NIV_VULNE'])\n",
    "df_clean"
   ]
  },
  {
   "cell_type": "code",
   "execution_count": 619,
   "id": "2acb6b0f-5e0f-4f51-a802-8afb5a62a8ef",
   "metadata": {},
   "outputs": [
    {
     "data": {
      "text/plain": [
       "ID_MANZANA         0\n",
       "NIV_VULNE          0\n",
       "DESC_VULNE         0\n",
       "NOMBDIST_VULN      0\n",
       "CLASE_x            0\n",
       "NIV_RIESGO         0\n",
       "DESC_RIESG         0\n",
       "NOMBDIST_RIESG     0\n",
       "CLASE_y            0\n",
       "TOT_POB17         97\n",
       "TOT_POB20         97\n",
       "DENS_POB17        97\n",
       "DENS_POB20        97\n",
       "COB_AP17           4\n",
       "NOMBDIST_AGUA      4\n",
       "COB_EE17           4\n",
       "TIPO_EE17          4\n",
       "NOMBDIST_ELEC      4\n",
       "dtype: int64"
      ]
     },
     "execution_count": 619,
     "metadata": {},
     "output_type": "execute_result"
    }
   ],
   "source": [
    "df_clean.isnull().sum()"
   ]
  },
  {
   "cell_type": "code",
   "execution_count": 629,
   "id": "cd38b956-0654-4050-b1cb-78a704c90bc4",
   "metadata": {},
   "outputs": [
    {
     "data": {
      "text/html": [
       "<div>\n",
       "<style scoped>\n",
       "    .dataframe tbody tr th:only-of-type {\n",
       "        vertical-align: middle;\n",
       "    }\n",
       "\n",
       "    .dataframe tbody tr th {\n",
       "        vertical-align: top;\n",
       "    }\n",
       "\n",
       "    .dataframe thead th {\n",
       "        text-align: right;\n",
       "    }\n",
       "</style>\n",
       "<table border=\"1\" class=\"dataframe\">\n",
       "  <thead>\n",
       "    <tr style=\"text-align: right;\">\n",
       "      <th></th>\n",
       "      <th>ID_MANZANA</th>\n",
       "      <th>NIV_VULNE</th>\n",
       "      <th>DESC_VULNE</th>\n",
       "      <th>NOMBDIST_VULN</th>\n",
       "      <th>NIV_RIESGO</th>\n",
       "      <th>DESC_RIESG</th>\n",
       "      <th>TOT_POB17</th>\n",
       "      <th>TOT_POB20</th>\n",
       "      <th>DENS_POB17</th>\n",
       "      <th>DENS_POB20</th>\n",
       "      <th>COB_AP17</th>\n",
       "      <th>COB_EE17</th>\n",
       "      <th>TIPO_EE17</th>\n",
       "    </tr>\n",
       "  </thead>\n",
       "  <tbody>\n",
       "    <tr>\n",
       "      <th>0</th>\n",
       "      <td>150101001000010</td>\n",
       "      <td>BAJA</td>\n",
       "      <td>VULNERABILIDAD SINTESIS DEL MEDIO URBANO ANTE ...</td>\n",
       "      <td>LIMA</td>\n",
       "      <td>MEDIO</td>\n",
       "      <td>RIESGO DEL MEDIO URBANO ANTE SISMO</td>\n",
       "      <td>164.0</td>\n",
       "      <td>170.0</td>\n",
       "      <td>0.065346</td>\n",
       "      <td>0.065346</td>\n",
       "      <td>CON COBERTURA</td>\n",
       "      <td>CON COBERTURA</td>\n",
       "      <td>1.0</td>\n",
       "    </tr>\n",
       "    <tr>\n",
       "      <th>1</th>\n",
       "      <td>150101001000020</td>\n",
       "      <td>SIN VULNE</td>\n",
       "      <td>SIN VULNERABILIDAD</td>\n",
       "      <td>LIMA</td>\n",
       "      <td>SIN RIESGO</td>\n",
       "      <td>SIN RIESGO</td>\n",
       "      <td>4.0</td>\n",
       "      <td>4.0</td>\n",
       "      <td>0.001985</td>\n",
       "      <td>0.001985</td>\n",
       "      <td>CON COBERTURA</td>\n",
       "      <td>CON COBERTURA</td>\n",
       "      <td>1.0</td>\n",
       "    </tr>\n",
       "    <tr>\n",
       "      <th>2</th>\n",
       "      <td>150101001000030</td>\n",
       "      <td>SIN VULNE</td>\n",
       "      <td>SIN VULNERABILIDAD</td>\n",
       "      <td>LIMA</td>\n",
       "      <td>SIN RIESGO</td>\n",
       "      <td>SIN RIESGO</td>\n",
       "      <td>56.0</td>\n",
       "      <td>58.0</td>\n",
       "      <td>0.005767</td>\n",
       "      <td>0.005767</td>\n",
       "      <td>CON COBERTURA</td>\n",
       "      <td>CON COBERTURA</td>\n",
       "      <td>1.0</td>\n",
       "    </tr>\n",
       "    <tr>\n",
       "      <th>3</th>\n",
       "      <td>150101001000040</td>\n",
       "      <td>MEDIA</td>\n",
       "      <td>VULNERABILIDAD SINTESIS DEL MEDIO URBANO ANTE ...</td>\n",
       "      <td>LIMA</td>\n",
       "      <td>MEDIO</td>\n",
       "      <td>RIESGO DEL MEDIO URBANO ANTE SISMO</td>\n",
       "      <td>235.0</td>\n",
       "      <td>244.0</td>\n",
       "      <td>0.043450</td>\n",
       "      <td>0.043450</td>\n",
       "      <td>CON COBERTURA</td>\n",
       "      <td>CON COBERTURA</td>\n",
       "      <td>1.0</td>\n",
       "    </tr>\n",
       "    <tr>\n",
       "      <th>4</th>\n",
       "      <td>150101001000050</td>\n",
       "      <td>ALTA</td>\n",
       "      <td>VULNERABILIDAD SINTESIS DEL MEDIO URBANO ANTE ...</td>\n",
       "      <td>LIMA</td>\n",
       "      <td>ALTO</td>\n",
       "      <td>RIESGO DEL MEDIO URBANO ANTE SISMO</td>\n",
       "      <td>361.0</td>\n",
       "      <td>374.0</td>\n",
       "      <td>0.071250</td>\n",
       "      <td>0.071250</td>\n",
       "      <td>CON COBERTURA</td>\n",
       "      <td>CON COBERTURA</td>\n",
       "      <td>1.0</td>\n",
       "    </tr>\n",
       "    <tr>\n",
       "      <th>...</th>\n",
       "      <td>...</td>\n",
       "      <td>...</td>\n",
       "      <td>...</td>\n",
       "      <td>...</td>\n",
       "      <td>...</td>\n",
       "      <td>...</td>\n",
       "      <td>...</td>\n",
       "      <td>...</td>\n",
       "      <td>...</td>\n",
       "      <td>...</td>\n",
       "      <td>...</td>\n",
       "      <td>...</td>\n",
       "      <td>...</td>\n",
       "    </tr>\n",
       "    <tr>\n",
       "      <th>106986</th>\n",
       "      <td>150143088000470</td>\n",
       "      <td>ALTA</td>\n",
       "      <td>VULNERABILIDAD SINTESIS DEL MEDIO URBANO ANTE ...</td>\n",
       "      <td>VILLA MARIA DEL TRIUNFO</td>\n",
       "      <td>MUY ALTO</td>\n",
       "      <td>RIESGO DEL MEDIO URBANO ANTE SISMO</td>\n",
       "      <td>10.0</td>\n",
       "      <td>10.0</td>\n",
       "      <td>0.008153</td>\n",
       "      <td>0.008153</td>\n",
       "      <td>SIN COBERTURA</td>\n",
       "      <td>CON COBERTURA</td>\n",
       "      <td>1.0</td>\n",
       "    </tr>\n",
       "    <tr>\n",
       "      <th>106987</th>\n",
       "      <td>150143088000480</td>\n",
       "      <td>ALTA</td>\n",
       "      <td>VULNERABILIDAD SINTESIS DEL MEDIO URBANO ANTE ...</td>\n",
       "      <td>VILLA MARIA DEL TRIUNFO</td>\n",
       "      <td>MUY ALTO</td>\n",
       "      <td>RIESGO DEL MEDIO URBANO ANTE SISMO</td>\n",
       "      <td>42.0</td>\n",
       "      <td>44.0</td>\n",
       "      <td>0.015187</td>\n",
       "      <td>0.015187</td>\n",
       "      <td>SIN COBERTURA</td>\n",
       "      <td>CON COBERTURA</td>\n",
       "      <td>1.0</td>\n",
       "    </tr>\n",
       "    <tr>\n",
       "      <th>106988</th>\n",
       "      <td>150143088000490</td>\n",
       "      <td>ALTA</td>\n",
       "      <td>VULNERABILIDAD SINTESIS DEL MEDIO URBANO ANTE ...</td>\n",
       "      <td>VILLA MARIA DEL TRIUNFO</td>\n",
       "      <td>MUY ALTO</td>\n",
       "      <td>RIESGO DEL MEDIO URBANO ANTE SISMO</td>\n",
       "      <td>57.0</td>\n",
       "      <td>59.0</td>\n",
       "      <td>0.017048</td>\n",
       "      <td>0.017048</td>\n",
       "      <td>SIN COBERTURA</td>\n",
       "      <td>CON COBERTURA</td>\n",
       "      <td>1.0</td>\n",
       "    </tr>\n",
       "    <tr>\n",
       "      <th>106989</th>\n",
       "      <td>150143088000500</td>\n",
       "      <td>ALTA</td>\n",
       "      <td>VULNERABILIDAD SINTESIS DEL MEDIO URBANO ANTE ...</td>\n",
       "      <td>VILLA MARIA DEL TRIUNFO</td>\n",
       "      <td>MUY ALTO</td>\n",
       "      <td>RIESGO DEL MEDIO URBANO ANTE SISMO</td>\n",
       "      <td>61.0</td>\n",
       "      <td>63.0</td>\n",
       "      <td>0.021286</td>\n",
       "      <td>0.021286</td>\n",
       "      <td>SIN COBERTURA</td>\n",
       "      <td>CON COBERTURA</td>\n",
       "      <td>1.0</td>\n",
       "    </tr>\n",
       "    <tr>\n",
       "      <th>106990</th>\n",
       "      <td>15014308800050A</td>\n",
       "      <td>ALTA</td>\n",
       "      <td>VULNERABILIDAD SINTESIS DEL MEDIO URBANO ANTE ...</td>\n",
       "      <td>VILLA MARIA DEL TRIUNFO</td>\n",
       "      <td>MUY ALTO</td>\n",
       "      <td>RIESGO DEL MEDIO URBANO ANTE SISMO</td>\n",
       "      <td>26.0</td>\n",
       "      <td>27.0</td>\n",
       "      <td>0.011280</td>\n",
       "      <td>0.011280</td>\n",
       "      <td>SIN COBERTURA</td>\n",
       "      <td>CON COBERTURA</td>\n",
       "      <td>1.0</td>\n",
       "    </tr>\n",
       "  </tbody>\n",
       "</table>\n",
       "<p>106991 rows × 13 columns</p>\n",
       "</div>"
      ],
      "text/plain": [
       "             ID_MANZANA  NIV_VULNE  \\\n",
       "0       150101001000010       BAJA   \n",
       "1       150101001000020  SIN VULNE   \n",
       "2       150101001000030  SIN VULNE   \n",
       "3       150101001000040      MEDIA   \n",
       "4       150101001000050       ALTA   \n",
       "...                 ...        ...   \n",
       "106986  150143088000470       ALTA   \n",
       "106987  150143088000480       ALTA   \n",
       "106988  150143088000490       ALTA   \n",
       "106989  150143088000500       ALTA   \n",
       "106990  15014308800050A       ALTA   \n",
       "\n",
       "                                               DESC_VULNE  \\\n",
       "0       VULNERABILIDAD SINTESIS DEL MEDIO URBANO ANTE ...   \n",
       "1                                      SIN VULNERABILIDAD   \n",
       "2                                      SIN VULNERABILIDAD   \n",
       "3       VULNERABILIDAD SINTESIS DEL MEDIO URBANO ANTE ...   \n",
       "4       VULNERABILIDAD SINTESIS DEL MEDIO URBANO ANTE ...   \n",
       "...                                                   ...   \n",
       "106986  VULNERABILIDAD SINTESIS DEL MEDIO URBANO ANTE ...   \n",
       "106987  VULNERABILIDAD SINTESIS DEL MEDIO URBANO ANTE ...   \n",
       "106988  VULNERABILIDAD SINTESIS DEL MEDIO URBANO ANTE ...   \n",
       "106989  VULNERABILIDAD SINTESIS DEL MEDIO URBANO ANTE ...   \n",
       "106990  VULNERABILIDAD SINTESIS DEL MEDIO URBANO ANTE ...   \n",
       "\n",
       "                  NOMBDIST_VULN  NIV_RIESGO  \\\n",
       "0                          LIMA       MEDIO   \n",
       "1                          LIMA  SIN RIESGO   \n",
       "2                          LIMA  SIN RIESGO   \n",
       "3                          LIMA       MEDIO   \n",
       "4                          LIMA        ALTO   \n",
       "...                         ...         ...   \n",
       "106986  VILLA MARIA DEL TRIUNFO    MUY ALTO   \n",
       "106987  VILLA MARIA DEL TRIUNFO    MUY ALTO   \n",
       "106988  VILLA MARIA DEL TRIUNFO    MUY ALTO   \n",
       "106989  VILLA MARIA DEL TRIUNFO    MUY ALTO   \n",
       "106990  VILLA MARIA DEL TRIUNFO    MUY ALTO   \n",
       "\n",
       "                                DESC_RIESG  TOT_POB17  TOT_POB20  DENS_POB17  \\\n",
       "0       RIESGO DEL MEDIO URBANO ANTE SISMO      164.0      170.0    0.065346   \n",
       "1                               SIN RIESGO        4.0        4.0    0.001985   \n",
       "2                               SIN RIESGO       56.0       58.0    0.005767   \n",
       "3       RIESGO DEL MEDIO URBANO ANTE SISMO      235.0      244.0    0.043450   \n",
       "4       RIESGO DEL MEDIO URBANO ANTE SISMO      361.0      374.0    0.071250   \n",
       "...                                    ...        ...        ...         ...   \n",
       "106986  RIESGO DEL MEDIO URBANO ANTE SISMO       10.0       10.0    0.008153   \n",
       "106987  RIESGO DEL MEDIO URBANO ANTE SISMO       42.0       44.0    0.015187   \n",
       "106988  RIESGO DEL MEDIO URBANO ANTE SISMO       57.0       59.0    0.017048   \n",
       "106989  RIESGO DEL MEDIO URBANO ANTE SISMO       61.0       63.0    0.021286   \n",
       "106990  RIESGO DEL MEDIO URBANO ANTE SISMO       26.0       27.0    0.011280   \n",
       "\n",
       "        DENS_POB20       COB_AP17       COB_EE17 TIPO_EE17  \n",
       "0         0.065346  CON COBERTURA  CON COBERTURA       1.0  \n",
       "1         0.001985  CON COBERTURA  CON COBERTURA       1.0  \n",
       "2         0.005767  CON COBERTURA  CON COBERTURA       1.0  \n",
       "3         0.043450  CON COBERTURA  CON COBERTURA       1.0  \n",
       "4         0.071250  CON COBERTURA  CON COBERTURA       1.0  \n",
       "...            ...            ...            ...       ...  \n",
       "106986    0.008153  SIN COBERTURA  CON COBERTURA       1.0  \n",
       "106987    0.015187  SIN COBERTURA  CON COBERTURA       1.0  \n",
       "106988    0.017048  SIN COBERTURA  CON COBERTURA       1.0  \n",
       "106989    0.021286  SIN COBERTURA  CON COBERTURA       1.0  \n",
       "106990    0.011280  SIN COBERTURA  CON COBERTURA       1.0  \n",
       "\n",
       "[106991 rows x 13 columns]"
      ]
     },
     "execution_count": 629,
     "metadata": {},
     "output_type": "execute_result"
    }
   ],
   "source": [
    "df_comp1 = df_clean.drop(columns=['NOMBDIST_RIESG','NOMBDIST_AGUA','NOMBDIST_ELEC','CLASE_x','CLASE_y']).copy()\n",
    "df_comp1"
   ]
  },
  {
   "cell_type": "code",
   "execution_count": 631,
   "id": "c52b2457-81b2-478f-b388-ed1cd51eebc9",
   "metadata": {},
   "outputs": [
    {
     "data": {
      "text/plain": [
       "ID_MANZANA        0\n",
       "NIV_VULNE         0\n",
       "DESC_VULNE        0\n",
       "NOMBDIST_VULN     0\n",
       "NIV_RIESGO        0\n",
       "DESC_RIESG        0\n",
       "TOT_POB17        97\n",
       "TOT_POB20        97\n",
       "DENS_POB17       97\n",
       "DENS_POB20       97\n",
       "COB_AP17          4\n",
       "COB_EE17          4\n",
       "TIPO_EE17         4\n",
       "dtype: int64"
      ]
     },
     "execution_count": 631,
     "metadata": {},
     "output_type": "execute_result"
    }
   ],
   "source": [
    "df_comp1.isnull().sum()"
   ]
  },
  {
   "cell_type": "code",
   "execution_count": 639,
   "id": "c8acd320-497f-4aa4-9442-e9ab737e0cee",
   "metadata": {},
   "outputs": [],
   "source": [
    "df_comp1.to_excel('BD_ManzanasCarac.xlsx',index=False)"
   ]
  },
  {
   "cell_type": "code",
   "execution_count": 635,
   "id": "56f4e0e5-f7b2-4dd3-aefe-c872c8284406",
   "metadata": {},
   "outputs": [
    {
     "data": {
      "text/plain": [
       "ID_MANZANA       106991\n",
       "NIV_VULNE             5\n",
       "DESC_VULNE            2\n",
       "NOMBDIST_VULN        43\n",
       "NIV_RIESGO            5\n",
       "DESC_RIESG            2\n",
       "TOT_POB17           939\n",
       "TOT_POB20           939\n",
       "DENS_POB17        49792\n",
       "DENS_POB20        49792\n",
       "COB_AP17              3\n",
       "COB_EE17              3\n",
       "TIPO_EE17             3\n",
       "dtype: int64"
      ]
     },
     "execution_count": 635,
     "metadata": {},
     "output_type": "execute_result"
    }
   ],
   "source": [
    "df_comp1.nunique()"
   ]
  },
  {
   "cell_type": "markdown",
   "id": "81a3e5d5-7da3-4a39-a5c8-84360d0f7498",
   "metadata": {},
   "source": [
    "### BASE DE DATOS 4"
   ]
  },
  {
   "cell_type": "code",
   "execution_count": 582,
   "id": "9e04ca69-c135-4528-919f-efa5bb8229ce",
   "metadata": {},
   "outputs": [],
   "source": [
    "from functools import reduce\n",
    "\n",
    "df_unido = sal_selected.copy()\n",
    "\n",
    "# Lista de los DataFrames seleccionados que quieres unir\n",
    "dataframes_selected_2 = [vul_agrupado, risk_agrupado, dens_selected, agua_selected, elec_selected]\n",
    "\n",
    "for df in dataframes_selected_2:\n",
    "    df_unido = pd.merge(df_unido, df, on='ID_MANZANA', how='left')"
   ]
  },
  {
   "cell_type": "code",
   "execution_count": 584,
   "id": "bc585e4e-3bba-460f-8aa9-5a815b1fa1a9",
   "metadata": {},
   "outputs": [
    {
     "data": {
      "text/html": [
       "<div>\n",
       "<style scoped>\n",
       "    .dataframe tbody tr th:only-of-type {\n",
       "        vertical-align: middle;\n",
       "    }\n",
       "\n",
       "    .dataframe tbody tr th {\n",
       "        vertical-align: top;\n",
       "    }\n",
       "\n",
       "    .dataframe thead th {\n",
       "        text-align: right;\n",
       "    }\n",
       "</style>\n",
       "<table border=\"1\" class=\"dataframe\">\n",
       "  <thead>\n",
       "    <tr style=\"text-align: right;\">\n",
       "      <th></th>\n",
       "      <th>ID_MANZANA</th>\n",
       "      <th>COD_ES</th>\n",
       "      <th>TIP_EQ</th>\n",
       "      <th>INSTITUTO_ES</th>\n",
       "      <th>NIV_AT_ES</th>\n",
       "      <th>GEST_ES</th>\n",
       "      <th>CAT_ES</th>\n",
       "      <th>NCAT_ES</th>\n",
       "      <th>NOM_EQ</th>\n",
       "      <th>POB_ATEN_20</th>\n",
       "      <th>...</th>\n",
       "      <th>SHAPE_AREA_AGUA</th>\n",
       "      <th>SHAPE_LENGHT_AGUA</th>\n",
       "      <th>COB_EE17</th>\n",
       "      <th>TIPO_EE17</th>\n",
       "      <th>AREA_M2_ELEC</th>\n",
       "      <th>NOMBDIST_ELEC</th>\n",
       "      <th>NOMBPROV_ELEC</th>\n",
       "      <th>NOMBDEP_ELEC</th>\n",
       "      <th>SHAPE_AREA_ELEC</th>\n",
       "      <th>SHAPE_LENGHT_ELEC</th>\n",
       "    </tr>\n",
       "  </thead>\n",
       "  <tbody>\n",
       "    <tr>\n",
       "      <th>0</th>\n",
       "      <td>150137013000570</td>\n",
       "      <td>8318</td>\n",
       "      <td>SALUD</td>\n",
       "      <td>ESSALUD</td>\n",
       "      <td>SEGUNDO NIVEL</td>\n",
       "      <td>PUBLICO</td>\n",
       "      <td>HOSPITAL I</td>\n",
       "      <td>II-1</td>\n",
       "      <td>HOSPITAL I JORGE VOTO BERNALES CORPANCHO</td>\n",
       "      <td>30000</td>\n",
       "      <td>...</td>\n",
       "      <td>360096.75</td>\n",
       "      <td>2980.37</td>\n",
       "      <td>CON COBERTURA</td>\n",
       "      <td>1.0</td>\n",
       "      <td>360096.75</td>\n",
       "      <td>SANTA ANITA</td>\n",
       "      <td>LIMA</td>\n",
       "      <td>LIMA</td>\n",
       "      <td>360096.75</td>\n",
       "      <td>2980.37</td>\n",
       "    </tr>\n",
       "    <tr>\n",
       "      <th>1</th>\n",
       "      <td>150110047000570</td>\n",
       "      <td>27565</td>\n",
       "      <td>SALUD</td>\n",
       "      <td>ESSALUD</td>\n",
       "      <td>SEGUNDO NIVEL</td>\n",
       "      <td>PUBLICO</td>\n",
       "      <td>HOSPITAL I</td>\n",
       "      <td>II-1</td>\n",
       "      <td>HOSPITAL I MARINO MOLINA SCIPPA - ESSALUD</td>\n",
       "      <td>30000</td>\n",
       "      <td>...</td>\n",
       "      <td>46399.52</td>\n",
       "      <td>883.77</td>\n",
       "      <td>CON COBERTURA</td>\n",
       "      <td>1.0</td>\n",
       "      <td>46399.52</td>\n",
       "      <td>COMAS</td>\n",
       "      <td>LIMA</td>\n",
       "      <td>LIMA</td>\n",
       "      <td>46399.52</td>\n",
       "      <td>883.77</td>\n",
       "    </tr>\n",
       "    <tr>\n",
       "      <th>2</th>\n",
       "      <td>150132064000210</td>\n",
       "      <td>8317</td>\n",
       "      <td>SALUD</td>\n",
       "      <td>ESSALUD</td>\n",
       "      <td>SEGUNDO NIVEL</td>\n",
       "      <td>PUBLICO</td>\n",
       "      <td>HOSPITAL I</td>\n",
       "      <td>II-1</td>\n",
       "      <td>HOSPITAL AURELIO DIAZ UFANO Y PERAL</td>\n",
       "      <td>30000</td>\n",
       "      <td>...</td>\n",
       "      <td>6416.95</td>\n",
       "      <td>395.21</td>\n",
       "      <td>CON COBERTURA</td>\n",
       "      <td>1.0</td>\n",
       "      <td>6416.95</td>\n",
       "      <td>SAN JUAN DE LURIGANCHO</td>\n",
       "      <td>LIMA</td>\n",
       "      <td>LIMA</td>\n",
       "      <td>6416.95</td>\n",
       "      <td>395.21</td>\n",
       "    </tr>\n",
       "    <tr>\n",
       "      <th>3</th>\n",
       "      <td>150122004000480</td>\n",
       "      <td>8489</td>\n",
       "      <td>SALUD</td>\n",
       "      <td>ESSALUD</td>\n",
       "      <td>SEGUNDO NIVEL</td>\n",
       "      <td>PUBLICO</td>\n",
       "      <td>HOSPITAL II</td>\n",
       "      <td>II-2</td>\n",
       "      <td>ESSALUD - HOSPITAL III SUÁREZ ANGAMOS</td>\n",
       "      <td>30000</td>\n",
       "      <td>...</td>\n",
       "      <td>9527.26</td>\n",
       "      <td>391.12</td>\n",
       "      <td>CON COBERTURA</td>\n",
       "      <td>1.0</td>\n",
       "      <td>9527.26</td>\n",
       "      <td>MIRAFLORES</td>\n",
       "      <td>LIMA</td>\n",
       "      <td>LIMA</td>\n",
       "      <td>9527.26</td>\n",
       "      <td>391.12</td>\n",
       "    </tr>\n",
       "    <tr>\n",
       "      <th>4</th>\n",
       "      <td>150101020000370</td>\n",
       "      <td>9188</td>\n",
       "      <td>SALUD</td>\n",
       "      <td>ESSALUD</td>\n",
       "      <td>SEGUNDO NIVEL</td>\n",
       "      <td>PUBLICO</td>\n",
       "      <td>HOSPITAL I</td>\n",
       "      <td>II-1</td>\n",
       "      <td>HOSPITAL II RAMON CASTILLA</td>\n",
       "      <td>30000</td>\n",
       "      <td>...</td>\n",
       "      <td>15156.71</td>\n",
       "      <td>477.94</td>\n",
       "      <td>CON COBERTURA</td>\n",
       "      <td>1.0</td>\n",
       "      <td>15156.71</td>\n",
       "      <td>LIMA CERCADO</td>\n",
       "      <td>LIMA</td>\n",
       "      <td>LIMA</td>\n",
       "      <td>15156.71</td>\n",
       "      <td>477.94</td>\n",
       "    </tr>\n",
       "    <tr>\n",
       "      <th>...</th>\n",
       "      <td>...</td>\n",
       "      <td>...</td>\n",
       "      <td>...</td>\n",
       "      <td>...</td>\n",
       "      <td>...</td>\n",
       "      <td>...</td>\n",
       "      <td>...</td>\n",
       "      <td>...</td>\n",
       "      <td>...</td>\n",
       "      <td>...</td>\n",
       "      <td>...</td>\n",
       "      <td>...</td>\n",
       "      <td>...</td>\n",
       "      <td>...</td>\n",
       "      <td>...</td>\n",
       "      <td>...</td>\n",
       "      <td>...</td>\n",
       "      <td>...</td>\n",
       "      <td>...</td>\n",
       "      <td>...</td>\n",
       "      <td>...</td>\n",
       "    </tr>\n",
       "    <tr>\n",
       "      <th>642</th>\n",
       "      <td>15014301800004A</td>\n",
       "      <td>6156</td>\n",
       "      <td>SALUD</td>\n",
       "      <td>MINSA</td>\n",
       "      <td>PRIMER NIVEL</td>\n",
       "      <td>PUBLICO</td>\n",
       "      <td>PUESTO DE SALUD CON MEDICO</td>\n",
       "      <td>I-2</td>\n",
       "      <td>PUESTO DE SALUD VALLE BAJO</td>\n",
       "      <td>3000</td>\n",
       "      <td>...</td>\n",
       "      <td>4046.29</td>\n",
       "      <td>286.10</td>\n",
       "      <td>CON COBERTURA</td>\n",
       "      <td>1.0</td>\n",
       "      <td>4046.29</td>\n",
       "      <td>VILLA MARIA DEL TRIUNFO</td>\n",
       "      <td>LIMA</td>\n",
       "      <td>LIMA</td>\n",
       "      <td>4046.29</td>\n",
       "      <td>286.10</td>\n",
       "    </tr>\n",
       "    <tr>\n",
       "      <th>643</th>\n",
       "      <td>150113001000130</td>\n",
       "      <td>9982</td>\n",
       "      <td>SALUD</td>\n",
       "      <td>PRIVADO</td>\n",
       "      <td>SEGUNDO NIVEL</td>\n",
       "      <td>PRIVADO</td>\n",
       "      <td>HOSPITAL II ESPECIALIZADO</td>\n",
       "      <td>II-E</td>\n",
       "      <td>CLINICA REPROMEDIC</td>\n",
       "      <td>30000</td>\n",
       "      <td>...</td>\n",
       "      <td>9505.53</td>\n",
       "      <td>467.84</td>\n",
       "      <td>CON COBERTURA</td>\n",
       "      <td>1.0</td>\n",
       "      <td>9505.53</td>\n",
       "      <td>JESUS MARIA</td>\n",
       "      <td>LIMA</td>\n",
       "      <td>LIMA</td>\n",
       "      <td>9505.53</td>\n",
       "      <td>467.84</td>\n",
       "    </tr>\n",
       "    <tr>\n",
       "      <th>644</th>\n",
       "      <td>150108003000140</td>\n",
       "      <td>14615</td>\n",
       "      <td>SALUD</td>\n",
       "      <td>SISOL</td>\n",
       "      <td>PRIMER NIVEL</td>\n",
       "      <td>PUBLICO</td>\n",
       "      <td>CENTRO DE SALUD SIN INTERNAMIENTO</td>\n",
       "      <td>I-3</td>\n",
       "      <td>SISOL CHORRILLOS</td>\n",
       "      <td>10000</td>\n",
       "      <td>...</td>\n",
       "      <td>1205818.35</td>\n",
       "      <td>6263.44</td>\n",
       "      <td>NO DATA</td>\n",
       "      <td>3.0</td>\n",
       "      <td>1205818.35</td>\n",
       "      <td>CHORRILLOS</td>\n",
       "      <td>LIMA</td>\n",
       "      <td>LIMA</td>\n",
       "      <td>1205818.35</td>\n",
       "      <td>6263.44</td>\n",
       "    </tr>\n",
       "    <tr>\n",
       "      <th>645</th>\n",
       "      <td>150143055000580</td>\n",
       "      <td>6144</td>\n",
       "      <td>SALUD</td>\n",
       "      <td>MINSA</td>\n",
       "      <td>PRIMER NIVEL</td>\n",
       "      <td>PUBLICO</td>\n",
       "      <td>PUESTO DE SALUD CON MEDICO</td>\n",
       "      <td>I-2</td>\n",
       "      <td>PUESTO DE SALUD CESAR VALLEJO</td>\n",
       "      <td>3000</td>\n",
       "      <td>...</td>\n",
       "      <td>1438.88</td>\n",
       "      <td>159.03</td>\n",
       "      <td>CON COBERTURA</td>\n",
       "      <td>1.0</td>\n",
       "      <td>1438.88</td>\n",
       "      <td>VILLA MARIA DEL TRIUNFO</td>\n",
       "      <td>LIMA</td>\n",
       "      <td>LIMA</td>\n",
       "      <td>1438.88</td>\n",
       "      <td>159.03</td>\n",
       "    </tr>\n",
       "    <tr>\n",
       "      <th>646</th>\n",
       "      <td>150143002000130</td>\n",
       "      <td>6158</td>\n",
       "      <td>SALUD</td>\n",
       "      <td>MINSA</td>\n",
       "      <td>PRIMER NIVEL</td>\n",
       "      <td>PUBLICO</td>\n",
       "      <td>PUESTO DE SALUD CON MEDICO</td>\n",
       "      <td>I-2</td>\n",
       "      <td>PUESTO DE SALUD VILLA LIMATAMBO</td>\n",
       "      <td>3000</td>\n",
       "      <td>...</td>\n",
       "      <td>1966.46</td>\n",
       "      <td>204.82</td>\n",
       "      <td>NO DATA</td>\n",
       "      <td>3.0</td>\n",
       "      <td>1966.46</td>\n",
       "      <td>VILLA MARIA DEL TRIUNFO</td>\n",
       "      <td>LIMA</td>\n",
       "      <td>LIMA</td>\n",
       "      <td>1966.46</td>\n",
       "      <td>204.82</td>\n",
       "    </tr>\n",
       "  </tbody>\n",
       "</table>\n",
       "<p>647 rows × 60 columns</p>\n",
       "</div>"
      ],
      "text/plain": [
       "          ID_MANZANA  COD_ES TIP_EQ INSTITUTO_ES      NIV_AT_ES  GEST_ES  \\\n",
       "0    150137013000570    8318  SALUD      ESSALUD  SEGUNDO NIVEL  PUBLICO   \n",
       "1    150110047000570   27565  SALUD      ESSALUD  SEGUNDO NIVEL  PUBLICO   \n",
       "2    150132064000210    8317  SALUD      ESSALUD  SEGUNDO NIVEL  PUBLICO   \n",
       "3    150122004000480    8489  SALUD      ESSALUD  SEGUNDO NIVEL  PUBLICO   \n",
       "4    150101020000370    9188  SALUD      ESSALUD  SEGUNDO NIVEL  PUBLICO   \n",
       "..               ...     ...    ...          ...            ...      ...   \n",
       "642  15014301800004A    6156  SALUD        MINSA   PRIMER NIVEL  PUBLICO   \n",
       "643  150113001000130    9982  SALUD      PRIVADO  SEGUNDO NIVEL  PRIVADO   \n",
       "644  150108003000140   14615  SALUD        SISOL   PRIMER NIVEL  PUBLICO   \n",
       "645  150143055000580    6144  SALUD        MINSA   PRIMER NIVEL  PUBLICO   \n",
       "646  150143002000130    6158  SALUD        MINSA   PRIMER NIVEL  PUBLICO   \n",
       "\n",
       "                                CAT_ES NCAT_ES  \\\n",
       "0                           HOSPITAL I    II-1   \n",
       "1                           HOSPITAL I    II-1   \n",
       "2                           HOSPITAL I    II-1   \n",
       "3                          HOSPITAL II    II-2   \n",
       "4                           HOSPITAL I    II-1   \n",
       "..                                 ...     ...   \n",
       "642         PUESTO DE SALUD CON MEDICO     I-2   \n",
       "643          HOSPITAL II ESPECIALIZADO    II-E   \n",
       "644  CENTRO DE SALUD SIN INTERNAMIENTO     I-3   \n",
       "645         PUESTO DE SALUD CON MEDICO     I-2   \n",
       "646         PUESTO DE SALUD CON MEDICO     I-2   \n",
       "\n",
       "                                        NOM_EQ  POB_ATEN_20  ...  \\\n",
       "0     HOSPITAL I JORGE VOTO BERNALES CORPANCHO        30000  ...   \n",
       "1    HOSPITAL I MARINO MOLINA SCIPPA - ESSALUD        30000  ...   \n",
       "2          HOSPITAL AURELIO DIAZ UFANO Y PERAL        30000  ...   \n",
       "3        ESSALUD - HOSPITAL III SUÁREZ ANGAMOS        30000  ...   \n",
       "4                   HOSPITAL II RAMON CASTILLA        30000  ...   \n",
       "..                                         ...          ...  ...   \n",
       "642                 PUESTO DE SALUD VALLE BAJO         3000  ...   \n",
       "643                         CLINICA REPROMEDIC        30000  ...   \n",
       "644                           SISOL CHORRILLOS        10000  ...   \n",
       "645              PUESTO DE SALUD CESAR VALLEJO         3000  ...   \n",
       "646            PUESTO DE SALUD VILLA LIMATAMBO         3000  ...   \n",
       "\n",
       "     SHAPE_AREA_AGUA SHAPE_LENGHT_AGUA       COB_EE17 TIPO_EE17  AREA_M2_ELEC  \\\n",
       "0          360096.75           2980.37  CON COBERTURA       1.0     360096.75   \n",
       "1           46399.52            883.77  CON COBERTURA       1.0      46399.52   \n",
       "2            6416.95            395.21  CON COBERTURA       1.0       6416.95   \n",
       "3            9527.26            391.12  CON COBERTURA       1.0       9527.26   \n",
       "4           15156.71            477.94  CON COBERTURA       1.0      15156.71   \n",
       "..               ...               ...            ...       ...           ...   \n",
       "642          4046.29            286.10  CON COBERTURA       1.0       4046.29   \n",
       "643          9505.53            467.84  CON COBERTURA       1.0       9505.53   \n",
       "644       1205818.35           6263.44        NO DATA       3.0    1205818.35   \n",
       "645          1438.88            159.03  CON COBERTURA       1.0       1438.88   \n",
       "646          1966.46            204.82        NO DATA       3.0       1966.46   \n",
       "\n",
       "               NOMBDIST_ELEC NOMBPROV_ELEC NOMBDEP_ELEC SHAPE_AREA_ELEC  \\\n",
       "0                SANTA ANITA          LIMA         LIMA       360096.75   \n",
       "1                      COMAS          LIMA         LIMA        46399.52   \n",
       "2     SAN JUAN DE LURIGANCHO          LIMA         LIMA         6416.95   \n",
       "3                 MIRAFLORES          LIMA         LIMA         9527.26   \n",
       "4               LIMA CERCADO          LIMA         LIMA        15156.71   \n",
       "..                       ...           ...          ...             ...   \n",
       "642  VILLA MARIA DEL TRIUNFO          LIMA         LIMA         4046.29   \n",
       "643              JESUS MARIA          LIMA         LIMA         9505.53   \n",
       "644               CHORRILLOS          LIMA         LIMA      1205818.35   \n",
       "645  VILLA MARIA DEL TRIUNFO          LIMA         LIMA         1438.88   \n",
       "646  VILLA MARIA DEL TRIUNFO          LIMA         LIMA         1966.46   \n",
       "\n",
       "    SHAPE_LENGHT_ELEC  \n",
       "0             2980.37  \n",
       "1              883.77  \n",
       "2              395.21  \n",
       "3              391.12  \n",
       "4              477.94  \n",
       "..                ...  \n",
       "642            286.10  \n",
       "643            467.84  \n",
       "644           6263.44  \n",
       "645            159.03  \n",
       "646            204.82  \n",
       "\n",
       "[647 rows x 60 columns]"
      ]
     },
     "execution_count": 584,
     "metadata": {},
     "output_type": "execute_result"
    }
   ],
   "source": [
    "df_unido"
   ]
  },
  {
   "cell_type": "code",
   "execution_count": 605,
   "id": "d4a1d0ad-6221-4d52-aeef-acded5f0af8c",
   "metadata": {},
   "outputs": [],
   "source": [
    "df1_unido = df_unido.drop(columns=['SHAPE_AREA_VULN','SHAPE_LENGHT_VULN','SHAPE_AREA_RIESG',\n",
    "                 'SHAPE_LENGHT_RIESG','SHAPE_AREA_DENS','SHAPE_LENGHT_DENS',\n",
    "                'SHAPE_AREA_SAL','SHAPE_LENGHT_SAL','SHAPE_AREA_AGUA',\n",
    "                'SHAPE_LENGHT_AGUA','SHAPE_AREA_ELEC','SHAPE_LENGHT_ELEC','COD_VULNE','TIPO_VULNE',\n",
    "                'NOMBPROV_VULN','NOMBDEP_VULN','NOM_PELI_RIESG','NOMBPROV_RIESG','NOMBDEP_RIESG',\n",
    "                'TIP_EQ','NOMBPROV_SAL','NOMBDEP_SAL','NOMBPROV_AGUA','NOMBDEP_AGUA',\n",
    "                'NOMBPROV_ELEC','NOMBDEP_ELEC','AREA_HAS_VULN','COD_RIESGO','AREA_HAS_RIESG',\n",
    "                      'AREA_M2','AREA_M2_AGUA','AREA_M2_ELEC','COD_ES','NOMBDIST_SAL','NOMBDIST_RIESG',\n",
    "                                  'NOMBDIST_AGUA','NOMBDIST_ELEC']).copy()"
   ]
  },
  {
   "cell_type": "code",
   "execution_count": 607,
   "id": "2b91602f-8a12-4af8-922e-f1cbf31f7696",
   "metadata": {},
   "outputs": [
    {
     "data": {
      "text/html": [
       "<div>\n",
       "<style scoped>\n",
       "    .dataframe tbody tr th:only-of-type {\n",
       "        vertical-align: middle;\n",
       "    }\n",
       "\n",
       "    .dataframe tbody tr th {\n",
       "        vertical-align: top;\n",
       "    }\n",
       "\n",
       "    .dataframe thead th {\n",
       "        text-align: right;\n",
       "    }\n",
       "</style>\n",
       "<table border=\"1\" class=\"dataframe\">\n",
       "  <thead>\n",
       "    <tr style=\"text-align: right;\">\n",
       "      <th></th>\n",
       "      <th>ID_MANZANA</th>\n",
       "      <th>INSTITUTO_ES</th>\n",
       "      <th>NIV_AT_ES</th>\n",
       "      <th>GEST_ES</th>\n",
       "      <th>CAT_ES</th>\n",
       "      <th>NCAT_ES</th>\n",
       "      <th>NOM_EQ</th>\n",
       "      <th>POB_ATEN_20</th>\n",
       "      <th>AREA_M2_SAL</th>\n",
       "      <th>NIV_VULNE</th>\n",
       "      <th>...</th>\n",
       "      <th>NIV_RIESGO</th>\n",
       "      <th>DESC_RIESG</th>\n",
       "      <th>CLASE_y</th>\n",
       "      <th>TOT_POB17</th>\n",
       "      <th>TOT_POB20</th>\n",
       "      <th>DENS_POB17</th>\n",
       "      <th>DENS_POB20</th>\n",
       "      <th>COB_AP17</th>\n",
       "      <th>COB_EE17</th>\n",
       "      <th>TIPO_EE17</th>\n",
       "    </tr>\n",
       "  </thead>\n",
       "  <tbody>\n",
       "    <tr>\n",
       "      <th>0</th>\n",
       "      <td>150137013000570</td>\n",
       "      <td>ESSALUD</td>\n",
       "      <td>SEGUNDO NIVEL</td>\n",
       "      <td>PUBLICO</td>\n",
       "      <td>HOSPITAL I</td>\n",
       "      <td>II-1</td>\n",
       "      <td>HOSPITAL I JORGE VOTO BERNALES CORPANCHO</td>\n",
       "      <td>30000</td>\n",
       "      <td>103659.611494</td>\n",
       "      <td>ALTA</td>\n",
       "      <td>...</td>\n",
       "      <td>ALTO</td>\n",
       "      <td>RIESGO DEL MEDIO URBANO ANTE SISMO</td>\n",
       "      <td>3</td>\n",
       "      <td>751</td>\n",
       "      <td>778</td>\n",
       "      <td>0.002086</td>\n",
       "      <td>0.002086</td>\n",
       "      <td>CON COBERTURA</td>\n",
       "      <td>CON COBERTURA</td>\n",
       "      <td>1.0</td>\n",
       "    </tr>\n",
       "    <tr>\n",
       "      <th>1</th>\n",
       "      <td>150110047000570</td>\n",
       "      <td>ESSALUD</td>\n",
       "      <td>SEGUNDO NIVEL</td>\n",
       "      <td>PUBLICO</td>\n",
       "      <td>HOSPITAL I</td>\n",
       "      <td>II-1</td>\n",
       "      <td>HOSPITAL I MARINO MOLINA SCIPPA - ESSALUD</td>\n",
       "      <td>30000</td>\n",
       "      <td>9744.781048</td>\n",
       "      <td>ALTA</td>\n",
       "      <td>...</td>\n",
       "      <td>ALTO</td>\n",
       "      <td>RIESGO DEL MEDIO URBANO ANTE SISMO</td>\n",
       "      <td>3</td>\n",
       "      <td>300</td>\n",
       "      <td>311</td>\n",
       "      <td>0.006466</td>\n",
       "      <td>0.006466</td>\n",
       "      <td>CON COBERTURA</td>\n",
       "      <td>CON COBERTURA</td>\n",
       "      <td>1.0</td>\n",
       "    </tr>\n",
       "    <tr>\n",
       "      <th>2</th>\n",
       "      <td>150132064000210</td>\n",
       "      <td>ESSALUD</td>\n",
       "      <td>SEGUNDO NIVEL</td>\n",
       "      <td>PUBLICO</td>\n",
       "      <td>HOSPITAL I</td>\n",
       "      <td>II-1</td>\n",
       "      <td>HOSPITAL AURELIO DIAZ UFANO Y PERAL</td>\n",
       "      <td>30000</td>\n",
       "      <td>6405.989557</td>\n",
       "      <td>SIN VULNE</td>\n",
       "      <td>...</td>\n",
       "      <td>SIN RIESGO</td>\n",
       "      <td>SIN RIESGO</td>\n",
       "      <td>0</td>\n",
       "      <td>122</td>\n",
       "      <td>126</td>\n",
       "      <td>0.019012</td>\n",
       "      <td>0.019012</td>\n",
       "      <td>CON COBERTURA</td>\n",
       "      <td>CON COBERTURA</td>\n",
       "      <td>1.0</td>\n",
       "    </tr>\n",
       "    <tr>\n",
       "      <th>3</th>\n",
       "      <td>150122004000480</td>\n",
       "      <td>ESSALUD</td>\n",
       "      <td>SEGUNDO NIVEL</td>\n",
       "      <td>PUBLICO</td>\n",
       "      <td>HOSPITAL II</td>\n",
       "      <td>II-2</td>\n",
       "      <td>ESSALUD - HOSPITAL III SUÁREZ ANGAMOS</td>\n",
       "      <td>30000</td>\n",
       "      <td>877.428270</td>\n",
       "      <td>MEDIA</td>\n",
       "      <td>...</td>\n",
       "      <td>MEDIO</td>\n",
       "      <td>RIESGO DEL MEDIO URBANO ANTE SISMO</td>\n",
       "      <td>2</td>\n",
       "      <td>326</td>\n",
       "      <td>338</td>\n",
       "      <td>0.034218</td>\n",
       "      <td>0.034218</td>\n",
       "      <td>CON COBERTURA</td>\n",
       "      <td>CON COBERTURA</td>\n",
       "      <td>1.0</td>\n",
       "    </tr>\n",
       "    <tr>\n",
       "      <th>4</th>\n",
       "      <td>150101020000370</td>\n",
       "      <td>ESSALUD</td>\n",
       "      <td>SEGUNDO NIVEL</td>\n",
       "      <td>PUBLICO</td>\n",
       "      <td>HOSPITAL I</td>\n",
       "      <td>II-1</td>\n",
       "      <td>HOSPITAL II RAMON CASTILLA</td>\n",
       "      <td>30000</td>\n",
       "      <td>7586.999979</td>\n",
       "      <td>SIN VULNE</td>\n",
       "      <td>...</td>\n",
       "      <td>SIN RIESGO</td>\n",
       "      <td>SIN RIESGO</td>\n",
       "      <td>0</td>\n",
       "      <td>79</td>\n",
       "      <td>82</td>\n",
       "      <td>0.005212</td>\n",
       "      <td>0.005212</td>\n",
       "      <td>CON COBERTURA</td>\n",
       "      <td>CON COBERTURA</td>\n",
       "      <td>1.0</td>\n",
       "    </tr>\n",
       "  </tbody>\n",
       "</table>\n",
       "<p>5 rows × 23 columns</p>\n",
       "</div>"
      ],
      "text/plain": [
       "        ID_MANZANA INSTITUTO_ES      NIV_AT_ES  GEST_ES       CAT_ES NCAT_ES  \\\n",
       "0  150137013000570      ESSALUD  SEGUNDO NIVEL  PUBLICO   HOSPITAL I    II-1   \n",
       "1  150110047000570      ESSALUD  SEGUNDO NIVEL  PUBLICO   HOSPITAL I    II-1   \n",
       "2  150132064000210      ESSALUD  SEGUNDO NIVEL  PUBLICO   HOSPITAL I    II-1   \n",
       "3  150122004000480      ESSALUD  SEGUNDO NIVEL  PUBLICO  HOSPITAL II    II-2   \n",
       "4  150101020000370      ESSALUD  SEGUNDO NIVEL  PUBLICO   HOSPITAL I    II-1   \n",
       "\n",
       "                                      NOM_EQ  POB_ATEN_20    AREA_M2_SAL  \\\n",
       "0   HOSPITAL I JORGE VOTO BERNALES CORPANCHO        30000  103659.611494   \n",
       "1  HOSPITAL I MARINO MOLINA SCIPPA - ESSALUD        30000    9744.781048   \n",
       "2        HOSPITAL AURELIO DIAZ UFANO Y PERAL        30000    6405.989557   \n",
       "3      ESSALUD - HOSPITAL III SUÁREZ ANGAMOS        30000     877.428270   \n",
       "4                 HOSPITAL II RAMON CASTILLA        30000    7586.999979   \n",
       "\n",
       "   NIV_VULNE  ...  NIV_RIESGO                          DESC_RIESG  CLASE_y  \\\n",
       "0       ALTA  ...        ALTO  RIESGO DEL MEDIO URBANO ANTE SISMO        3   \n",
       "1       ALTA  ...        ALTO  RIESGO DEL MEDIO URBANO ANTE SISMO        3   \n",
       "2  SIN VULNE  ...  SIN RIESGO                          SIN RIESGO        0   \n",
       "3      MEDIA  ...       MEDIO  RIESGO DEL MEDIO URBANO ANTE SISMO        2   \n",
       "4  SIN VULNE  ...  SIN RIESGO                          SIN RIESGO        0   \n",
       "\n",
       "  TOT_POB17 TOT_POB20  DENS_POB17  DENS_POB20       COB_AP17       COB_EE17  \\\n",
       "0       751       778    0.002086    0.002086  CON COBERTURA  CON COBERTURA   \n",
       "1       300       311    0.006466    0.006466  CON COBERTURA  CON COBERTURA   \n",
       "2       122       126    0.019012    0.019012  CON COBERTURA  CON COBERTURA   \n",
       "3       326       338    0.034218    0.034218  CON COBERTURA  CON COBERTURA   \n",
       "4        79        82    0.005212    0.005212  CON COBERTURA  CON COBERTURA   \n",
       "\n",
       "   TIPO_EE17  \n",
       "0        1.0  \n",
       "1        1.0  \n",
       "2        1.0  \n",
       "3        1.0  \n",
       "4        1.0  \n",
       "\n",
       "[5 rows x 23 columns]"
      ]
     },
     "execution_count": 607,
     "metadata": {},
     "output_type": "execute_result"
    }
   ],
   "source": [
    "df1_unido.head()"
   ]
  },
  {
   "cell_type": "code",
   "execution_count": 603,
   "id": "c4b56628-d96a-4d16-91cb-6089be0ff162",
   "metadata": {},
   "outputs": [
    {
     "data": {
      "text/plain": [
       "ID_MANZANA        0\n",
       "INSTITUTO_ES      0\n",
       "NIV_AT_ES         0\n",
       "GEST_ES           0\n",
       "CAT_ES            0\n",
       "NCAT_ES           0\n",
       "NOM_EQ            0\n",
       "POB_ATEN_20       0\n",
       "AREA_M2_SAL       0\n",
       "NOMBDIST_SAL      0\n",
       "NIV_VULNE         0\n",
       "DESC_VULNE        0\n",
       "NOMBDIST_VULN     0\n",
       "CLASE_x           0\n",
       "NIV_RIESGO        0\n",
       "DESC_RIESG        0\n",
       "NOMBDIST_RIESG    0\n",
       "CLASE_y           0\n",
       "TOT_POB17         0\n",
       "TOT_POB20         0\n",
       "DENS_POB17        0\n",
       "DENS_POB20        0\n",
       "COB_AP17          0\n",
       "NOMBDIST_AGUA     0\n",
       "COB_EE17          0\n",
       "TIPO_EE17         0\n",
       "NOMBDIST_ELEC     0\n",
       "dtype: int64"
      ]
     },
     "execution_count": 603,
     "metadata": {},
     "output_type": "execute_result"
    }
   ],
   "source": [
    "df1_unido.isnull().sum()"
   ]
  },
  {
   "cell_type": "code",
   "execution_count": 641,
   "id": "2a5853dc-ed28-4166-b538-6de409f66a42",
   "metadata": {},
   "outputs": [],
   "source": [
    "df1_unido.to_excel('BD_Centros_Salud.xlsx',index=False)"
   ]
  }
 ],
 "metadata": {
  "kernelspec": {
   "display_name": "Python 3 (ipykernel)",
   "language": "python",
   "name": "python3"
  },
  "language_info": {
   "codemirror_mode": {
    "name": "ipython",
    "version": 3
   },
   "file_extension": ".py",
   "mimetype": "text/x-python",
   "name": "python",
   "nbconvert_exporter": "python",
   "pygments_lexer": "ipython3",
   "version": "3.11.5"
  }
 },
 "nbformat": 4,
 "nbformat_minor": 5
}
