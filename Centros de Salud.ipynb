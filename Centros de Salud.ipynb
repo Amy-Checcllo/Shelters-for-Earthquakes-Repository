{
 "cells": [
  {
   "cell_type": "code",
   "execution_count": 1,
   "id": "62a5127f-6078-425c-94b7-e96d0e890daa",
   "metadata": {},
   "outputs": [],
   "source": [
    "import pandas as pd\n",
    "# Importa libreria geopandas como gpd\n",
    "import geopandas as gpd"
   ]
  },
  {
   "cell_type": "markdown",
   "id": "9d4142cc-2bc7-459b-8667-170bbae68590",
   "metadata": {},
   "source": [
    "# Extracción de las MANZANAS en Shapefile"
   ]
  },
  {
   "cell_type": "code",
   "execution_count": 2,
   "id": "b161a62f-b69f-43bd-a366-94d6fc368857",
   "metadata": {},
   "outputs": [
    {
     "data": {
      "text/plain": [
       "geopandas.geodataframe.GeoDataFrame"
      ]
     },
     "execution_count": 2,
     "metadata": {},
     "output_type": "execute_result"
    }
   ],
   "source": [
    "# Lee archivo shapefile de distritos del norte de Irlanda.\n",
    "# Antes hay que asegurarse de crear la carpeta Shapefiles y subir todos los archivos de Shapefiles.zip\n",
    "gdf_districts = gpd.read_file('MANZANA.shp') # Distritos del norte de Irlanda\n",
    "\n",
    "# muestra el tipo de dato\n",
    "type(gdf_districts)"
   ]
  },
  {
   "cell_type": "code",
   "execution_count": 3,
   "id": "e6529aff-c588-404f-8f86-8a9ee90660b9",
   "metadata": {},
   "outputs": [],
   "source": [
    "gdf_Lima = gdf_districts.copy()\n",
    "gdf_Lima = gdf_Lima[(gdf_Lima.DEPARTAMEN == 'LIMA') & (gdf_Lima.PROVINCIA == 'LIMA')]"
   ]
  },
  {
   "cell_type": "code",
   "execution_count": 5,
   "id": "be26ed75-220f-4863-9508-7c772df204b5",
   "metadata": {},
   "outputs": [
    {
     "data": {
      "text/html": [
       "<div>\n",
       "<style scoped>\n",
       "    .dataframe tbody tr th:only-of-type {\n",
       "        vertical-align: middle;\n",
       "    }\n",
       "\n",
       "    .dataframe tbody tr th {\n",
       "        vertical-align: top;\n",
       "    }\n",
       "\n",
       "    .dataframe thead th {\n",
       "        text-align: right;\n",
       "    }\n",
       "</style>\n",
       "<table border=\"1\" class=\"dataframe\">\n",
       "  <thead>\n",
       "    <tr style=\"text-align: right;\">\n",
       "      <th></th>\n",
       "      <th>IDMANZANA</th>\n",
       "      <th>CODDPTO</th>\n",
       "      <th>CODPROV</th>\n",
       "      <th>CODDIST</th>\n",
       "      <th>CODZONA</th>\n",
       "      <th>SUFZONA</th>\n",
       "      <th>CODMZNA</th>\n",
       "      <th>SUFMZNA</th>\n",
       "      <th>UBIGEO</th>\n",
       "      <th>CODCCPP</th>\n",
       "      <th>DEPARTAMEN</th>\n",
       "      <th>PROVINCIA</th>\n",
       "      <th>DISTRITO</th>\n",
       "      <th>NOMCCCPP</th>\n",
       "      <th>IDCCPP</th>\n",
       "      <th>Shape_STAr</th>\n",
       "      <th>Shape_STLe</th>\n",
       "      <th>geometry</th>\n",
       "    </tr>\n",
       "  </thead>\n",
       "  <tbody>\n",
       "    <tr>\n",
       "      <th>340925</th>\n",
       "      <td>150101013000450</td>\n",
       "      <td>15</td>\n",
       "      <td>01</td>\n",
       "      <td>01</td>\n",
       "      <td>013</td>\n",
       "      <td>00</td>\n",
       "      <td>045</td>\n",
       "      <td>0</td>\n",
       "      <td>150101</td>\n",
       "      <td>0001</td>\n",
       "      <td>LIMA</td>\n",
       "      <td>LIMA</td>\n",
       "      <td>LIMA</td>\n",
       "      <td>LIMA</td>\n",
       "      <td>1501010001</td>\n",
       "      <td>3.140281e-07</td>\n",
       "      <td>0.002454</td>\n",
       "      <td>POLYGON ((-77.06513 -12.05393, -77.06549 -12.0...</td>\n",
       "    </tr>\n",
       "    <tr>\n",
       "      <th>340926</th>\n",
       "      <td>150101013000410</td>\n",
       "      <td>15</td>\n",
       "      <td>01</td>\n",
       "      <td>01</td>\n",
       "      <td>013</td>\n",
       "      <td>00</td>\n",
       "      <td>041</td>\n",
       "      <td>0</td>\n",
       "      <td>150101</td>\n",
       "      <td>0001</td>\n",
       "      <td>LIMA</td>\n",
       "      <td>LIMA</td>\n",
       "      <td>LIMA</td>\n",
       "      <td>LIMA</td>\n",
       "      <td>1501010001</td>\n",
       "      <td>4.670634e-07</td>\n",
       "      <td>0.003969</td>\n",
       "      <td>POLYGON ((-77.06667 -12.0535, -77.0663 -12.053...</td>\n",
       "    </tr>\n",
       "    <tr>\n",
       "      <th>340927</th>\n",
       "      <td>150101013000350</td>\n",
       "      <td>15</td>\n",
       "      <td>01</td>\n",
       "      <td>01</td>\n",
       "      <td>013</td>\n",
       "      <td>00</td>\n",
       "      <td>035</td>\n",
       "      <td>0</td>\n",
       "      <td>150101</td>\n",
       "      <td>0001</td>\n",
       "      <td>LIMA</td>\n",
       "      <td>LIMA</td>\n",
       "      <td>LIMA</td>\n",
       "      <td>LIMA</td>\n",
       "      <td>1501010001</td>\n",
       "      <td>6.790691e-08</td>\n",
       "      <td>0.001773</td>\n",
       "      <td>POLYGON ((-77.06712 -12.05334, -77.06711 -12.0...</td>\n",
       "    </tr>\n",
       "  </tbody>\n",
       "</table>\n",
       "</div>"
      ],
      "text/plain": [
       "              IDMANZANA CODDPTO CODPROV CODDIST CODZONA SUFZONA CODMZNA  \\\n",
       "340925  150101013000450      15      01      01     013      00     045   \n",
       "340926  150101013000410      15      01      01     013      00     041   \n",
       "340927  150101013000350      15      01      01     013      00     035   \n",
       "\n",
       "       SUFMZNA  UBIGEO CODCCPP DEPARTAMEN PROVINCIA DISTRITO NOMCCCPP  \\\n",
       "340925       0  150101    0001       LIMA      LIMA     LIMA     LIMA   \n",
       "340926       0  150101    0001       LIMA      LIMA     LIMA     LIMA   \n",
       "340927       0  150101    0001       LIMA      LIMA     LIMA     LIMA   \n",
       "\n",
       "            IDCCPP    Shape_STAr  Shape_STLe  \\\n",
       "340925  1501010001  3.140281e-07    0.002454   \n",
       "340926  1501010001  4.670634e-07    0.003969   \n",
       "340927  1501010001  6.790691e-08    0.001773   \n",
       "\n",
       "                                                 geometry  \n",
       "340925  POLYGON ((-77.06513 -12.05393, -77.06549 -12.0...  \n",
       "340926  POLYGON ((-77.06667 -12.0535, -77.0663 -12.053...  \n",
       "340927  POLYGON ((-77.06712 -12.05334, -77.06711 -12.0...  "
      ]
     },
     "execution_count": 5,
     "metadata": {},
     "output_type": "execute_result"
    }
   ],
   "source": [
    "gdf_Lima.head(3)"
   ]
  },
  {
   "cell_type": "code",
   "execution_count": 6,
   "id": "0913eb89-081e-430b-a24f-56d5385ddcca",
   "metadata": {},
   "outputs": [
    {
     "data": {
      "text/plain": [
       "(107100, 18)"
      ]
     },
     "execution_count": 6,
     "metadata": {},
     "output_type": "execute_result"
    }
   ],
   "source": [
    "gdf_Lima.shape"
   ]
  },
  {
   "cell_type": "markdown",
   "id": "abb6f0c7-aa70-43bc-b665-851ff270d5b3",
   "metadata": {},
   "source": [
    "# Centros de Salud"
   ]
  },
  {
   "cell_type": "code",
   "execution_count": 8,
   "id": "fccf1907-c384-49a2-a0b8-5c8496e51d12",
   "metadata": {},
   "outputs": [],
   "source": [
    "df_salud = pd.read_excel('BD_Centros_Salud.xlsx')"
   ]
  },
  {
   "cell_type": "code",
   "execution_count": 13,
   "id": "9968060a-c15d-4330-ac1f-0f8b9b5767af",
   "metadata": {},
   "outputs": [
    {
     "data": {
      "text/html": [
       "<div>\n",
       "<style scoped>\n",
       "    .dataframe tbody tr th:only-of-type {\n",
       "        vertical-align: middle;\n",
       "    }\n",
       "\n",
       "    .dataframe tbody tr th {\n",
       "        vertical-align: top;\n",
       "    }\n",
       "\n",
       "    .dataframe thead th {\n",
       "        text-align: right;\n",
       "    }\n",
       "</style>\n",
       "<table border=\"1\" class=\"dataframe\">\n",
       "  <thead>\n",
       "    <tr style=\"text-align: right;\">\n",
       "      <th></th>\n",
       "      <th>ID_MANZANA</th>\n",
       "      <th>INSTITUTO_ES</th>\n",
       "      <th>NIV_AT_ES</th>\n",
       "      <th>GEST_ES</th>\n",
       "      <th>CAT_ES</th>\n",
       "      <th>NCAT_ES</th>\n",
       "      <th>NOM_EQ</th>\n",
       "      <th>POB_ATEN_20</th>\n",
       "      <th>AREA_M2_SAL</th>\n",
       "      <th>NIV_VULNE</th>\n",
       "      <th>...</th>\n",
       "      <th>NIV_RIESGO</th>\n",
       "      <th>DESC_RIESG</th>\n",
       "      <th>CLASE_y</th>\n",
       "      <th>TOT_POB17</th>\n",
       "      <th>TOT_POB20</th>\n",
       "      <th>DENS_POB17</th>\n",
       "      <th>DENS_POB20</th>\n",
       "      <th>COB_AP17</th>\n",
       "      <th>COB_EE17</th>\n",
       "      <th>TIPO_EE17</th>\n",
       "    </tr>\n",
       "  </thead>\n",
       "  <tbody>\n",
       "    <tr>\n",
       "      <th>0</th>\n",
       "      <td>150137013000570</td>\n",
       "      <td>ESSALUD</td>\n",
       "      <td>SEGUNDO NIVEL</td>\n",
       "      <td>PUBLICO</td>\n",
       "      <td>HOSPITAL I</td>\n",
       "      <td>II-1</td>\n",
       "      <td>HOSPITAL I JORGE VOTO BERNALES CORPANCHO</td>\n",
       "      <td>30000</td>\n",
       "      <td>103659.611494</td>\n",
       "      <td>ALTA</td>\n",
       "      <td>...</td>\n",
       "      <td>ALTO</td>\n",
       "      <td>RIESGO DEL MEDIO URBANO ANTE SISMO</td>\n",
       "      <td>3</td>\n",
       "      <td>751</td>\n",
       "      <td>778</td>\n",
       "      <td>0.002086</td>\n",
       "      <td>0.002086</td>\n",
       "      <td>CON COBERTURA</td>\n",
       "      <td>CON COBERTURA</td>\n",
       "      <td>1.0</td>\n",
       "    </tr>\n",
       "    <tr>\n",
       "      <th>1</th>\n",
       "      <td>150110047000570</td>\n",
       "      <td>ESSALUD</td>\n",
       "      <td>SEGUNDO NIVEL</td>\n",
       "      <td>PUBLICO</td>\n",
       "      <td>HOSPITAL I</td>\n",
       "      <td>II-1</td>\n",
       "      <td>HOSPITAL I MARINO MOLINA SCIPPA - ESSALUD</td>\n",
       "      <td>30000</td>\n",
       "      <td>9744.781048</td>\n",
       "      <td>ALTA</td>\n",
       "      <td>...</td>\n",
       "      <td>ALTO</td>\n",
       "      <td>RIESGO DEL MEDIO URBANO ANTE SISMO</td>\n",
       "      <td>3</td>\n",
       "      <td>300</td>\n",
       "      <td>311</td>\n",
       "      <td>0.006466</td>\n",
       "      <td>0.006466</td>\n",
       "      <td>CON COBERTURA</td>\n",
       "      <td>CON COBERTURA</td>\n",
       "      <td>1.0</td>\n",
       "    </tr>\n",
       "    <tr>\n",
       "      <th>2</th>\n",
       "      <td>150132064000210</td>\n",
       "      <td>ESSALUD</td>\n",
       "      <td>SEGUNDO NIVEL</td>\n",
       "      <td>PUBLICO</td>\n",
       "      <td>HOSPITAL I</td>\n",
       "      <td>II-1</td>\n",
       "      <td>HOSPITAL AURELIO DIAZ UFANO Y PERAL</td>\n",
       "      <td>30000</td>\n",
       "      <td>6405.989557</td>\n",
       "      <td>SIN VULNE</td>\n",
       "      <td>...</td>\n",
       "      <td>SIN RIESGO</td>\n",
       "      <td>SIN RIESGO</td>\n",
       "      <td>0</td>\n",
       "      <td>122</td>\n",
       "      <td>126</td>\n",
       "      <td>0.019012</td>\n",
       "      <td>0.019012</td>\n",
       "      <td>CON COBERTURA</td>\n",
       "      <td>CON COBERTURA</td>\n",
       "      <td>1.0</td>\n",
       "    </tr>\n",
       "  </tbody>\n",
       "</table>\n",
       "<p>3 rows × 23 columns</p>\n",
       "</div>"
      ],
      "text/plain": [
       "        ID_MANZANA INSTITUTO_ES      NIV_AT_ES  GEST_ES      CAT_ES NCAT_ES  \\\n",
       "0  150137013000570      ESSALUD  SEGUNDO NIVEL  PUBLICO  HOSPITAL I    II-1   \n",
       "1  150110047000570      ESSALUD  SEGUNDO NIVEL  PUBLICO  HOSPITAL I    II-1   \n",
       "2  150132064000210      ESSALUD  SEGUNDO NIVEL  PUBLICO  HOSPITAL I    II-1   \n",
       "\n",
       "                                      NOM_EQ  POB_ATEN_20    AREA_M2_SAL  \\\n",
       "0   HOSPITAL I JORGE VOTO BERNALES CORPANCHO        30000  103659.611494   \n",
       "1  HOSPITAL I MARINO MOLINA SCIPPA - ESSALUD        30000    9744.781048   \n",
       "2        HOSPITAL AURELIO DIAZ UFANO Y PERAL        30000    6405.989557   \n",
       "\n",
       "   NIV_VULNE  ...  NIV_RIESGO                          DESC_RIESG  CLASE_y  \\\n",
       "0       ALTA  ...        ALTO  RIESGO DEL MEDIO URBANO ANTE SISMO        3   \n",
       "1       ALTA  ...        ALTO  RIESGO DEL MEDIO URBANO ANTE SISMO        3   \n",
       "2  SIN VULNE  ...  SIN RIESGO                          SIN RIESGO        0   \n",
       "\n",
       "  TOT_POB17 TOT_POB20  DENS_POB17  DENS_POB20       COB_AP17       COB_EE17  \\\n",
       "0       751       778    0.002086    0.002086  CON COBERTURA  CON COBERTURA   \n",
       "1       300       311    0.006466    0.006466  CON COBERTURA  CON COBERTURA   \n",
       "2       122       126    0.019012    0.019012  CON COBERTURA  CON COBERTURA   \n",
       "\n",
       "   TIPO_EE17  \n",
       "0        1.0  \n",
       "1        1.0  \n",
       "2        1.0  \n",
       "\n",
       "[3 rows x 23 columns]"
      ]
     },
     "execution_count": 13,
     "metadata": {},
     "output_type": "execute_result"
    }
   ],
   "source": [
    "df_salud.head(3)"
   ]
  },
  {
   "cell_type": "code",
   "execution_count": 14,
   "id": "3bed901d-c733-485d-a828-fb7c55787163",
   "metadata": {},
   "outputs": [
    {
     "data": {
      "text/plain": [
       "Index(['ID_MANZANA', 'INSTITUTO_ES', 'NIV_AT_ES', 'GEST_ES', 'CAT_ES',\n",
       "       'NCAT_ES', 'NOM_EQ', 'POB_ATEN_20', 'AREA_M2_SAL', 'NIV_VULNE',\n",
       "       'DESC_VULNE', 'NOMBDIST_VULN', 'CLASE_x', 'NIV_RIESGO', 'DESC_RIESG',\n",
       "       'CLASE_y', 'TOT_POB17', 'TOT_POB20', 'DENS_POB17', 'DENS_POB20',\n",
       "       'COB_AP17', 'COB_EE17', 'TIPO_EE17'],\n",
       "      dtype='object')"
      ]
     },
     "execution_count": 14,
     "metadata": {},
     "output_type": "execute_result"
    }
   ],
   "source": [
    "df_salud.columns"
   ]
  },
  {
   "cell_type": "code",
   "execution_count": 22,
   "id": "e16b25c2-4986-404c-bbcb-43a2c282c6cf",
   "metadata": {},
   "outputs": [
    {
     "name": "stdout",
     "output_type": "stream",
     "text": [
      "Centros de Salud:  647\n"
     ]
    }
   ],
   "source": [
    "print('Centros de Salud: ', df_salud.shape[0])"
   ]
  },
  {
   "cell_type": "code",
   "execution_count": 15,
   "id": "c13175bc-84c4-459d-a654-515d2386349e",
   "metadata": {},
   "outputs": [],
   "source": [
    "# Renombrar la variable\n",
    "df_salud = df_salud.rename(columns={'CLASE_x': 'CLASE'})\n",
    "# Eliminar la otra columna\n",
    "df_salud = df_salud.drop(columns=['CLASE_y'])"
   ]
  },
  {
   "cell_type": "code",
   "execution_count": 18,
   "id": "69d14576-a7f2-4d05-bcf3-ede0da8e3823",
   "metadata": {},
   "outputs": [],
   "source": [
    "# Cambiar el nombre de cobertura de Agua y Electricidad\n",
    "df_salud = df_salud.rename(columns={'COB_AP17': 'COB_AGUA','COB_EE17': 'COB_ELEC'})"
   ]
  },
  {
   "cell_type": "markdown",
   "id": "5c63bd33-5d71-4364-ae12-ca4818b6e609",
   "metadata": {},
   "source": [
    "## Combinación de Centros de Salud con su Geometry definido"
   ]
  },
  {
   "cell_type": "code",
   "execution_count": 20,
   "id": "8d669b87-f367-4c29-a562-ad789e6deca9",
   "metadata": {},
   "outputs": [],
   "source": [
    "# Convertir la columna ID_MANZANA a string\n",
    "df_salud['ID_MANZANA'] = df_salud['ID_MANZANA'].astype(str)"
   ]
  },
  {
   "cell_type": "code",
   "execution_count": 23,
   "id": "2a60c54e-7c94-4963-9e09-b2449c9b13e7",
   "metadata": {},
   "outputs": [],
   "source": [
    "# CRUZAR DATOS DE SHAPEFILE\n",
    "# Realizar el inner join entre gdf_Lima y df_recreacion_filter\n",
    "# La clave de unión es \"ID_MANZANA\"\n",
    "gdf_salud = df_salud.merge(gdf_Lima, left_on='ID_MANZANA', right_on='IDMANZANA', how='inner')"
   ]
  },
  {
   "cell_type": "code",
   "execution_count": 25,
   "id": "9f24d573-c6d7-45d3-b996-eb8cd6e8f595",
   "metadata": {},
   "outputs": [
    {
     "name": "stdout",
     "output_type": "stream",
     "text": [
      "Centros de Salud que tienen Shapefile:  647\n"
     ]
    }
   ],
   "source": [
    "print('Centros de Salud que tienen Shapefile: ', gdf_salud.shape[0])"
   ]
  },
  {
   "cell_type": "code",
   "execution_count": 31,
   "id": "0e9f9246-0cc2-4eb2-919a-309f48929266",
   "metadata": {},
   "outputs": [
    {
     "data": {
      "text/html": [
       "<div>\n",
       "<style scoped>\n",
       "    .dataframe tbody tr th:only-of-type {\n",
       "        vertical-align: middle;\n",
       "    }\n",
       "\n",
       "    .dataframe tbody tr th {\n",
       "        vertical-align: top;\n",
       "    }\n",
       "\n",
       "    .dataframe thead th {\n",
       "        text-align: right;\n",
       "    }\n",
       "</style>\n",
       "<table border=\"1\" class=\"dataframe\">\n",
       "  <thead>\n",
       "    <tr style=\"text-align: right;\">\n",
       "      <th></th>\n",
       "      <th>ID_MANZANA</th>\n",
       "      <th>INSTITUTO_ES</th>\n",
       "      <th>NIV_AT_ES</th>\n",
       "      <th>GEST_ES</th>\n",
       "      <th>CAT_ES</th>\n",
       "      <th>NCAT_ES</th>\n",
       "      <th>NOM_EQ</th>\n",
       "      <th>POB_ATEN_20</th>\n",
       "      <th>AREA_M2_SAL</th>\n",
       "      <th>NIV_VULNE</th>\n",
       "      <th>...</th>\n",
       "      <th>UBIGEO</th>\n",
       "      <th>CODCCPP</th>\n",
       "      <th>DEPARTAMEN</th>\n",
       "      <th>PROVINCIA</th>\n",
       "      <th>DISTRITO</th>\n",
       "      <th>NOMCCCPP</th>\n",
       "      <th>IDCCPP</th>\n",
       "      <th>Shape_STAr</th>\n",
       "      <th>Shape_STLe</th>\n",
       "      <th>geometry</th>\n",
       "    </tr>\n",
       "  </thead>\n",
       "  <tbody>\n",
       "    <tr>\n",
       "      <th>0</th>\n",
       "      <td>150137013000570</td>\n",
       "      <td>ESSALUD</td>\n",
       "      <td>SEGUNDO NIVEL</td>\n",
       "      <td>PUBLICO</td>\n",
       "      <td>HOSPITAL I</td>\n",
       "      <td>II-1</td>\n",
       "      <td>HOSPITAL I JORGE VOTO BERNALES CORPANCHO</td>\n",
       "      <td>30000</td>\n",
       "      <td>103659.611494</td>\n",
       "      <td>ALTA</td>\n",
       "      <td>...</td>\n",
       "      <td>150137</td>\n",
       "      <td>0001</td>\n",
       "      <td>LIMA</td>\n",
       "      <td>LIMA</td>\n",
       "      <td>SANTA ANITA</td>\n",
       "      <td>SANTA ANITA - LOS FICUS</td>\n",
       "      <td>1501370001</td>\n",
       "      <td>0.00003</td>\n",
       "      <td>0.027115</td>\n",
       "      <td>POLYGON ((-76.94462 -12.04628, -76.94708 -12.0...</td>\n",
       "    </tr>\n",
       "    <tr>\n",
       "      <th>1</th>\n",
       "      <td>150137013000570</td>\n",
       "      <td>ESSALUD</td>\n",
       "      <td>SEGUNDO NIVEL</td>\n",
       "      <td>PUBLICO</td>\n",
       "      <td>HOSPITAL II ESPECIALIZADO</td>\n",
       "      <td>II-E</td>\n",
       "      <td>ESSALUD - CLINICA GERIATRICA SAN ISIDRO LABRADOR</td>\n",
       "      <td>30000</td>\n",
       "      <td>112.382560</td>\n",
       "      <td>ALTA</td>\n",
       "      <td>...</td>\n",
       "      <td>150137</td>\n",
       "      <td>0001</td>\n",
       "      <td>LIMA</td>\n",
       "      <td>LIMA</td>\n",
       "      <td>SANTA ANITA</td>\n",
       "      <td>SANTA ANITA - LOS FICUS</td>\n",
       "      <td>1501370001</td>\n",
       "      <td>0.00003</td>\n",
       "      <td>0.027115</td>\n",
       "      <td>POLYGON ((-76.94462 -12.04628, -76.94708 -12.0...</td>\n",
       "    </tr>\n",
       "    <tr>\n",
       "      <th>2</th>\n",
       "      <td>150137013000570</td>\n",
       "      <td>MINSA</td>\n",
       "      <td>TERCER NIVEL</td>\n",
       "      <td>PUBLICO</td>\n",
       "      <td>HOSPITAL III</td>\n",
       "      <td>III-1</td>\n",
       "      <td>HOSPITAL HERMILIO VALDIZAN</td>\n",
       "      <td>40000</td>\n",
       "      <td>46259.616205</td>\n",
       "      <td>ALTA</td>\n",
       "      <td>...</td>\n",
       "      <td>150137</td>\n",
       "      <td>0001</td>\n",
       "      <td>LIMA</td>\n",
       "      <td>LIMA</td>\n",
       "      <td>SANTA ANITA</td>\n",
       "      <td>SANTA ANITA - LOS FICUS</td>\n",
       "      <td>1501370001</td>\n",
       "      <td>0.00003</td>\n",
       "      <td>0.027115</td>\n",
       "      <td>POLYGON ((-76.94462 -12.04628, -76.94708 -12.0...</td>\n",
       "    </tr>\n",
       "  </tbody>\n",
       "</table>\n",
       "<p>3 rows × 40 columns</p>\n",
       "</div>"
      ],
      "text/plain": [
       "        ID_MANZANA INSTITUTO_ES      NIV_AT_ES  GEST_ES  \\\n",
       "0  150137013000570      ESSALUD  SEGUNDO NIVEL  PUBLICO   \n",
       "1  150137013000570      ESSALUD  SEGUNDO NIVEL  PUBLICO   \n",
       "2  150137013000570        MINSA   TERCER NIVEL  PUBLICO   \n",
       "\n",
       "                      CAT_ES NCAT_ES  \\\n",
       "0                 HOSPITAL I    II-1   \n",
       "1  HOSPITAL II ESPECIALIZADO    II-E   \n",
       "2               HOSPITAL III   III-1   \n",
       "\n",
       "                                             NOM_EQ  POB_ATEN_20  \\\n",
       "0          HOSPITAL I JORGE VOTO BERNALES CORPANCHO        30000   \n",
       "1  ESSALUD - CLINICA GERIATRICA SAN ISIDRO LABRADOR        30000   \n",
       "2                        HOSPITAL HERMILIO VALDIZAN        40000   \n",
       "\n",
       "     AREA_M2_SAL NIV_VULNE  ...  UBIGEO CODCCPP  DEPARTAMEN PROVINCIA  \\\n",
       "0  103659.611494      ALTA  ...  150137    0001        LIMA      LIMA   \n",
       "1     112.382560      ALTA  ...  150137    0001        LIMA      LIMA   \n",
       "2   46259.616205      ALTA  ...  150137    0001        LIMA      LIMA   \n",
       "\n",
       "      DISTRITO                 NOMCCCPP      IDCCPP  Shape_STAr  Shape_STLe  \\\n",
       "0  SANTA ANITA  SANTA ANITA - LOS FICUS  1501370001     0.00003    0.027115   \n",
       "1  SANTA ANITA  SANTA ANITA - LOS FICUS  1501370001     0.00003    0.027115   \n",
       "2  SANTA ANITA  SANTA ANITA - LOS FICUS  1501370001     0.00003    0.027115   \n",
       "\n",
       "                                            geometry  \n",
       "0  POLYGON ((-76.94462 -12.04628, -76.94708 -12.0...  \n",
       "1  POLYGON ((-76.94462 -12.04628, -76.94708 -12.0...  \n",
       "2  POLYGON ((-76.94462 -12.04628, -76.94708 -12.0...  \n",
       "\n",
       "[3 rows x 40 columns]"
      ]
     },
     "execution_count": 31,
     "metadata": {},
     "output_type": "execute_result"
    }
   ],
   "source": [
    "gdf_salud.head(3)"
   ]
  },
  {
   "cell_type": "code",
   "execution_count": 32,
   "id": "d76a994f-4323-4543-aee8-efc49d485969",
   "metadata": {},
   "outputs": [],
   "source": [
    "gdf_salud = gpd.GeoDataFrame(gdf_salud, geometry='geometry')"
   ]
  },
  {
   "cell_type": "markdown",
   "id": "9aca0ba5-c2f0-463d-9b40-2f9751e80b48",
   "metadata": {},
   "source": [
    "## Agregación de Latitud y Longitud"
   ]
  },
  {
   "cell_type": "code",
   "execution_count": 48,
   "id": "4341ad79-804b-4dad-848d-d5d97cdf6774",
   "metadata": {},
   "outputs": [
    {
     "name": "stderr",
     "output_type": "stream",
     "text": [
      "C:\\Users\\amyan\\AppData\\Local\\Temp\\ipykernel_29700\\998231443.py:4: UserWarning: Geometry is in a geographic CRS. Results from 'centroid' are likely incorrect. Use 'GeoSeries.to_crs()' to re-project geometries to a projected CRS before this operation.\n",
      "\n",
      "  gdf_salud_coor['centroid'] = gdf_salud_coor.geometry.centroid\n"
     ]
    }
   ],
   "source": [
    "gdf_salud_coor = gdf_salud.copy()\n",
    "\n",
    "# Calcular los centroides si las geometrías no son puntos\n",
    "gdf_salud_coor['centroid'] = gdf_salud_coor.geometry.centroid\n",
    "\n",
    "# Extraer latitud y longitud desde los centroides\n",
    "gdf_salud_coor['latitud'] = gdf_salud_coor['centroid'].y\n",
    "gdf_salud_coor['longitud'] = gdf_salud_coor['centroid'].x"
   ]
  },
  {
   "cell_type": "code",
   "execution_count": 49,
   "id": "c2fd2284-579c-4be7-8837-8a9a955fe20c",
   "metadata": {},
   "outputs": [
    {
     "data": {
      "text/html": [
       "<div>\n",
       "<style scoped>\n",
       "    .dataframe tbody tr th:only-of-type {\n",
       "        vertical-align: middle;\n",
       "    }\n",
       "\n",
       "    .dataframe tbody tr th {\n",
       "        vertical-align: top;\n",
       "    }\n",
       "\n",
       "    .dataframe thead th {\n",
       "        text-align: right;\n",
       "    }\n",
       "</style>\n",
       "<table border=\"1\" class=\"dataframe\">\n",
       "  <thead>\n",
       "    <tr style=\"text-align: right;\">\n",
       "      <th></th>\n",
       "      <th>ID_MANZANA</th>\n",
       "      <th>INSTITUTO_ES</th>\n",
       "      <th>NIV_AT_ES</th>\n",
       "      <th>GEST_ES</th>\n",
       "      <th>CAT_ES</th>\n",
       "      <th>NCAT_ES</th>\n",
       "      <th>NOM_EQ</th>\n",
       "      <th>POB_ATEN_20</th>\n",
       "      <th>AREA_M2_SAL</th>\n",
       "      <th>NIV_VULNE</th>\n",
       "      <th>...</th>\n",
       "      <th>PROVINCIA</th>\n",
       "      <th>DISTRITO</th>\n",
       "      <th>NOMCCCPP</th>\n",
       "      <th>IDCCPP</th>\n",
       "      <th>Shape_STAr</th>\n",
       "      <th>Shape_STLe</th>\n",
       "      <th>geometry</th>\n",
       "      <th>centroid</th>\n",
       "      <th>latitud</th>\n",
       "      <th>longitud</th>\n",
       "    </tr>\n",
       "  </thead>\n",
       "  <tbody>\n",
       "    <tr>\n",
       "      <th>0</th>\n",
       "      <td>150137013000570</td>\n",
       "      <td>ESSALUD</td>\n",
       "      <td>SEGUNDO NIVEL</td>\n",
       "      <td>PUBLICO</td>\n",
       "      <td>HOSPITAL I</td>\n",
       "      <td>II-1</td>\n",
       "      <td>HOSPITAL I JORGE VOTO BERNALES CORPANCHO</td>\n",
       "      <td>30000</td>\n",
       "      <td>103659.611494</td>\n",
       "      <td>ALTA</td>\n",
       "      <td>...</td>\n",
       "      <td>LIMA</td>\n",
       "      <td>SANTA ANITA</td>\n",
       "      <td>SANTA ANITA - LOS FICUS</td>\n",
       "      <td>1501370001</td>\n",
       "      <td>0.00003</td>\n",
       "      <td>0.027115</td>\n",
       "      <td>POLYGON ((-76.94462 -12.04628, -76.94708 -12.0...</td>\n",
       "      <td>POINT (-76.94802 -12.04402)</td>\n",
       "      <td>-12.044022</td>\n",
       "      <td>-76.948021</td>\n",
       "    </tr>\n",
       "    <tr>\n",
       "      <th>1</th>\n",
       "      <td>150137013000570</td>\n",
       "      <td>ESSALUD</td>\n",
       "      <td>SEGUNDO NIVEL</td>\n",
       "      <td>PUBLICO</td>\n",
       "      <td>HOSPITAL II ESPECIALIZADO</td>\n",
       "      <td>II-E</td>\n",
       "      <td>ESSALUD - CLINICA GERIATRICA SAN ISIDRO LABRADOR</td>\n",
       "      <td>30000</td>\n",
       "      <td>112.382560</td>\n",
       "      <td>ALTA</td>\n",
       "      <td>...</td>\n",
       "      <td>LIMA</td>\n",
       "      <td>SANTA ANITA</td>\n",
       "      <td>SANTA ANITA - LOS FICUS</td>\n",
       "      <td>1501370001</td>\n",
       "      <td>0.00003</td>\n",
       "      <td>0.027115</td>\n",
       "      <td>POLYGON ((-76.94462 -12.04628, -76.94708 -12.0...</td>\n",
       "      <td>POINT (-76.94802 -12.04402)</td>\n",
       "      <td>-12.044022</td>\n",
       "      <td>-76.948021</td>\n",
       "    </tr>\n",
       "    <tr>\n",
       "      <th>2</th>\n",
       "      <td>150137013000570</td>\n",
       "      <td>MINSA</td>\n",
       "      <td>TERCER NIVEL</td>\n",
       "      <td>PUBLICO</td>\n",
       "      <td>HOSPITAL III</td>\n",
       "      <td>III-1</td>\n",
       "      <td>HOSPITAL HERMILIO VALDIZAN</td>\n",
       "      <td>40000</td>\n",
       "      <td>46259.616205</td>\n",
       "      <td>ALTA</td>\n",
       "      <td>...</td>\n",
       "      <td>LIMA</td>\n",
       "      <td>SANTA ANITA</td>\n",
       "      <td>SANTA ANITA - LOS FICUS</td>\n",
       "      <td>1501370001</td>\n",
       "      <td>0.00003</td>\n",
       "      <td>0.027115</td>\n",
       "      <td>POLYGON ((-76.94462 -12.04628, -76.94708 -12.0...</td>\n",
       "      <td>POINT (-76.94802 -12.04402)</td>\n",
       "      <td>-12.044022</td>\n",
       "      <td>-76.948021</td>\n",
       "    </tr>\n",
       "  </tbody>\n",
       "</table>\n",
       "<p>3 rows × 43 columns</p>\n",
       "</div>"
      ],
      "text/plain": [
       "        ID_MANZANA INSTITUTO_ES      NIV_AT_ES  GEST_ES  \\\n",
       "0  150137013000570      ESSALUD  SEGUNDO NIVEL  PUBLICO   \n",
       "1  150137013000570      ESSALUD  SEGUNDO NIVEL  PUBLICO   \n",
       "2  150137013000570        MINSA   TERCER NIVEL  PUBLICO   \n",
       "\n",
       "                      CAT_ES NCAT_ES  \\\n",
       "0                 HOSPITAL I    II-1   \n",
       "1  HOSPITAL II ESPECIALIZADO    II-E   \n",
       "2               HOSPITAL III   III-1   \n",
       "\n",
       "                                             NOM_EQ  POB_ATEN_20  \\\n",
       "0          HOSPITAL I JORGE VOTO BERNALES CORPANCHO        30000   \n",
       "1  ESSALUD - CLINICA GERIATRICA SAN ISIDRO LABRADOR        30000   \n",
       "2                        HOSPITAL HERMILIO VALDIZAN        40000   \n",
       "\n",
       "     AREA_M2_SAL NIV_VULNE  ... PROVINCIA     DISTRITO  \\\n",
       "0  103659.611494      ALTA  ...      LIMA  SANTA ANITA   \n",
       "1     112.382560      ALTA  ...      LIMA  SANTA ANITA   \n",
       "2   46259.616205      ALTA  ...      LIMA  SANTA ANITA   \n",
       "\n",
       "                  NOMCCCPP      IDCCPP Shape_STAr  Shape_STLe  \\\n",
       "0  SANTA ANITA - LOS FICUS  1501370001    0.00003    0.027115   \n",
       "1  SANTA ANITA - LOS FICUS  1501370001    0.00003    0.027115   \n",
       "2  SANTA ANITA - LOS FICUS  1501370001    0.00003    0.027115   \n",
       "\n",
       "                                            geometry  \\\n",
       "0  POLYGON ((-76.94462 -12.04628, -76.94708 -12.0...   \n",
       "1  POLYGON ((-76.94462 -12.04628, -76.94708 -12.0...   \n",
       "2  POLYGON ((-76.94462 -12.04628, -76.94708 -12.0...   \n",
       "\n",
       "                      centroid    latitud   longitud  \n",
       "0  POINT (-76.94802 -12.04402) -12.044022 -76.948021  \n",
       "1  POINT (-76.94802 -12.04402) -12.044022 -76.948021  \n",
       "2  POINT (-76.94802 -12.04402) -12.044022 -76.948021  \n",
       "\n",
       "[3 rows x 43 columns]"
      ]
     },
     "execution_count": 49,
     "metadata": {},
     "output_type": "execute_result"
    }
   ],
   "source": [
    "gdf_salud_coor.head(3)"
   ]
  },
  {
   "cell_type": "code",
   "execution_count": 50,
   "id": "dae8faee-14d9-42b7-926c-cf0e734e4436",
   "metadata": {},
   "outputs": [],
   "source": [
    "# Eliminar múltiples columnas que no guardan información relevante\n",
    "gdf_salud_coor = gdf_salud_coor.drop(columns=['IDMANZANA', 'NOMCCCPP', 'IDCCPP'])"
   ]
  },
  {
   "cell_type": "code",
   "execution_count": 51,
   "id": "0db96455-d0b7-4e3d-9504-487dcaf8c9c0",
   "metadata": {},
   "outputs": [],
   "source": [
    "gdf_salud_coor['GEOMETRY'] = gdf_salud_coor.geometry\n",
    "# Eliminar múltiples columnas que no guardan información relevante\n",
    "gdf_salud_coor = gdf_salud_coor.drop(columns=['geometry'])"
   ]
  },
  {
   "cell_type": "code",
   "execution_count": 61,
   "id": "68177e97-7ff1-4beb-8984-5b968835cc96",
   "metadata": {},
   "outputs": [
    {
     "name": "stdout",
     "output_type": "stream",
     "text": [
      "INSTITUTO_ES 12\n"
     ]
    }
   ],
   "source": [
    "# Checar las columnas con nombre de mas de 10 caracteres\n",
    "for col in list(gdf_salud_coor.columns):\n",
    "    if len(col)>10:\n",
    "        print(col,len(col))"
   ]
  },
  {
   "cell_type": "code",
   "execution_count": 55,
   "id": "fbed1dae-d78c-47a7-ab58-4e93a2ed80f5",
   "metadata": {},
   "outputs": [],
   "source": [
    "# La columna NOMBDIST_VULN no tiene importancia, solo tiene un dato: 'LIMA', se procede a ELIMINAR\n",
    "gdf_salud_coor = gdf_salud_coor.drop(columns=['NOMBDIST_VULN'])"
   ]
  },
  {
   "cell_type": "code",
   "execution_count": 56,
   "id": "9e366800-3097-4824-8605-c685609e30b2",
   "metadata": {},
   "outputs": [],
   "source": [
    "gdf_salud_coor = gdf_salud_coor.rename(columns={'INSTITUTO_ES': 'INSTI_ES', 'POB_ATEN_20':'POBATEN_20', 'AREA_M2_SAL':'AREA_M2'})"
   ]
  },
  {
   "cell_type": "code",
   "execution_count": 57,
   "id": "143bdc12-5488-4576-8898-f9fe06ebf4c6",
   "metadata": {},
   "outputs": [],
   "source": [
    "# Eliminar la columna 'centroid' ya que no puede haber 2 columnas de tipo geometry\n",
    "gdf_salud_coor = gdf_salud_coor.drop(columns=['centroid'])"
   ]
  },
  {
   "cell_type": "code",
   "execution_count": 58,
   "id": "d59691b1-f180-4ac7-a807-5bf534b14a2e",
   "metadata": {},
   "outputs": [],
   "source": [
    "# Descargar el archivo de los albergues potenciales como SHAPEFILE\n",
    "gdf_salud_coor = gpd.GeoDataFrame(gdf_salud_coor, geometry='GEOMETRY')"
   ]
  },
  {
   "cell_type": "code",
   "execution_count": 64,
   "id": "a8906f71-3848-4b25-9bef-fbe14cd42751",
   "metadata": {},
   "outputs": [],
   "source": [
    "# Exportar a shapefile\n",
    "gdf_salud_coor.to_file('centros_salud_caracterizados_lima.shp', driver='ESRI Shapefile')"
   ]
  }
 ],
 "metadata": {
  "kernelspec": {
   "display_name": "Python 3 (ipykernel)",
   "language": "python",
   "name": "python3"
  },
  "language_info": {
   "codemirror_mode": {
    "name": "ipython",
    "version": 3
   },
   "file_extension": ".py",
   "mimetype": "text/x-python",
   "name": "python",
   "nbconvert_exporter": "python",
   "pygments_lexer": "ipython3",
   "version": "3.11.7"
  }
 },
 "nbformat": 4,
 "nbformat_minor": 5
}
